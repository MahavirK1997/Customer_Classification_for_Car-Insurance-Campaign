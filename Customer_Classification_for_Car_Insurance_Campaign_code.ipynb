{
 "cells": [
  {
   "cell_type": "code",
   "execution_count": 1,
   "id": "c5223c5e",
   "metadata": {},
   "outputs": [],
   "source": [
    "import numpy as np\n",
    "import pandas as pd\n",
    "import matplotlib.pyplot as plt\n",
    "import seaborn as sns\n",
    "\n",
    "from sklearn.model_selection import train_test_split\n",
    "from sklearn.preprocessing import StandardScaler\n",
    "\n",
    "from sklearn.linear_model import LogisticRegression\n",
    "from sklearn.neighbors import KNeighborsClassifier\n",
    "from sklearn.tree import DecisionTreeClassifier\n",
    "from sklearn.svm import LinearSVC, SVC\n",
    "from sklearn.neural_network import MLPClassifier\n",
    "from sklearn.ensemble import RandomForestClassifier, GradientBoostingClassifier\n",
    "\n",
    "import warnings\n",
    "warnings.filterwarnings(action='ignore')"
   ]
  },
  {
   "cell_type": "code",
   "execution_count": 2,
   "id": "aa6df08e",
   "metadata": {},
   "outputs": [],
   "source": [
    "df = pd.read_csv('D:\\MSIE_SEM_2\\Data Mining\\Project\\carInsurance_train.csv')"
   ]
  },
  {
   "cell_type": "code",
   "execution_count": 3,
   "id": "6afda847",
   "metadata": {},
   "outputs": [
    {
     "data": {
      "text/html": [
       "<div>\n",
       "<style scoped>\n",
       "    .dataframe tbody tr th:only-of-type {\n",
       "        vertical-align: middle;\n",
       "    }\n",
       "\n",
       "    .dataframe tbody tr th {\n",
       "        vertical-align: top;\n",
       "    }\n",
       "\n",
       "    .dataframe thead th {\n",
       "        text-align: right;\n",
       "    }\n",
       "</style>\n",
       "<table border=\"1\" class=\"dataframe\">\n",
       "  <thead>\n",
       "    <tr style=\"text-align: right;\">\n",
       "      <th></th>\n",
       "      <th>Id</th>\n",
       "      <th>Age</th>\n",
       "      <th>Job</th>\n",
       "      <th>Marital</th>\n",
       "      <th>Education</th>\n",
       "      <th>Default</th>\n",
       "      <th>Balance</th>\n",
       "      <th>HHInsurance</th>\n",
       "      <th>CarLoan</th>\n",
       "      <th>Communication</th>\n",
       "      <th>LastContactDay</th>\n",
       "      <th>LastContactMonth</th>\n",
       "      <th>NoOfContacts</th>\n",
       "      <th>DaysPassed</th>\n",
       "      <th>PrevAttempts</th>\n",
       "      <th>Outcome</th>\n",
       "      <th>CallStart</th>\n",
       "      <th>CallEnd</th>\n",
       "      <th>CarInsurance</th>\n",
       "    </tr>\n",
       "  </thead>\n",
       "  <tbody>\n",
       "    <tr>\n",
       "      <th>0</th>\n",
       "      <td>1</td>\n",
       "      <td>32</td>\n",
       "      <td>management</td>\n",
       "      <td>single</td>\n",
       "      <td>tertiary</td>\n",
       "      <td>0</td>\n",
       "      <td>1218</td>\n",
       "      <td>1</td>\n",
       "      <td>0</td>\n",
       "      <td>telephone</td>\n",
       "      <td>28</td>\n",
       "      <td>jan</td>\n",
       "      <td>2</td>\n",
       "      <td>-1</td>\n",
       "      <td>0</td>\n",
       "      <td>NaN</td>\n",
       "      <td>13:45:20</td>\n",
       "      <td>13:46:30</td>\n",
       "      <td>0</td>\n",
       "    </tr>\n",
       "    <tr>\n",
       "      <th>1</th>\n",
       "      <td>2</td>\n",
       "      <td>32</td>\n",
       "      <td>blue-collar</td>\n",
       "      <td>married</td>\n",
       "      <td>primary</td>\n",
       "      <td>0</td>\n",
       "      <td>1156</td>\n",
       "      <td>1</td>\n",
       "      <td>0</td>\n",
       "      <td>NaN</td>\n",
       "      <td>26</td>\n",
       "      <td>may</td>\n",
       "      <td>5</td>\n",
       "      <td>-1</td>\n",
       "      <td>0</td>\n",
       "      <td>NaN</td>\n",
       "      <td>14:49:03</td>\n",
       "      <td>14:52:08</td>\n",
       "      <td>0</td>\n",
       "    </tr>\n",
       "    <tr>\n",
       "      <th>2</th>\n",
       "      <td>3</td>\n",
       "      <td>29</td>\n",
       "      <td>management</td>\n",
       "      <td>single</td>\n",
       "      <td>tertiary</td>\n",
       "      <td>0</td>\n",
       "      <td>637</td>\n",
       "      <td>1</td>\n",
       "      <td>0</td>\n",
       "      <td>cellular</td>\n",
       "      <td>3</td>\n",
       "      <td>jun</td>\n",
       "      <td>1</td>\n",
       "      <td>119</td>\n",
       "      <td>1</td>\n",
       "      <td>failure</td>\n",
       "      <td>16:30:24</td>\n",
       "      <td>16:36:04</td>\n",
       "      <td>1</td>\n",
       "    </tr>\n",
       "    <tr>\n",
       "      <th>3</th>\n",
       "      <td>4</td>\n",
       "      <td>25</td>\n",
       "      <td>student</td>\n",
       "      <td>single</td>\n",
       "      <td>primary</td>\n",
       "      <td>0</td>\n",
       "      <td>373</td>\n",
       "      <td>1</td>\n",
       "      <td>0</td>\n",
       "      <td>cellular</td>\n",
       "      <td>11</td>\n",
       "      <td>may</td>\n",
       "      <td>2</td>\n",
       "      <td>-1</td>\n",
       "      <td>0</td>\n",
       "      <td>NaN</td>\n",
       "      <td>12:06:43</td>\n",
       "      <td>12:20:22</td>\n",
       "      <td>1</td>\n",
       "    </tr>\n",
       "    <tr>\n",
       "      <th>4</th>\n",
       "      <td>5</td>\n",
       "      <td>30</td>\n",
       "      <td>management</td>\n",
       "      <td>married</td>\n",
       "      <td>tertiary</td>\n",
       "      <td>0</td>\n",
       "      <td>2694</td>\n",
       "      <td>0</td>\n",
       "      <td>0</td>\n",
       "      <td>cellular</td>\n",
       "      <td>3</td>\n",
       "      <td>jun</td>\n",
       "      <td>1</td>\n",
       "      <td>-1</td>\n",
       "      <td>0</td>\n",
       "      <td>NaN</td>\n",
       "      <td>14:35:44</td>\n",
       "      <td>14:38:56</td>\n",
       "      <td>0</td>\n",
       "    </tr>\n",
       "    <tr>\n",
       "      <th>...</th>\n",
       "      <td>...</td>\n",
       "      <td>...</td>\n",
       "      <td>...</td>\n",
       "      <td>...</td>\n",
       "      <td>...</td>\n",
       "      <td>...</td>\n",
       "      <td>...</td>\n",
       "      <td>...</td>\n",
       "      <td>...</td>\n",
       "      <td>...</td>\n",
       "      <td>...</td>\n",
       "      <td>...</td>\n",
       "      <td>...</td>\n",
       "      <td>...</td>\n",
       "      <td>...</td>\n",
       "      <td>...</td>\n",
       "      <td>...</td>\n",
       "      <td>...</td>\n",
       "      <td>...</td>\n",
       "    </tr>\n",
       "    <tr>\n",
       "      <th>3995</th>\n",
       "      <td>3996</td>\n",
       "      <td>28</td>\n",
       "      <td>technician</td>\n",
       "      <td>single</td>\n",
       "      <td>tertiary</td>\n",
       "      <td>0</td>\n",
       "      <td>0</td>\n",
       "      <td>1</td>\n",
       "      <td>0</td>\n",
       "      <td>cellular</td>\n",
       "      <td>25</td>\n",
       "      <td>may</td>\n",
       "      <td>1</td>\n",
       "      <td>40</td>\n",
       "      <td>2</td>\n",
       "      <td>failure</td>\n",
       "      <td>17:46:28</td>\n",
       "      <td>17:50:57</td>\n",
       "      <td>1</td>\n",
       "    </tr>\n",
       "    <tr>\n",
       "      <th>3996</th>\n",
       "      <td>3997</td>\n",
       "      <td>49</td>\n",
       "      <td>admin.</td>\n",
       "      <td>divorced</td>\n",
       "      <td>secondary</td>\n",
       "      <td>0</td>\n",
       "      <td>124</td>\n",
       "      <td>1</td>\n",
       "      <td>1</td>\n",
       "      <td>cellular</td>\n",
       "      <td>29</td>\n",
       "      <td>jul</td>\n",
       "      <td>19</td>\n",
       "      <td>-1</td>\n",
       "      <td>0</td>\n",
       "      <td>NaN</td>\n",
       "      <td>14:49:16</td>\n",
       "      <td>14:51:21</td>\n",
       "      <td>0</td>\n",
       "    </tr>\n",
       "    <tr>\n",
       "      <th>3997</th>\n",
       "      <td>3998</td>\n",
       "      <td>27</td>\n",
       "      <td>admin.</td>\n",
       "      <td>single</td>\n",
       "      <td>secondary</td>\n",
       "      <td>0</td>\n",
       "      <td>-400</td>\n",
       "      <td>0</td>\n",
       "      <td>1</td>\n",
       "      <td>cellular</td>\n",
       "      <td>8</td>\n",
       "      <td>jul</td>\n",
       "      <td>1</td>\n",
       "      <td>-1</td>\n",
       "      <td>0</td>\n",
       "      <td>NaN</td>\n",
       "      <td>12:19:03</td>\n",
       "      <td>12:23:53</td>\n",
       "      <td>0</td>\n",
       "    </tr>\n",
       "    <tr>\n",
       "      <th>3998</th>\n",
       "      <td>3999</td>\n",
       "      <td>36</td>\n",
       "      <td>entrepreneur</td>\n",
       "      <td>single</td>\n",
       "      <td>tertiary</td>\n",
       "      <td>0</td>\n",
       "      <td>658</td>\n",
       "      <td>1</td>\n",
       "      <td>0</td>\n",
       "      <td>cellular</td>\n",
       "      <td>29</td>\n",
       "      <td>jan</td>\n",
       "      <td>1</td>\n",
       "      <td>227</td>\n",
       "      <td>3</td>\n",
       "      <td>failure</td>\n",
       "      <td>11:27:35</td>\n",
       "      <td>11:29:14</td>\n",
       "      <td>0</td>\n",
       "    </tr>\n",
       "    <tr>\n",
       "      <th>3999</th>\n",
       "      <td>4000</td>\n",
       "      <td>45</td>\n",
       "      <td>services</td>\n",
       "      <td>married</td>\n",
       "      <td>primary</td>\n",
       "      <td>0</td>\n",
       "      <td>137</td>\n",
       "      <td>1</td>\n",
       "      <td>0</td>\n",
       "      <td>NaN</td>\n",
       "      <td>9</td>\n",
       "      <td>may</td>\n",
       "      <td>2</td>\n",
       "      <td>-1</td>\n",
       "      <td>0</td>\n",
       "      <td>NaN</td>\n",
       "      <td>13:31:48</td>\n",
       "      <td>13:36:22</td>\n",
       "      <td>0</td>\n",
       "    </tr>\n",
       "  </tbody>\n",
       "</table>\n",
       "<p>4000 rows × 19 columns</p>\n",
       "</div>"
      ],
      "text/plain": [
       "        Id  Age           Job   Marital  Education  Default  Balance  \\\n",
       "0        1   32    management    single   tertiary        0     1218   \n",
       "1        2   32   blue-collar   married    primary        0     1156   \n",
       "2        3   29    management    single   tertiary        0      637   \n",
       "3        4   25       student    single    primary        0      373   \n",
       "4        5   30    management   married   tertiary        0     2694   \n",
       "...    ...  ...           ...       ...        ...      ...      ...   \n",
       "3995  3996   28    technician    single   tertiary        0        0   \n",
       "3996  3997   49        admin.  divorced  secondary        0      124   \n",
       "3997  3998   27        admin.    single  secondary        0     -400   \n",
       "3998  3999   36  entrepreneur    single   tertiary        0      658   \n",
       "3999  4000   45      services   married    primary        0      137   \n",
       "\n",
       "      HHInsurance  CarLoan Communication  LastContactDay LastContactMonth  \\\n",
       "0               1        0     telephone              28              jan   \n",
       "1               1        0           NaN              26              may   \n",
       "2               1        0      cellular               3              jun   \n",
       "3               1        0      cellular              11              may   \n",
       "4               0        0      cellular               3              jun   \n",
       "...           ...      ...           ...             ...              ...   \n",
       "3995            1        0      cellular              25              may   \n",
       "3996            1        1      cellular              29              jul   \n",
       "3997            0        1      cellular               8              jul   \n",
       "3998            1        0      cellular              29              jan   \n",
       "3999            1        0           NaN               9              may   \n",
       "\n",
       "      NoOfContacts  DaysPassed  PrevAttempts  Outcome CallStart   CallEnd  \\\n",
       "0                2          -1             0      NaN  13:45:20  13:46:30   \n",
       "1                5          -1             0      NaN  14:49:03  14:52:08   \n",
       "2                1         119             1  failure  16:30:24  16:36:04   \n",
       "3                2          -1             0      NaN  12:06:43  12:20:22   \n",
       "4                1          -1             0      NaN  14:35:44  14:38:56   \n",
       "...            ...         ...           ...      ...       ...       ...   \n",
       "3995             1          40             2  failure  17:46:28  17:50:57   \n",
       "3996            19          -1             0      NaN  14:49:16  14:51:21   \n",
       "3997             1          -1             0      NaN  12:19:03  12:23:53   \n",
       "3998             1         227             3  failure  11:27:35  11:29:14   \n",
       "3999             2          -1             0      NaN  13:31:48  13:36:22   \n",
       "\n",
       "      CarInsurance  \n",
       "0                0  \n",
       "1                0  \n",
       "2                1  \n",
       "3                1  \n",
       "4                0  \n",
       "...            ...  \n",
       "3995             1  \n",
       "3996             0  \n",
       "3997             0  \n",
       "3998             0  \n",
       "3999             0  \n",
       "\n",
       "[4000 rows x 19 columns]"
      ]
     },
     "execution_count": 3,
     "metadata": {},
     "output_type": "execute_result"
    }
   ],
   "source": [
    "df"
   ]
  },
  {
   "cell_type": "code",
   "execution_count": 4,
   "id": "768c0e49",
   "metadata": {},
   "outputs": [],
   "source": [
    "df1 = df.drop(['Communication', 'Outcome'], axis=1)"
   ]
  },
  {
   "cell_type": "code",
   "execution_count": 5,
   "id": "a53f043f",
   "metadata": {},
   "outputs": [],
   "source": [
    "\n",
    "# Drop all rows with at least one null value\n",
    "df2=df1.dropna()"
   ]
  },
  {
   "cell_type": "code",
   "execution_count": 6,
   "id": "a5bd2f13",
   "metadata": {},
   "outputs": [
    {
     "data": {
      "text/html": [
       "<div>\n",
       "<style scoped>\n",
       "    .dataframe tbody tr th:only-of-type {\n",
       "        vertical-align: middle;\n",
       "    }\n",
       "\n",
       "    .dataframe tbody tr th {\n",
       "        vertical-align: top;\n",
       "    }\n",
       "\n",
       "    .dataframe thead th {\n",
       "        text-align: right;\n",
       "    }\n",
       "</style>\n",
       "<table border=\"1\" class=\"dataframe\">\n",
       "  <thead>\n",
       "    <tr style=\"text-align: right;\">\n",
       "      <th></th>\n",
       "      <th>Id</th>\n",
       "      <th>Age</th>\n",
       "      <th>Job</th>\n",
       "      <th>Marital</th>\n",
       "      <th>Education</th>\n",
       "      <th>Default</th>\n",
       "      <th>Balance</th>\n",
       "      <th>HHInsurance</th>\n",
       "      <th>CarLoan</th>\n",
       "      <th>LastContactDay</th>\n",
       "      <th>LastContactMonth</th>\n",
       "      <th>NoOfContacts</th>\n",
       "      <th>DaysPassed</th>\n",
       "      <th>PrevAttempts</th>\n",
       "      <th>CallStart</th>\n",
       "      <th>CallEnd</th>\n",
       "      <th>CarInsurance</th>\n",
       "    </tr>\n",
       "  </thead>\n",
       "  <tbody>\n",
       "    <tr>\n",
       "      <th>0</th>\n",
       "      <td>1</td>\n",
       "      <td>32</td>\n",
       "      <td>management</td>\n",
       "      <td>single</td>\n",
       "      <td>tertiary</td>\n",
       "      <td>0</td>\n",
       "      <td>1218</td>\n",
       "      <td>1</td>\n",
       "      <td>0</td>\n",
       "      <td>28</td>\n",
       "      <td>jan</td>\n",
       "      <td>2</td>\n",
       "      <td>-1</td>\n",
       "      <td>0</td>\n",
       "      <td>13:45:20</td>\n",
       "      <td>13:46:30</td>\n",
       "      <td>0</td>\n",
       "    </tr>\n",
       "    <tr>\n",
       "      <th>1</th>\n",
       "      <td>2</td>\n",
       "      <td>32</td>\n",
       "      <td>blue-collar</td>\n",
       "      <td>married</td>\n",
       "      <td>primary</td>\n",
       "      <td>0</td>\n",
       "      <td>1156</td>\n",
       "      <td>1</td>\n",
       "      <td>0</td>\n",
       "      <td>26</td>\n",
       "      <td>may</td>\n",
       "      <td>5</td>\n",
       "      <td>-1</td>\n",
       "      <td>0</td>\n",
       "      <td>14:49:03</td>\n",
       "      <td>14:52:08</td>\n",
       "      <td>0</td>\n",
       "    </tr>\n",
       "    <tr>\n",
       "      <th>2</th>\n",
       "      <td>3</td>\n",
       "      <td>29</td>\n",
       "      <td>management</td>\n",
       "      <td>single</td>\n",
       "      <td>tertiary</td>\n",
       "      <td>0</td>\n",
       "      <td>637</td>\n",
       "      <td>1</td>\n",
       "      <td>0</td>\n",
       "      <td>3</td>\n",
       "      <td>jun</td>\n",
       "      <td>1</td>\n",
       "      <td>119</td>\n",
       "      <td>1</td>\n",
       "      <td>16:30:24</td>\n",
       "      <td>16:36:04</td>\n",
       "      <td>1</td>\n",
       "    </tr>\n",
       "    <tr>\n",
       "      <th>3</th>\n",
       "      <td>4</td>\n",
       "      <td>25</td>\n",
       "      <td>student</td>\n",
       "      <td>single</td>\n",
       "      <td>primary</td>\n",
       "      <td>0</td>\n",
       "      <td>373</td>\n",
       "      <td>1</td>\n",
       "      <td>0</td>\n",
       "      <td>11</td>\n",
       "      <td>may</td>\n",
       "      <td>2</td>\n",
       "      <td>-1</td>\n",
       "      <td>0</td>\n",
       "      <td>12:06:43</td>\n",
       "      <td>12:20:22</td>\n",
       "      <td>1</td>\n",
       "    </tr>\n",
       "    <tr>\n",
       "      <th>4</th>\n",
       "      <td>5</td>\n",
       "      <td>30</td>\n",
       "      <td>management</td>\n",
       "      <td>married</td>\n",
       "      <td>tertiary</td>\n",
       "      <td>0</td>\n",
       "      <td>2694</td>\n",
       "      <td>0</td>\n",
       "      <td>0</td>\n",
       "      <td>3</td>\n",
       "      <td>jun</td>\n",
       "      <td>1</td>\n",
       "      <td>-1</td>\n",
       "      <td>0</td>\n",
       "      <td>14:35:44</td>\n",
       "      <td>14:38:56</td>\n",
       "      <td>0</td>\n",
       "    </tr>\n",
       "    <tr>\n",
       "      <th>...</th>\n",
       "      <td>...</td>\n",
       "      <td>...</td>\n",
       "      <td>...</td>\n",
       "      <td>...</td>\n",
       "      <td>...</td>\n",
       "      <td>...</td>\n",
       "      <td>...</td>\n",
       "      <td>...</td>\n",
       "      <td>...</td>\n",
       "      <td>...</td>\n",
       "      <td>...</td>\n",
       "      <td>...</td>\n",
       "      <td>...</td>\n",
       "      <td>...</td>\n",
       "      <td>...</td>\n",
       "      <td>...</td>\n",
       "      <td>...</td>\n",
       "    </tr>\n",
       "    <tr>\n",
       "      <th>3995</th>\n",
       "      <td>3996</td>\n",
       "      <td>28</td>\n",
       "      <td>technician</td>\n",
       "      <td>single</td>\n",
       "      <td>tertiary</td>\n",
       "      <td>0</td>\n",
       "      <td>0</td>\n",
       "      <td>1</td>\n",
       "      <td>0</td>\n",
       "      <td>25</td>\n",
       "      <td>may</td>\n",
       "      <td>1</td>\n",
       "      <td>40</td>\n",
       "      <td>2</td>\n",
       "      <td>17:46:28</td>\n",
       "      <td>17:50:57</td>\n",
       "      <td>1</td>\n",
       "    </tr>\n",
       "    <tr>\n",
       "      <th>3996</th>\n",
       "      <td>3997</td>\n",
       "      <td>49</td>\n",
       "      <td>admin.</td>\n",
       "      <td>divorced</td>\n",
       "      <td>secondary</td>\n",
       "      <td>0</td>\n",
       "      <td>124</td>\n",
       "      <td>1</td>\n",
       "      <td>1</td>\n",
       "      <td>29</td>\n",
       "      <td>jul</td>\n",
       "      <td>19</td>\n",
       "      <td>-1</td>\n",
       "      <td>0</td>\n",
       "      <td>14:49:16</td>\n",
       "      <td>14:51:21</td>\n",
       "      <td>0</td>\n",
       "    </tr>\n",
       "    <tr>\n",
       "      <th>3997</th>\n",
       "      <td>3998</td>\n",
       "      <td>27</td>\n",
       "      <td>admin.</td>\n",
       "      <td>single</td>\n",
       "      <td>secondary</td>\n",
       "      <td>0</td>\n",
       "      <td>-400</td>\n",
       "      <td>0</td>\n",
       "      <td>1</td>\n",
       "      <td>8</td>\n",
       "      <td>jul</td>\n",
       "      <td>1</td>\n",
       "      <td>-1</td>\n",
       "      <td>0</td>\n",
       "      <td>12:19:03</td>\n",
       "      <td>12:23:53</td>\n",
       "      <td>0</td>\n",
       "    </tr>\n",
       "    <tr>\n",
       "      <th>3998</th>\n",
       "      <td>3999</td>\n",
       "      <td>36</td>\n",
       "      <td>entrepreneur</td>\n",
       "      <td>single</td>\n",
       "      <td>tertiary</td>\n",
       "      <td>0</td>\n",
       "      <td>658</td>\n",
       "      <td>1</td>\n",
       "      <td>0</td>\n",
       "      <td>29</td>\n",
       "      <td>jan</td>\n",
       "      <td>1</td>\n",
       "      <td>227</td>\n",
       "      <td>3</td>\n",
       "      <td>11:27:35</td>\n",
       "      <td>11:29:14</td>\n",
       "      <td>0</td>\n",
       "    </tr>\n",
       "    <tr>\n",
       "      <th>3999</th>\n",
       "      <td>4000</td>\n",
       "      <td>45</td>\n",
       "      <td>services</td>\n",
       "      <td>married</td>\n",
       "      <td>primary</td>\n",
       "      <td>0</td>\n",
       "      <td>137</td>\n",
       "      <td>1</td>\n",
       "      <td>0</td>\n",
       "      <td>9</td>\n",
       "      <td>may</td>\n",
       "      <td>2</td>\n",
       "      <td>-1</td>\n",
       "      <td>0</td>\n",
       "      <td>13:31:48</td>\n",
       "      <td>13:36:22</td>\n",
       "      <td>0</td>\n",
       "    </tr>\n",
       "  </tbody>\n",
       "</table>\n",
       "<p>3820 rows × 17 columns</p>\n",
       "</div>"
      ],
      "text/plain": [
       "        Id  Age           Job   Marital  Education  Default  Balance  \\\n",
       "0        1   32    management    single   tertiary        0     1218   \n",
       "1        2   32   blue-collar   married    primary        0     1156   \n",
       "2        3   29    management    single   tertiary        0      637   \n",
       "3        4   25       student    single    primary        0      373   \n",
       "4        5   30    management   married   tertiary        0     2694   \n",
       "...    ...  ...           ...       ...        ...      ...      ...   \n",
       "3995  3996   28    technician    single   tertiary        0        0   \n",
       "3996  3997   49        admin.  divorced  secondary        0      124   \n",
       "3997  3998   27        admin.    single  secondary        0     -400   \n",
       "3998  3999   36  entrepreneur    single   tertiary        0      658   \n",
       "3999  4000   45      services   married    primary        0      137   \n",
       "\n",
       "      HHInsurance  CarLoan  LastContactDay LastContactMonth  NoOfContacts  \\\n",
       "0               1        0              28              jan             2   \n",
       "1               1        0              26              may             5   \n",
       "2               1        0               3              jun             1   \n",
       "3               1        0              11              may             2   \n",
       "4               0        0               3              jun             1   \n",
       "...           ...      ...             ...              ...           ...   \n",
       "3995            1        0              25              may             1   \n",
       "3996            1        1              29              jul            19   \n",
       "3997            0        1               8              jul             1   \n",
       "3998            1        0              29              jan             1   \n",
       "3999            1        0               9              may             2   \n",
       "\n",
       "      DaysPassed  PrevAttempts CallStart   CallEnd  CarInsurance  \n",
       "0             -1             0  13:45:20  13:46:30             0  \n",
       "1             -1             0  14:49:03  14:52:08             0  \n",
       "2            119             1  16:30:24  16:36:04             1  \n",
       "3             -1             0  12:06:43  12:20:22             1  \n",
       "4             -1             0  14:35:44  14:38:56             0  \n",
       "...          ...           ...       ...       ...           ...  \n",
       "3995          40             2  17:46:28  17:50:57             1  \n",
       "3996          -1             0  14:49:16  14:51:21             0  \n",
       "3997          -1             0  12:19:03  12:23:53             0  \n",
       "3998         227             3  11:27:35  11:29:14             0  \n",
       "3999          -1             0  13:31:48  13:36:22             0  \n",
       "\n",
       "[3820 rows x 17 columns]"
      ]
     },
     "execution_count": 6,
     "metadata": {},
     "output_type": "execute_result"
    }
   ],
   "source": [
    "df2"
   ]
  },
  {
   "cell_type": "code",
   "execution_count": 7,
   "id": "802895ec",
   "metadata": {},
   "outputs": [],
   "source": [
    "data = df2.copy()"
   ]
  },
  {
   "cell_type": "code",
   "execution_count": 8,
   "id": "ba934d40",
   "metadata": {},
   "outputs": [
    {
     "data": {
      "text/plain": [
       "1    149\n",
       "Name: CarLoan, dtype: int64"
      ]
     },
     "execution_count": 8,
     "metadata": {},
     "output_type": "execute_result"
    }
   ],
   "source": [
    "data[data['CarLoan']==data['CarInsurance']][data['CarLoan']==1]['CarLoan'].value_counts()"
   ]
  },
  {
   "cell_type": "code",
   "execution_count": 9,
   "id": "35413b86",
   "metadata": {},
   "outputs": [
    {
     "data": {
      "image/png": "[encoded data removed]",
      "text/plain": [
       "<Figure size 432x288 with 1 Axes>"
      ]
     },
     "metadata": {
      "needs_background": "light"
     },
     "output_type": "display_data"
    }
   ],
   "source": [
    "data['CarInsurance'].value_counts().plot(kind='bar')\n",
    "plt.title('CarInsurance Featurer Distribution')\n",
    "plt.xlabel('Value')\n",
    "plt.ylabel('counts')\n",
    "plt.show()"
   ]
  },
  {
   "cell_type": "code",
   "execution_count": 10,
   "id": "fdb23da1",
   "metadata": {},
   "outputs": [
    {
     "data": {
      "image/png": "[encoded data removed]",
      "text/plain": [
       "<Figure size 432x288 with 1 Axes>"
      ]
     },
     "metadata": {
      "needs_background": "light"
     },
     "output_type": "display_data"
    }
   ],
   "source": [
    "data['Age'].plot(kind='hist',bins=20)\n",
    "plt.title('Age Distribution')\n",
    "plt.xlabel('Age')\n",
    "plt.show()"
   ]
  },
  {
   "cell_type": "code",
   "execution_count": 11,
   "id": "3ffe4375",
   "metadata": {},
   "outputs": [
    {
     "data": {
      "image/png": "[encoded data removed]",
      "text/plain": [
       "<Figure size 432x288 with 1 Axes>"
      ]
     },
     "metadata": {},
     "output_type": "display_data"
    }
   ],
   "source": [
    "data['Marital'].value_counts().plot(kind='pie')\n",
    "plt.title('Martital Status')\n",
    "plt.show()"
   ]
  },
  {
   "cell_type": "code",
   "execution_count": 12,
   "id": "509dd5ed",
   "metadata": {},
   "outputs": [],
   "source": [
    "# Adding a column with Age Ranges.\n",
    "\n",
    "def agerange(age):\n",
    "    if age >= 18 and age <= 20:\n",
    "        return \"18-20\"\n",
    "    elif age >= 21 and age <= 30:\n",
    "        return \"21-30\"\n",
    "    elif age >= 31 and age <= 40:\n",
    "        return \"31-40\"\n",
    "    elif age >= 41 and age <= 50:\n",
    "        return \"41-50\"\n",
    "    elif age >= 51 and age <= 60:\n",
    "        return \"51-60\"\n",
    "    elif age >= 61 and age <= 70:\n",
    "        return \"61-70\"\n",
    "    elif age >= 71 and age <= 80:\n",
    "        return \"71-80\"\n",
    "    elif age >=81 and age <= 90:\n",
    "        return \"81-90\"\n",
    "    elif age > 90:\n",
    "        return \"Above 90\""
   ]
  },
  {
   "cell_type": "code",
   "execution_count": 13,
   "id": "0f2322ec",
   "metadata": {},
   "outputs": [],
   "source": [
    "data['Age Range']=data['Age'].apply(agerange)"
   ]
  },
  {
   "cell_type": "code",
   "execution_count": 14,
   "id": "f2c7ae3f",
   "metadata": {},
   "outputs": [],
   "source": [
    "# Adding a column with Age Ranges.\n",
    "\n",
    "def balancerange(balance):\n",
    "    if balance < 0:\n",
    "        return \"0\"\n",
    "    elif balance >0 and balance <= 10000:\n",
    "        return \"0-10,000\"\n",
    "    elif balance >10000 and balance <= 20000:\n",
    "        return \"10,000-20,000\"\n",
    "    elif balance >20000 and balance <= 30000:\n",
    "        return \"20,000-30,000\"\n",
    "    elif balance >30000 and balance <= 40000:\n",
    "        return \"30,000-40,000\"\n",
    "    elif balance >40000 and balance <= 50000:\n",
    "        return \"40,000-50,000\"\n",
    "    elif balance >50000 and balance <= 60000:\n",
    "        return \"50,000-60,000\"\n",
    "    elif balance >60000 and balance <= 70000:\n",
    "        return \"60,000-70,000\"\n",
    "    elif balance >70000 and balance <= 80000:\n",
    "        return \"70,000-80,000\"\n",
    "    elif balance >80000 and balance <= 90000:\n",
    "        return \"80,000-90,000\"\n",
    "    elif balance >90000:\n",
    "        return \"90,000-100,000\""
   ]
  },
  {
   "cell_type": "code",
   "execution_count": 15,
   "id": "19974d75",
   "metadata": {},
   "outputs": [
    {
     "data": {
      "image/png": "[encoded data removed]",
      "text/plain": [
       "<Figure size 432x288 with 1 Axes>"
      ]
     },
     "metadata": {
      "needs_background": "light"
     },
     "output_type": "display_data"
    }
   ],
   "source": [
    "import matplotlib.pyplot as plt\n",
    "\n",
    "# create data for x and y axes\n",
    "x = data['Age']\n",
    "y = data['Balance']\n",
    "\n",
    "# create a dictionary to map values to colors\n",
    "color_dict = {0: 'red', 1: 'blue'}\n",
    "\n",
    "# create a list of colors based on the values in data[\"CarInsurance\"]\n",
    "colors = [color_dict[val] for val in data[\"CarInsurance\"]]\n",
    "\n",
    "# create scatter plot with specified colors\n",
    "plt.scatter(x, y, c=colors)\n",
    "\n",
    "# add labels and title\n",
    "plt.title('Scatter Plot For Age VS Balance')\n",
    "plt.xlabel('Age')\n",
    "plt.ylabel('Balance')\n",
    "\n",
    "# create a custom legend for the colors\n",
    "handles = [plt.plot([],[], marker=\"o\", ls=\"\", color=color_dict[val], label=str(val))[0] for val in color_dict.keys()]\n",
    "plt.legend(handles=handles)\n",
    "\n",
    "# display plot\n",
    "plt.show()\n"
   ]
  },
  {
   "cell_type": "code",
   "execution_count": 16,
   "id": "4e09cbbc",
   "metadata": {},
   "outputs": [
    {
     "data": {
      "text/html": [
       "<div>\n",
       "<style scoped>\n",
       "    .dataframe tbody tr th:only-of-type {\n",
       "        vertical-align: middle;\n",
       "    }\n",
       "\n",
       "    .dataframe tbody tr th {\n",
       "        vertical-align: top;\n",
       "    }\n",
       "\n",
       "    .dataframe thead th {\n",
       "        text-align: right;\n",
       "    }\n",
       "</style>\n",
       "<table border=\"1\" class=\"dataframe\">\n",
       "  <thead>\n",
       "    <tr style=\"text-align: right;\">\n",
       "      <th>Job</th>\n",
       "      <th>admin.</th>\n",
       "      <th>blue-collar</th>\n",
       "      <th>entrepreneur</th>\n",
       "      <th>housemaid</th>\n",
       "      <th>management</th>\n",
       "      <th>retired</th>\n",
       "      <th>self-employed</th>\n",
       "      <th>services</th>\n",
       "      <th>student</th>\n",
       "      <th>technician</th>\n",
       "      <th>unemployed</th>\n",
       "    </tr>\n",
       "    <tr>\n",
       "      <th>Age Range</th>\n",
       "      <th></th>\n",
       "      <th></th>\n",
       "      <th></th>\n",
       "      <th></th>\n",
       "      <th></th>\n",
       "      <th></th>\n",
       "      <th></th>\n",
       "      <th></th>\n",
       "      <th></th>\n",
       "      <th></th>\n",
       "      <th></th>\n",
       "    </tr>\n",
       "  </thead>\n",
       "  <tbody>\n",
       "    <tr>\n",
       "      <th>18-20</th>\n",
       "      <td>0</td>\n",
       "      <td>2</td>\n",
       "      <td>0</td>\n",
       "      <td>0</td>\n",
       "      <td>0</td>\n",
       "      <td>0</td>\n",
       "      <td>0</td>\n",
       "      <td>0</td>\n",
       "      <td>12</td>\n",
       "      <td>0</td>\n",
       "      <td>0</td>\n",
       "    </tr>\n",
       "    <tr>\n",
       "      <th>21-30</th>\n",
       "      <td>92</td>\n",
       "      <td>114</td>\n",
       "      <td>12</td>\n",
       "      <td>7</td>\n",
       "      <td>108</td>\n",
       "      <td>0</td>\n",
       "      <td>19</td>\n",
       "      <td>71</td>\n",
       "      <td>81</td>\n",
       "      <td>100</td>\n",
       "      <td>24</td>\n",
       "    </tr>\n",
       "    <tr>\n",
       "      <th>31-40</th>\n",
       "      <td>182</td>\n",
       "      <td>277</td>\n",
       "      <td>44</td>\n",
       "      <td>25</td>\n",
       "      <td>391</td>\n",
       "      <td>3</td>\n",
       "      <td>61</td>\n",
       "      <td>137</td>\n",
       "      <td>12</td>\n",
       "      <td>289</td>\n",
       "      <td>40</td>\n",
       "    </tr>\n",
       "    <tr>\n",
       "      <th>41-50</th>\n",
       "      <td>108</td>\n",
       "      <td>214</td>\n",
       "      <td>33</td>\n",
       "      <td>36</td>\n",
       "      <td>212</td>\n",
       "      <td>9</td>\n",
       "      <td>22</td>\n",
       "      <td>78</td>\n",
       "      <td>1</td>\n",
       "      <td>154</td>\n",
       "      <td>29</td>\n",
       "    </tr>\n",
       "    <tr>\n",
       "      <th>51-60</th>\n",
       "      <td>62</td>\n",
       "      <td>116</td>\n",
       "      <td>26</td>\n",
       "      <td>30</td>\n",
       "      <td>143</td>\n",
       "      <td>93</td>\n",
       "      <td>24</td>\n",
       "      <td>35</td>\n",
       "      <td>0</td>\n",
       "      <td>91</td>\n",
       "      <td>33</td>\n",
       "    </tr>\n",
       "    <tr>\n",
       "      <th>61-70</th>\n",
       "      <td>1</td>\n",
       "      <td>4</td>\n",
       "      <td>3</td>\n",
       "      <td>5</td>\n",
       "      <td>13</td>\n",
       "      <td>65</td>\n",
       "      <td>5</td>\n",
       "      <td>0</td>\n",
       "      <td>0</td>\n",
       "      <td>5</td>\n",
       "      <td>2</td>\n",
       "    </tr>\n",
       "    <tr>\n",
       "      <th>71-80</th>\n",
       "      <td>0</td>\n",
       "      <td>1</td>\n",
       "      <td>0</td>\n",
       "      <td>2</td>\n",
       "      <td>0</td>\n",
       "      <td>49</td>\n",
       "      <td>2</td>\n",
       "      <td>0</td>\n",
       "      <td>0</td>\n",
       "      <td>0</td>\n",
       "      <td>0</td>\n",
       "    </tr>\n",
       "    <tr>\n",
       "      <th>81-90</th>\n",
       "      <td>0</td>\n",
       "      <td>0</td>\n",
       "      <td>0</td>\n",
       "      <td>0</td>\n",
       "      <td>0</td>\n",
       "      <td>10</td>\n",
       "      <td>0</td>\n",
       "      <td>0</td>\n",
       "      <td>0</td>\n",
       "      <td>0</td>\n",
       "      <td>0</td>\n",
       "    </tr>\n",
       "    <tr>\n",
       "      <th>Above 90</th>\n",
       "      <td>0</td>\n",
       "      <td>0</td>\n",
       "      <td>0</td>\n",
       "      <td>0</td>\n",
       "      <td>0</td>\n",
       "      <td>1</td>\n",
       "      <td>0</td>\n",
       "      <td>0</td>\n",
       "      <td>0</td>\n",
       "      <td>0</td>\n",
       "      <td>0</td>\n",
       "    </tr>\n",
       "  </tbody>\n",
       "</table>\n",
       "</div>"
      ],
      "text/plain": [
       "Job        admin.  blue-collar  entrepreneur  housemaid  management  retired  \\\n",
       "Age Range                                                                      \n",
       "18-20           0            2             0          0           0        0   \n",
       "21-30          92          114            12          7         108        0   \n",
       "31-40         182          277            44         25         391        3   \n",
       "41-50         108          214            33         36         212        9   \n",
       "51-60          62          116            26         30         143       93   \n",
       "61-70           1            4             3          5          13       65   \n",
       "71-80           0            1             0          2           0       49   \n",
       "81-90           0            0             0          0           0       10   \n",
       "Above 90        0            0             0          0           0        1   \n",
       "\n",
       "Job        self-employed  services  student  technician  unemployed  \n",
       "Age Range                                                            \n",
       "18-20                  0         0       12           0           0  \n",
       "21-30                 19        71       81         100          24  \n",
       "31-40                 61       137       12         289          40  \n",
       "41-50                 22        78        1         154          29  \n",
       "51-60                 24        35        0          91          33  \n",
       "61-70                  5         0        0           5           2  \n",
       "71-80                  2         0        0           0           0  \n",
       "81-90                  0         0        0           0           0  \n",
       "Above 90               0         0        0           0           0  "
      ]
     },
     "execution_count": 16,
     "metadata": {},
     "output_type": "execute_result"
    }
   ],
   "source": [
    "AgeRange_crosstab=pd.crosstab(index=data['Age Range'],columns=data['Job'])\n",
    "AgeRange_crosstab"
   ]
  },
  {
   "cell_type": "code",
   "execution_count": 17,
   "id": "d1cf645d",
   "metadata": {},
   "outputs": [
    {
     "data": {
      "text/plain": [
       "<matplotlib.legend.Legend at 0x33fa54e3e0>"
      ]
     },
     "execution_count": 17,
     "metadata": {},
     "output_type": "execute_result"
    },
    {
     "data": {
      "image/png": "[encoded data removed]",
      "text/plain": [
       "<Figure size 1440x432 with 1 Axes>"
      ]
     },
     "metadata": {
      "needs_background": "light"
     },
     "output_type": "display_data"
    }
   ],
   "source": [
    "# Plotting the above values.\n",
    "\n",
    "AgeRange_crosstab.plot(kind='bar',stacked=False,figsize=(20,6))\n",
    "plt.xticks(rotation = 0)\n",
    "plt.xlabel('Age Ranges',fontsize=16)\n",
    "plt.ylabel('Job',fontsize=16)\n",
    "plt.title('Analyzing Age w.r.t Job',fontsize=18)\n",
    "plt.legend(title='Job',title_fontsize=15,prop={\"size\":12})"
   ]
  },
  {
   "cell_type": "code",
   "execution_count": 18,
   "id": "efdab299",
   "metadata": {},
   "outputs": [
    {
     "data": {
      "text/html": [
       "<div>\n",
       "<style scoped>\n",
       "    .dataframe tbody tr th:only-of-type {\n",
       "        vertical-align: middle;\n",
       "    }\n",
       "\n",
       "    .dataframe tbody tr th {\n",
       "        vertical-align: top;\n",
       "    }\n",
       "\n",
       "    .dataframe thead th {\n",
       "        text-align: right;\n",
       "    }\n",
       "</style>\n",
       "<table border=\"1\" class=\"dataframe\">\n",
       "  <thead>\n",
       "    <tr style=\"text-align: right;\">\n",
       "      <th>CarInsurance</th>\n",
       "      <th>0</th>\n",
       "      <th>1</th>\n",
       "      <th>Percentage Enrolled</th>\n",
       "    </tr>\n",
       "    <tr>\n",
       "      <th>Age Range</th>\n",
       "      <th></th>\n",
       "      <th></th>\n",
       "      <th></th>\n",
       "    </tr>\n",
       "  </thead>\n",
       "  <tbody>\n",
       "    <tr>\n",
       "      <th>18-20</th>\n",
       "      <td>5</td>\n",
       "      <td>9</td>\n",
       "      <td>64.29</td>\n",
       "    </tr>\n",
       "    <tr>\n",
       "      <th>21-30</th>\n",
       "      <td>330</td>\n",
       "      <td>298</td>\n",
       "      <td>47.45</td>\n",
       "    </tr>\n",
       "    <tr>\n",
       "      <th>31-40</th>\n",
       "      <td>931</td>\n",
       "      <td>530</td>\n",
       "      <td>36.28</td>\n",
       "    </tr>\n",
       "    <tr>\n",
       "      <th>41-50</th>\n",
       "      <td>585</td>\n",
       "      <td>311</td>\n",
       "      <td>34.71</td>\n",
       "    </tr>\n",
       "    <tr>\n",
       "      <th>51-60</th>\n",
       "      <td>411</td>\n",
       "      <td>242</td>\n",
       "      <td>37.06</td>\n",
       "    </tr>\n",
       "    <tr>\n",
       "      <th>61-70</th>\n",
       "      <td>20</td>\n",
       "      <td>83</td>\n",
       "      <td>80.58</td>\n",
       "    </tr>\n",
       "    <tr>\n",
       "      <th>71-80</th>\n",
       "      <td>15</td>\n",
       "      <td>39</td>\n",
       "      <td>72.22</td>\n",
       "    </tr>\n",
       "    <tr>\n",
       "      <th>81-90</th>\n",
       "      <td>2</td>\n",
       "      <td>8</td>\n",
       "      <td>80.00</td>\n",
       "    </tr>\n",
       "    <tr>\n",
       "      <th>Above 90</th>\n",
       "      <td>0</td>\n",
       "      <td>1</td>\n",
       "      <td>100.00</td>\n",
       "    </tr>\n",
       "  </tbody>\n",
       "</table>\n",
       "</div>"
      ],
      "text/plain": [
       "CarInsurance    0    1  Percentage Enrolled\n",
       "Age Range                                  \n",
       "18-20           5    9                64.29\n",
       "21-30         330  298                47.45\n",
       "31-40         931  530                36.28\n",
       "41-50         585  311                34.71\n",
       "51-60         411  242                37.06\n",
       "61-70          20   83                80.58\n",
       "71-80          15   39                72.22\n",
       "81-90           2    8                80.00\n",
       "Above 90        0    1               100.00"
      ]
     },
     "execution_count": 18,
     "metadata": {},
     "output_type": "execute_result"
    }
   ],
   "source": [
    "# Let's check the age dependancy w.r.t Car Insurance Opting Decisions\n",
    "\n",
    "Age_crosstab=pd.crosstab(index=data['Age Range'],columns=data['CarInsurance'])\n",
    "Age_crosstab['Percentage Enrolled']=round(Age_crosstab[1]/(Age_crosstab[0]+Age_crosstab[1])*100,2)\n",
    "Age_crosstab"
   ]
  },
  {
   "cell_type": "code",
   "execution_count": 19,
   "id": "5c8f1f0d",
   "metadata": {},
   "outputs": [
    {
     "data": {
      "text/plain": [
       "<matplotlib.legend.Legend at 0x33fd81aa10>"
      ]
     },
     "execution_count": 19,
     "metadata": {},
     "output_type": "execute_result"
    },
    {
     "data": {
      "image/png": "[encoded data removed]",
      "text/plain": [
       "<Figure size 1440x432 with 1 Axes>"
      ]
     },
     "metadata": {
      "needs_background": "light"
     },
     "output_type": "display_data"
    }
   ],
   "source": [
    "# Plotting the above values.\n",
    "\n",
    "Age_crosstab.drop(['Percentage Enrolled'], axis=1).plot(kind='bar',stacked=False,figsize=(20,6))\n",
    "plt.xticks(rotation = 0,fontsize=12)\n",
    "plt.xlabel('Age Ranges',fontsize=16)\n",
    "plt.ylabel('Car Insurance',fontsize=16)\n",
    "plt.title('Car Insurance policy Decisions w.r.t Age',fontsize=18)\n",
    "plt.legend(['Rejected','Accepted'],title='Car Insurance',title_fontsize=15,prop={\"size\":12})"
   ]
  },
  {
   "cell_type": "code",
   "execution_count": 20,
   "id": "e20e5f42",
   "metadata": {},
   "outputs": [
    {
     "data": {
      "text/html": [
       "<div>\n",
       "<style scoped>\n",
       "    .dataframe tbody tr th:only-of-type {\n",
       "        vertical-align: middle;\n",
       "    }\n",
       "\n",
       "    .dataframe tbody tr th {\n",
       "        vertical-align: top;\n",
       "    }\n",
       "\n",
       "    .dataframe thead th {\n",
       "        text-align: right;\n",
       "    }\n",
       "</style>\n",
       "<table border=\"1\" class=\"dataframe\">\n",
       "  <thead>\n",
       "    <tr style=\"text-align: right;\">\n",
       "      <th>Car Insurance</th>\n",
       "      <th>0</th>\n",
       "      <th>1</th>\n",
       "      <th>Percentage Enrolled</th>\n",
       "    </tr>\n",
       "    <tr>\n",
       "      <th>Job</th>\n",
       "      <th></th>\n",
       "      <th></th>\n",
       "      <th></th>\n",
       "    </tr>\n",
       "  </thead>\n",
       "  <tbody>\n",
       "    <tr>\n",
       "      <th>admin.</th>\n",
       "      <td>267</td>\n",
       "      <td>178</td>\n",
       "      <td>40.00</td>\n",
       "    </tr>\n",
       "    <tr>\n",
       "      <th>blue-collar</th>\n",
       "      <td>517</td>\n",
       "      <td>211</td>\n",
       "      <td>28.98</td>\n",
       "    </tr>\n",
       "    <tr>\n",
       "      <th>entrepreneur</th>\n",
       "      <td>84</td>\n",
       "      <td>34</td>\n",
       "      <td>28.81</td>\n",
       "    </tr>\n",
       "    <tr>\n",
       "      <th>housemaid</th>\n",
       "      <td>69</td>\n",
       "      <td>36</td>\n",
       "      <td>34.29</td>\n",
       "    </tr>\n",
       "    <tr>\n",
       "      <th>management</th>\n",
       "      <td>493</td>\n",
       "      <td>374</td>\n",
       "      <td>43.14</td>\n",
       "    </tr>\n",
       "    <tr>\n",
       "      <th>retired</th>\n",
       "      <td>94</td>\n",
       "      <td>136</td>\n",
       "      <td>59.13</td>\n",
       "    </tr>\n",
       "    <tr>\n",
       "      <th>self-employed</th>\n",
       "      <td>80</td>\n",
       "      <td>53</td>\n",
       "      <td>39.85</td>\n",
       "    </tr>\n",
       "    <tr>\n",
       "      <th>services</th>\n",
       "      <td>213</td>\n",
       "      <td>108</td>\n",
       "      <td>33.64</td>\n",
       "    </tr>\n",
       "    <tr>\n",
       "      <th>student</th>\n",
       "      <td>36</td>\n",
       "      <td>70</td>\n",
       "      <td>66.04</td>\n",
       "    </tr>\n",
       "    <tr>\n",
       "      <th>technician</th>\n",
       "      <td>391</td>\n",
       "      <td>248</td>\n",
       "      <td>38.81</td>\n",
       "    </tr>\n",
       "    <tr>\n",
       "      <th>unemployed</th>\n",
       "      <td>55</td>\n",
       "      <td>73</td>\n",
       "      <td>57.03</td>\n",
       "    </tr>\n",
       "  </tbody>\n",
       "</table>\n",
       "</div>"
      ],
      "text/plain": [
       "Car Insurance    0    1  Percentage Enrolled\n",
       "Job                                         \n",
       "admin.         267  178                40.00\n",
       "blue-collar    517  211                28.98\n",
       "entrepreneur    84   34                28.81\n",
       "housemaid       69   36                34.29\n",
       "management     493  374                43.14\n",
       "retired         94  136                59.13\n",
       "self-employed   80   53                39.85\n",
       "services       213  108                33.64\n",
       "student         36   70                66.04\n",
       "technician     391  248                38.81\n",
       "unemployed      55   73                57.03"
      ]
     },
     "execution_count": 20,
     "metadata": {},
     "output_type": "execute_result"
    }
   ],
   "source": [
    "# Let's check the Job dependancy w.r.t Car Insurance Opting Decisions\n",
    "\n",
    "Job_crosstab=pd.crosstab(data['Job'],data['CarInsurance'],colnames=['Car Insurance'])\n",
    "Job_crosstab['Percentage Enrolled']=round(Job_crosstab[1]/(Job_crosstab[0]+Job_crosstab[1])*100,2)\n",
    "Job_crosstab"
   ]
  },
  {
   "cell_type": "code",
   "execution_count": 21,
   "id": "82898c66",
   "metadata": {},
   "outputs": [
    {
     "data": {
      "text/plain": [
       "<matplotlib.legend.Legend at 0x33fd939db0>"
      ]
     },
     "execution_count": 21,
     "metadata": {},
     "output_type": "execute_result"
    },
    {
     "data": {
      "image/png": "[encoded data removed]",
      "text/plain": [
       "<Figure size 1440x432 with 1 Axes>"
      ]
     },
     "metadata": {
      "needs_background": "light"
     },
     "output_type": "display_data"
    }
   ],
   "source": [
    "# Plotting the above values.\n",
    "\n",
    "Job_crosstab.drop(['Percentage Enrolled'], axis=1).plot(kind='bar',stacked=False,figsize=(20,6))\n",
    "plt.xticks(rotation = 0,fontsize=12)\n",
    "plt.xlabel('Jobs',fontsize=16)\n",
    "plt.ylabel('Car Insurance',fontsize=16)\n",
    "plt.title('Car Insurance Policy Decisions w.r.t Job',fontsize=18)\n",
    "plt.legend(['Rejected','Accepted'],title='Car Insurance',title_fontsize=15,prop={\"size\":12})"
   ]
  },
  {
   "cell_type": "code",
   "execution_count": 22,
   "id": "7421036e",
   "metadata": {},
   "outputs": [
    {
     "data": {
      "text/html": [
       "<div>\n",
       "<style scoped>\n",
       "    .dataframe tbody tr th:only-of-type {\n",
       "        vertical-align: middle;\n",
       "    }\n",
       "\n",
       "    .dataframe tbody tr th {\n",
       "        vertical-align: top;\n",
       "    }\n",
       "\n",
       "    .dataframe thead th {\n",
       "        text-align: right;\n",
       "    }\n",
       "</style>\n",
       "<table border=\"1\" class=\"dataframe\">\n",
       "  <thead>\n",
       "    <tr style=\"text-align: right;\">\n",
       "      <th>Car Insurance</th>\n",
       "      <th>0</th>\n",
       "      <th>1</th>\n",
       "      <th>Percentage Enrolled</th>\n",
       "    </tr>\n",
       "    <tr>\n",
       "      <th>Marital</th>\n",
       "      <th></th>\n",
       "      <th></th>\n",
       "      <th></th>\n",
       "    </tr>\n",
       "  </thead>\n",
       "  <tbody>\n",
       "    <tr>\n",
       "      <th>divorced</th>\n",
       "      <td>270</td>\n",
       "      <td>204</td>\n",
       "      <td>43.04</td>\n",
       "    </tr>\n",
       "    <tr>\n",
       "      <th>married</th>\n",
       "      <td>1414</td>\n",
       "      <td>787</td>\n",
       "      <td>35.76</td>\n",
       "    </tr>\n",
       "    <tr>\n",
       "      <th>single</th>\n",
       "      <td>615</td>\n",
       "      <td>530</td>\n",
       "      <td>46.29</td>\n",
       "    </tr>\n",
       "  </tbody>\n",
       "</table>\n",
       "</div>"
      ],
      "text/plain": [
       "Car Insurance     0    1  Percentage Enrolled\n",
       "Marital                                      \n",
       "divorced        270  204                43.04\n",
       "married        1414  787                35.76\n",
       "single          615  530                46.29"
      ]
     },
     "execution_count": 22,
     "metadata": {},
     "output_type": "execute_result"
    }
   ],
   "source": [
    "# Let's check the dependancy of marital status on Car Insurance Opting Decisions\n",
    "\n",
    "Marital_crosstab=pd.crosstab(data['Marital'],data['CarInsurance'],colnames=['Car Insurance'])\n",
    "Marital_crosstab['Percentage Enrolled']=round(Marital_crosstab[1]/(Marital_crosstab[0]+Marital_crosstab[1])*100,2)\n",
    "Marital_crosstab"
   ]
  },
  {
   "cell_type": "code",
   "execution_count": 23,
   "id": "fc3f91c0",
   "metadata": {},
   "outputs": [
    {
     "data": {
      "text/plain": [
       "<matplotlib.legend.Legend at 0x33fd9a5180>"
      ]
     },
     "execution_count": 23,
     "metadata": {},
     "output_type": "execute_result"
    },
    {
     "data": {
      "image/png": "[encoded data removed]",
      "text/plain": [
       "<Figure size 1440x432 with 1 Axes>"
      ]
     },
     "metadata": {
      "needs_background": "light"
     },
     "output_type": "display_data"
    }
   ],
   "source": [
    "# Plotting the above values.\n",
    "\n",
    "Marital_crosstab.drop(['Percentage Enrolled'], axis=1).plot(kind='bar',stacked=False,figsize=(20,6))\n",
    "plt.xticks(rotation = 0,fontsize=12)\n",
    "plt.xlabel('Marital Status',fontsize=16)\n",
    "plt.ylabel('Car Insurance',fontsize=16)\n",
    "plt.title('Car Insurance Policy Decisions w.r.t Marital Status',fontsize=18)\n",
    "plt.legend(['Rejected','Accepted'],title='Car Insurance',title_fontsize=15,prop={\"size\":12})"
   ]
  },
  {
   "cell_type": "code",
   "execution_count": 24,
   "id": "0ae5174d",
   "metadata": {},
   "outputs": [
    {
     "data": {
      "text/html": [
       "<div>\n",
       "<style scoped>\n",
       "    .dataframe tbody tr th:only-of-type {\n",
       "        vertical-align: middle;\n",
       "    }\n",
       "\n",
       "    .dataframe tbody tr th {\n",
       "        vertical-align: top;\n",
       "    }\n",
       "\n",
       "    .dataframe thead th {\n",
       "        text-align: right;\n",
       "    }\n",
       "</style>\n",
       "<table border=\"1\" class=\"dataframe\">\n",
       "  <thead>\n",
       "    <tr style=\"text-align: right;\">\n",
       "      <th>Car Insurance</th>\n",
       "      <th>0</th>\n",
       "      <th>1</th>\n",
       "      <th>Percentage Enrolled</th>\n",
       "    </tr>\n",
       "    <tr>\n",
       "      <th>Education</th>\n",
       "      <th></th>\n",
       "      <th></th>\n",
       "      <th></th>\n",
       "    </tr>\n",
       "  </thead>\n",
       "  <tbody>\n",
       "    <tr>\n",
       "      <th>primary</th>\n",
       "      <td>363</td>\n",
       "      <td>194</td>\n",
       "      <td>34.83</td>\n",
       "    </tr>\n",
       "    <tr>\n",
       "      <th>secondary</th>\n",
       "      <td>1256</td>\n",
       "      <td>727</td>\n",
       "      <td>36.66</td>\n",
       "    </tr>\n",
       "    <tr>\n",
       "      <th>tertiary</th>\n",
       "      <td>680</td>\n",
       "      <td>600</td>\n",
       "      <td>46.88</td>\n",
       "    </tr>\n",
       "  </tbody>\n",
       "</table>\n",
       "</div>"
      ],
      "text/plain": [
       "Car Insurance     0    1  Percentage Enrolled\n",
       "Education                                    \n",
       "primary         363  194                34.83\n",
       "secondary      1256  727                36.66\n",
       "tertiary        680  600                46.88"
      ]
     },
     "execution_count": 24,
     "metadata": {},
     "output_type": "execute_result"
    }
   ],
   "source": [
    "# Let's check the dependancy of Education on Car Insurance Opting Decisions\n",
    "\n",
    "Education_crosstab=pd.crosstab(data['Education'],data['CarInsurance'],colnames=['Car Insurance'])\n",
    "Education_crosstab['Percentage Enrolled']=round(Education_crosstab[1]/(Education_crosstab[0]+Education_crosstab[1])*100,2)\n",
    "Education_crosstab"
   ]
  },
  {
   "cell_type": "code",
   "execution_count": 25,
   "id": "fa01bbea",
   "metadata": {},
   "outputs": [
    {
     "data": {
      "text/plain": [
       "<matplotlib.legend.Legend at 0x33fda76fe0>"
      ]
     },
     "execution_count": 25,
     "metadata": {},
     "output_type": "execute_result"
    },
    {
     "data": {
      "image/png": "[encoded data removed]",
      "text/plain": [
       "<Figure size 1440x432 with 1 Axes>"
      ]
     },
     "metadata": {
      "needs_background": "light"
     },
     "output_type": "display_data"
    }
   ],
   "source": [
    "# Plotting the above values.\n",
    "\n",
    "Education_crosstab.drop(['Percentage Enrolled'], axis=1).plot(kind='bar',stacked=False,figsize=(20,6))\n",
    "plt.xticks(rotation = 0,fontsize=12)\n",
    "plt.xlabel('Education',fontsize=16)\n",
    "plt.ylabel('Car Insurance',fontsize=16)\n",
    "plt.title('Car Insurance Policy Decisions w.r.t Education',fontsize=18)\n",
    "plt.legend(['Rejected','Accepted'],title='Car Insurance',title_fontsize=15,prop={\"size\":12})"
   ]
  },
  {
   "cell_type": "code",
   "execution_count": 26,
   "id": "f9d192f8",
   "metadata": {},
   "outputs": [],
   "source": [
    "# Converting the type of \"CallStart\" & \"CallEnd\" to Datetime.\n",
    "\n",
    "data[['CallStart','CallEnd']]=data[['CallStart','CallEnd']].astype('datetime64[ns]')"
   ]
  },
  {
   "cell_type": "code",
   "execution_count": 27,
   "id": "13668323",
   "metadata": {},
   "outputs": [
    {
     "data": {
      "text/plain": [
       "0     70\n",
       "1    185\n",
       "2    340\n",
       "3    819\n",
       "4    192\n",
       "Name: Call_Duration, dtype: int64"
      ]
     },
     "execution_count": 27,
     "metadata": {},
     "output_type": "execute_result"
    }
   ],
   "source": [
    "# Calculating the total Call Duration\n",
    "\n",
    "data['Call_Duration']=data['CallEnd']-data['CallStart']\n",
    "\n",
    "# Extracting the time & converting it to seconds\n",
    "\n",
    "data['Call_Duration']=data['Call_Duration'].dt.components['minutes']*60 + data['Call_Duration'].dt.components['seconds']\n",
    "data['Call_Duration'].head()"
   ]
  },
  {
   "cell_type": "code",
   "execution_count": 28,
   "id": "02c66dc4",
   "metadata": {},
   "outputs": [
    {
     "data": {
      "text/plain": [
       "0     1\n",
       "1     3\n",
       "2     6\n",
       "3    14\n",
       "4     3\n",
       "Name: Call_Duration, dtype: int64"
      ]
     },
     "execution_count": 28,
     "metadata": {},
     "output_type": "execute_result"
    }
   ],
   "source": [
    "# Converting \"Call Duration\" to minutes.\n",
    "\n",
    "data['Call_Duration']=data['Call_Duration'].apply(lambda x: round(x/60),2)\n",
    "data['Call_Duration'].head()"
   ]
  },
  {
   "cell_type": "code",
   "execution_count": 29,
   "id": "9c7e60d4",
   "metadata": {},
   "outputs": [
    {
     "data": {
      "text/html": [
       "<div>\n",
       "<style scoped>\n",
       "    .dataframe tbody tr th:only-of-type {\n",
       "        vertical-align: middle;\n",
       "    }\n",
       "\n",
       "    .dataframe tbody tr th {\n",
       "        vertical-align: top;\n",
       "    }\n",
       "\n",
       "    .dataframe thead th {\n",
       "        text-align: right;\n",
       "    }\n",
       "</style>\n",
       "<table border=\"1\" class=\"dataframe\">\n",
       "  <thead>\n",
       "    <tr style=\"text-align: right;\">\n",
       "      <th>Car Insurance</th>\n",
       "      <th>0</th>\n",
       "      <th>1</th>\n",
       "      <th>Percentage Enrolled</th>\n",
       "    </tr>\n",
       "    <tr>\n",
       "      <th>Call Duration (in minutes)</th>\n",
       "      <th></th>\n",
       "      <th></th>\n",
       "      <th></th>\n",
       "    </tr>\n",
       "  </thead>\n",
       "  <tbody>\n",
       "    <tr>\n",
       "      <th>0</th>\n",
       "      <td>113</td>\n",
       "      <td>1</td>\n",
       "      <td>0.88</td>\n",
       "    </tr>\n",
       "    <tr>\n",
       "      <th>1</th>\n",
       "      <td>409</td>\n",
       "      <td>17</td>\n",
       "      <td>3.99</td>\n",
       "    </tr>\n",
       "    <tr>\n",
       "      <th>2</th>\n",
       "      <td>566</td>\n",
       "      <td>114</td>\n",
       "      <td>16.76</td>\n",
       "    </tr>\n",
       "    <tr>\n",
       "      <th>3</th>\n",
       "      <td>384</td>\n",
       "      <td>151</td>\n",
       "      <td>28.22</td>\n",
       "    </tr>\n",
       "    <tr>\n",
       "      <th>4</th>\n",
       "      <td>236</td>\n",
       "      <td>161</td>\n",
       "      <td>40.55</td>\n",
       "    </tr>\n",
       "    <tr>\n",
       "      <th>5</th>\n",
       "      <td>176</td>\n",
       "      <td>107</td>\n",
       "      <td>37.81</td>\n",
       "    </tr>\n",
       "    <tr>\n",
       "      <th>6</th>\n",
       "      <td>111</td>\n",
       "      <td>107</td>\n",
       "      <td>49.08</td>\n",
       "    </tr>\n",
       "    <tr>\n",
       "      <th>7</th>\n",
       "      <td>84</td>\n",
       "      <td>95</td>\n",
       "      <td>53.07</td>\n",
       "    </tr>\n",
       "    <tr>\n",
       "      <th>8</th>\n",
       "      <td>66</td>\n",
       "      <td>83</td>\n",
       "      <td>55.70</td>\n",
       "    </tr>\n",
       "    <tr>\n",
       "      <th>9</th>\n",
       "      <td>38</td>\n",
       "      <td>86</td>\n",
       "      <td>69.35</td>\n",
       "    </tr>\n",
       "    <tr>\n",
       "      <th>10</th>\n",
       "      <td>31</td>\n",
       "      <td>85</td>\n",
       "      <td>73.28</td>\n",
       "    </tr>\n",
       "    <tr>\n",
       "      <th>11</th>\n",
       "      <td>18</td>\n",
       "      <td>72</td>\n",
       "      <td>80.00</td>\n",
       "    </tr>\n",
       "    <tr>\n",
       "      <th>12</th>\n",
       "      <td>22</td>\n",
       "      <td>60</td>\n",
       "      <td>73.17</td>\n",
       "    </tr>\n",
       "    <tr>\n",
       "      <th>13</th>\n",
       "      <td>12</td>\n",
       "      <td>51</td>\n",
       "      <td>80.95</td>\n",
       "    </tr>\n",
       "    <tr>\n",
       "      <th>14</th>\n",
       "      <td>3</td>\n",
       "      <td>48</td>\n",
       "      <td>94.12</td>\n",
       "    </tr>\n",
       "    <tr>\n",
       "      <th>15</th>\n",
       "      <td>5</td>\n",
       "      <td>44</td>\n",
       "      <td>89.80</td>\n",
       "    </tr>\n",
       "    <tr>\n",
       "      <th>16</th>\n",
       "      <td>2</td>\n",
       "      <td>33</td>\n",
       "      <td>94.29</td>\n",
       "    </tr>\n",
       "    <tr>\n",
       "      <th>17</th>\n",
       "      <td>6</td>\n",
       "      <td>27</td>\n",
       "      <td>81.82</td>\n",
       "    </tr>\n",
       "    <tr>\n",
       "      <th>18</th>\n",
       "      <td>2</td>\n",
       "      <td>25</td>\n",
       "      <td>92.59</td>\n",
       "    </tr>\n",
       "    <tr>\n",
       "      <th>19</th>\n",
       "      <td>2</td>\n",
       "      <td>27</td>\n",
       "      <td>93.10</td>\n",
       "    </tr>\n",
       "    <tr>\n",
       "      <th>20</th>\n",
       "      <td>2</td>\n",
       "      <td>22</td>\n",
       "      <td>91.67</td>\n",
       "    </tr>\n",
       "    <tr>\n",
       "      <th>21</th>\n",
       "      <td>2</td>\n",
       "      <td>15</td>\n",
       "      <td>88.24</td>\n",
       "    </tr>\n",
       "    <tr>\n",
       "      <th>22</th>\n",
       "      <td>1</td>\n",
       "      <td>16</td>\n",
       "      <td>94.12</td>\n",
       "    </tr>\n",
       "    <tr>\n",
       "      <th>23</th>\n",
       "      <td>1</td>\n",
       "      <td>11</td>\n",
       "      <td>91.67</td>\n",
       "    </tr>\n",
       "    <tr>\n",
       "      <th>24</th>\n",
       "      <td>1</td>\n",
       "      <td>7</td>\n",
       "      <td>87.50</td>\n",
       "    </tr>\n",
       "    <tr>\n",
       "      <th>25</th>\n",
       "      <td>0</td>\n",
       "      <td>7</td>\n",
       "      <td>100.00</td>\n",
       "    </tr>\n",
       "    <tr>\n",
       "      <th>26</th>\n",
       "      <td>1</td>\n",
       "      <td>12</td>\n",
       "      <td>92.31</td>\n",
       "    </tr>\n",
       "    <tr>\n",
       "      <th>27</th>\n",
       "      <td>0</td>\n",
       "      <td>7</td>\n",
       "      <td>100.00</td>\n",
       "    </tr>\n",
       "    <tr>\n",
       "      <th>28</th>\n",
       "      <td>1</td>\n",
       "      <td>4</td>\n",
       "      <td>80.00</td>\n",
       "    </tr>\n",
       "    <tr>\n",
       "      <th>29</th>\n",
       "      <td>0</td>\n",
       "      <td>2</td>\n",
       "      <td>100.00</td>\n",
       "    </tr>\n",
       "    <tr>\n",
       "      <th>30</th>\n",
       "      <td>1</td>\n",
       "      <td>4</td>\n",
       "      <td>80.00</td>\n",
       "    </tr>\n",
       "    <tr>\n",
       "      <th>31</th>\n",
       "      <td>0</td>\n",
       "      <td>4</td>\n",
       "      <td>100.00</td>\n",
       "    </tr>\n",
       "    <tr>\n",
       "      <th>32</th>\n",
       "      <td>1</td>\n",
       "      <td>1</td>\n",
       "      <td>50.00</td>\n",
       "    </tr>\n",
       "    <tr>\n",
       "      <th>33</th>\n",
       "      <td>0</td>\n",
       "      <td>4</td>\n",
       "      <td>100.00</td>\n",
       "    </tr>\n",
       "    <tr>\n",
       "      <th>34</th>\n",
       "      <td>0</td>\n",
       "      <td>2</td>\n",
       "      <td>100.00</td>\n",
       "    </tr>\n",
       "    <tr>\n",
       "      <th>35</th>\n",
       "      <td>0</td>\n",
       "      <td>3</td>\n",
       "      <td>100.00</td>\n",
       "    </tr>\n",
       "    <tr>\n",
       "      <th>36</th>\n",
       "      <td>0</td>\n",
       "      <td>1</td>\n",
       "      <td>100.00</td>\n",
       "    </tr>\n",
       "    <tr>\n",
       "      <th>37</th>\n",
       "      <td>1</td>\n",
       "      <td>1</td>\n",
       "      <td>50.00</td>\n",
       "    </tr>\n",
       "    <tr>\n",
       "      <th>40</th>\n",
       "      <td>0</td>\n",
       "      <td>1</td>\n",
       "      <td>100.00</td>\n",
       "    </tr>\n",
       "    <tr>\n",
       "      <th>41</th>\n",
       "      <td>0</td>\n",
       "      <td>1</td>\n",
       "      <td>100.00</td>\n",
       "    </tr>\n",
       "    <tr>\n",
       "      <th>46</th>\n",
       "      <td>0</td>\n",
       "      <td>1</td>\n",
       "      <td>100.00</td>\n",
       "    </tr>\n",
       "    <tr>\n",
       "      <th>50</th>\n",
       "      <td>1</td>\n",
       "      <td>0</td>\n",
       "      <td>0.00</td>\n",
       "    </tr>\n",
       "    <tr>\n",
       "      <th>54</th>\n",
       "      <td>0</td>\n",
       "      <td>1</td>\n",
       "      <td>100.00</td>\n",
       "    </tr>\n",
       "  </tbody>\n",
       "</table>\n",
       "</div>"
      ],
      "text/plain": [
       "Car Insurance                 0    1  Percentage Enrolled\n",
       "Call Duration (in minutes)                               \n",
       "0                           113    1                 0.88\n",
       "1                           409   17                 3.99\n",
       "2                           566  114                16.76\n",
       "3                           384  151                28.22\n",
       "4                           236  161                40.55\n",
       "5                           176  107                37.81\n",
       "6                           111  107                49.08\n",
       "7                            84   95                53.07\n",
       "8                            66   83                55.70\n",
       "9                            38   86                69.35\n",
       "10                           31   85                73.28\n",
       "11                           18   72                80.00\n",
       "12                           22   60                73.17\n",
       "13                           12   51                80.95\n",
       "14                            3   48                94.12\n",
       "15                            5   44                89.80\n",
       "16                            2   33                94.29\n",
       "17                            6   27                81.82\n",
       "18                            2   25                92.59\n",
       "19                            2   27                93.10\n",
       "20                            2   22                91.67\n",
       "21                            2   15                88.24\n",
       "22                            1   16                94.12\n",
       "23                            1   11                91.67\n",
       "24                            1    7                87.50\n",
       "25                            0    7               100.00\n",
       "26                            1   12                92.31\n",
       "27                            0    7               100.00\n",
       "28                            1    4                80.00\n",
       "29                            0    2               100.00\n",
       "30                            1    4                80.00\n",
       "31                            0    4               100.00\n",
       "32                            1    1                50.00\n",
       "33                            0    4               100.00\n",
       "34                            0    2               100.00\n",
       "35                            0    3               100.00\n",
       "36                            0    1               100.00\n",
       "37                            1    1                50.00\n",
       "40                            0    1               100.00\n",
       "41                            0    1               100.00\n",
       "46                            0    1               100.00\n",
       "50                            1    0                 0.00\n",
       "54                            0    1               100.00"
      ]
     },
     "execution_count": 29,
     "metadata": {},
     "output_type": "execute_result"
    }
   ],
   "source": [
    "# Dependancy of Call Duration on Car Insurance Opting Decisions\n",
    "\n",
    "Call_Duration_crosstab=pd.crosstab(data['Call_Duration'],data['CarInsurance'],colnames=['Car Insurance'],\n",
    "                                   rownames=['Call Duration (in minutes)'])\n",
    "Call_Duration_crosstab['Percentage Enrolled']=round(Call_Duration_crosstab[1]/(Call_Duration_crosstab[0]+ Call_Duration_crosstab[1])*100,2)\n",
    "Call_Duration_crosstab"
   ]
  },
  {
   "cell_type": "code",
   "execution_count": 30,
   "id": "5a4f82a1",
   "metadata": {},
   "outputs": [
    {
     "data": {
      "text/plain": [
       "<matplotlib.legend.Legend at 0x33fc610340>"
      ]
     },
     "execution_count": 30,
     "metadata": {},
     "output_type": "execute_result"
    },
    {
     "data": {
      "image/png": "[encoded data removed]",
      "text/plain": [
       "<Figure size 1440x432 with 1 Axes>"
      ]
     },
     "metadata": {
      "needs_background": "light"
     },
     "output_type": "display_data"
    }
   ],
   "source": [
    "Call_Duration_crosstab.drop(['Percentage Enrolled'], axis=1).plot(kind='bar',stacked=False,figsize=(20,6))\n",
    "plt.xticks(rotation = 0,fontsize=12)\n",
    "plt.xlabel('Call Duration (in minutes)',fontsize=16)\n",
    "plt.ylabel('Car Insurance',fontsize=16)\n",
    "plt.title('Car Insurance Policy Decisions w.r.t Call Duration',fontsize=18)\n",
    "plt.legend(['Rejected','Accepted'],title='Car Insurance',title_fontsize=15,prop={\"size\":12})"
   ]
  },
  {
   "cell_type": "code",
   "execution_count": 31,
   "id": "886627f5",
   "metadata": {},
   "outputs": [],
   "source": [
    "# Let's categorize the Call durations for better understanding according to the mean duration.\n",
    "\n",
    "mean=data.Call_Duration.mean()\n",
    "mean\n",
    "\n",
    "def update_duration(call):\n",
    "    if(call < mean):\n",
    "        return \"Less than Mean Duration\"\n",
    "    elif(call > mean):\n",
    "        return \"More than Mean Duration\""
   ]
  },
  {
   "cell_type": "code",
   "execution_count": 32,
   "id": "c50792f4",
   "metadata": {},
   "outputs": [],
   "source": [
    "data['Call_Duration_Mean']=data['Call_Duration'].apply(update_duration)"
   ]
  },
  {
   "cell_type": "code",
   "execution_count": 33,
   "id": "677ecde8",
   "metadata": {},
   "outputs": [
    {
     "data": {
      "text/html": [
       "<div>\n",
       "<style scoped>\n",
       "    .dataframe tbody tr th:only-of-type {\n",
       "        vertical-align: middle;\n",
       "    }\n",
       "\n",
       "    .dataframe tbody tr th {\n",
       "        vertical-align: top;\n",
       "    }\n",
       "\n",
       "    .dataframe thead th {\n",
       "        text-align: right;\n",
       "    }\n",
       "</style>\n",
       "<table border=\"1\" class=\"dataframe\">\n",
       "  <thead>\n",
       "    <tr style=\"text-align: right;\">\n",
       "      <th>Car Insurance</th>\n",
       "      <th>0</th>\n",
       "      <th>1</th>\n",
       "      <th>Percentage Enrolled</th>\n",
       "    </tr>\n",
       "    <tr>\n",
       "      <th>Call Duration (in minutes)</th>\n",
       "      <th></th>\n",
       "      <th></th>\n",
       "      <th></th>\n",
       "    </tr>\n",
       "  </thead>\n",
       "  <tbody>\n",
       "    <tr>\n",
       "      <th>Less than Mean Duration</th>\n",
       "      <td>1884</td>\n",
       "      <td>551</td>\n",
       "      <td>22.63</td>\n",
       "    </tr>\n",
       "    <tr>\n",
       "      <th>More than Mean Duration</th>\n",
       "      <td>415</td>\n",
       "      <td>970</td>\n",
       "      <td>70.04</td>\n",
       "    </tr>\n",
       "  </tbody>\n",
       "</table>\n",
       "</div>"
      ],
      "text/plain": [
       "Car Insurance                  0    1  Percentage Enrolled\n",
       "Call Duration (in minutes)                                \n",
       "Less than Mean Duration     1884  551                22.63\n",
       "More than Mean Duration      415  970                70.04"
      ]
     },
     "execution_count": 33,
     "metadata": {},
     "output_type": "execute_result"
    }
   ],
   "source": [
    "# Dependancy of Mean Call Duration on Car Insurance Opting Decisions\n",
    "\n",
    "Mean_Call_Duration_crosstab=pd.crosstab(data['Call_Duration_Mean'],data['CarInsurance'],colnames=['Car Insurance'],\n",
    "                                   rownames=['Call Duration (in minutes)'])\n",
    "Mean_Call_Duration_crosstab['Percentage Enrolled']=round(Mean_Call_Duration_crosstab[1]/(Mean_Call_Duration_crosstab[0]+ Mean_Call_Duration_crosstab[1])*100,2)\n",
    "Mean_Call_Duration_crosstab"
   ]
  },
  {
   "cell_type": "code",
   "execution_count": 34,
   "id": "f93f5016",
   "metadata": {},
   "outputs": [
    {
     "data": {
      "text/plain": [
       "<matplotlib.legend.Legend at 0x33fdb51de0>"
      ]
     },
     "execution_count": 34,
     "metadata": {},
     "output_type": "execute_result"
    },
    {
     "data": {
      "image/png": "[encoded data removed]",
      "text/plain": [
       "<Figure size 1440x432 with 1 Axes>"
      ]
     },
     "metadata": {
      "needs_background": "light"
     },
     "output_type": "display_data"
    }
   ],
   "source": [
    "# Plotting the above values.\n",
    "\n",
    "Mean_Call_Duration_crosstab.drop(['Percentage Enrolled'], axis=1).plot(kind='bar',stacked=False,figsize=(20,6))\n",
    "plt.xticks(rotation = 0,fontsize=12)\n",
    "plt.xlabel('Call Duration (in minutes)',fontsize=16)\n",
    "plt.ylabel('Car Insurance',fontsize=16)\n",
    "plt.title('Car Insurance Policy Decisions w.r.t Mean Call Duration',fontsize=18)\n",
    "plt.legend(['Rejected','Accepted'],title='Car Insurance',title_fontsize=15,prop={\"size\":12})"
   ]
  },
  {
   "cell_type": "code",
   "execution_count": 35,
   "id": "a8a553b4",
   "metadata": {},
   "outputs": [],
   "source": [
    "from pathlib import Path\n",
    "import pandas as pd\n",
    "import numpy as np\n",
    "from sklearn import preprocessing \n",
    "from sklearn.model_selection import train_test_split\n",
    "from sklearn.metrics import accuracy_score\n",
    "from sklearn.metrics import f1_score\n",
    "from sklearn.neighbors import NearestNeighbors, KNeighborsClassifier\n",
    "import matplotlib.pylab as plt\n",
    "from sklearn.datasets import make_classification \n",
    "from sklearn.metrics import roc_curve\n",
    "from sklearn.metrics import roc_auc_score \n",
    "from matplotlib import pyplot \n",
    "\n",
    "import dmba"
   ]
  },
  {
   "cell_type": "code",
   "execution_count": 120,
   "id": "69fb7305",
   "metadata": {},
   "outputs": [
    {
     "data": {
      "text/html": [
       "<div>\n",
       "<style scoped>\n",
       "    .dataframe tbody tr th:only-of-type {\n",
       "        vertical-align: middle;\n",
       "    }\n",
       "\n",
       "    .dataframe tbody tr th {\n",
       "        vertical-align: top;\n",
       "    }\n",
       "\n",
       "    .dataframe thead th {\n",
       "        text-align: right;\n",
       "    }\n",
       "</style>\n",
       "<table border=\"1\" class=\"dataframe\">\n",
       "  <thead>\n",
       "    <tr style=\"text-align: right;\">\n",
       "      <th></th>\n",
       "      <th>Id</th>\n",
       "      <th>Age</th>\n",
       "      <th>Job</th>\n",
       "      <th>Marital</th>\n",
       "      <th>Education</th>\n",
       "      <th>Default</th>\n",
       "      <th>Balance</th>\n",
       "      <th>HHInsurance</th>\n",
       "      <th>CarLoan</th>\n",
       "      <th>LastContactDay</th>\n",
       "      <th>LastContactMonth</th>\n",
       "      <th>NoOfContacts</th>\n",
       "      <th>DaysPassed</th>\n",
       "      <th>PrevAttempts</th>\n",
       "      <th>CallStart</th>\n",
       "      <th>CallEnd</th>\n",
       "      <th>CarInsurance</th>\n",
       "    </tr>\n",
       "  </thead>\n",
       "  <tbody>\n",
       "    <tr>\n",
       "      <th>0</th>\n",
       "      <td>1</td>\n",
       "      <td>32</td>\n",
       "      <td>management</td>\n",
       "      <td>single</td>\n",
       "      <td>tertiary</td>\n",
       "      <td>0</td>\n",
       "      <td>1218</td>\n",
       "      <td>1</td>\n",
       "      <td>0</td>\n",
       "      <td>28</td>\n",
       "      <td>jan</td>\n",
       "      <td>2</td>\n",
       "      <td>-1</td>\n",
       "      <td>0</td>\n",
       "      <td>13:45:20</td>\n",
       "      <td>13:46:30</td>\n",
       "      <td>0</td>\n",
       "    </tr>\n",
       "    <tr>\n",
       "      <th>1</th>\n",
       "      <td>2</td>\n",
       "      <td>32</td>\n",
       "      <td>blue-collar</td>\n",
       "      <td>married</td>\n",
       "      <td>primary</td>\n",
       "      <td>0</td>\n",
       "      <td>1156</td>\n",
       "      <td>1</td>\n",
       "      <td>0</td>\n",
       "      <td>26</td>\n",
       "      <td>may</td>\n",
       "      <td>5</td>\n",
       "      <td>-1</td>\n",
       "      <td>0</td>\n",
       "      <td>14:49:03</td>\n",
       "      <td>14:52:08</td>\n",
       "      <td>0</td>\n",
       "    </tr>\n",
       "  </tbody>\n",
       "</table>\n",
       "</div>"
      ],
      "text/plain": [
       "   Id  Age          Job  Marital Education  Default  Balance  HHInsurance  \\\n",
       "0   1   32   management   single  tertiary        0     1218            1   \n",
       "1   2   32  blue-collar  married   primary        0     1156            1   \n",
       "\n",
       "   CarLoan  LastContactDay LastContactMonth  NoOfContacts  DaysPassed  \\\n",
       "0        0              28              jan             2          -1   \n",
       "1        0              26              may             5          -1   \n",
       "\n",
       "   PrevAttempts CallStart   CallEnd  CarInsurance  \n",
       "0             0  13:45:20  13:46:30             0  \n",
       "1             0  14:49:03  14:52:08             0  "
      ]
     },
     "execution_count": 120,
     "metadata": {},
     "output_type": "execute_result"
    }
   ],
   "source": [
    "car_insurance_df = df2.copy()\n",
    "car_insurance_df.head(2)"
   ]
  },
  {
   "cell_type": "code",
   "execution_count": 121,
   "id": "bd3817da",
   "metadata": {},
   "outputs": [
    {
     "data": {
      "text/plain": [
       "Id                   int64\n",
       "Age                  int64\n",
       "Job                 object\n",
       "Marital             object\n",
       "Education           object\n",
       "Default              int64\n",
       "Balance              int64\n",
       "HHInsurance          int64\n",
       "CarLoan              int64\n",
       "LastContactDay       int64\n",
       "LastContactMonth    object\n",
       "NoOfContacts         int64\n",
       "DaysPassed           int64\n",
       "PrevAttempts         int64\n",
       "CallStart           object\n",
       "CallEnd             object\n",
       "CarInsurance         int64\n",
       "dtype: object"
      ]
     },
     "execution_count": 121,
     "metadata": {},
     "output_type": "execute_result"
    }
   ],
   "source": [
    "car_insurance_df.dtypes"
   ]
  },
  {
   "cell_type": "code",
   "execution_count": 122,
   "id": "a16d90d7",
   "metadata": {},
   "outputs": [],
   "source": [
    "from datetime import datetime \n",
    "t3 = []\n",
    "len = car_insurance_df.columns.shape[0] - 1\n",
    "\n",
    "#car_insurance_df.shape[0]\n",
    "for i in range(car_insurance_df.shape[0]):\n",
    "    t1 = datetime.strptime(car_insurance_df.CallStart.values[i], \"%H:%M:%S\")\n",
    "    t2 = datetime.strptime(car_insurance_df.CallEnd.values[i], \"%H:%M:%S\")\n",
    "    t3.append(round((t2-t1).seconds/ 60))\n",
    "car_insurance_df.insert(len, 'call_duration', t3)"
   ]
  },
  {
   "cell_type": "code",
   "execution_count": 123,
   "id": "581e9096",
   "metadata": {},
   "outputs": [
    {
     "data": {
      "text/html": [
       "<div>\n",
       "<style scoped>\n",
       "    .dataframe tbody tr th:only-of-type {\n",
       "        vertical-align: middle;\n",
       "    }\n",
       "\n",
       "    .dataframe tbody tr th {\n",
       "        vertical-align: top;\n",
       "    }\n",
       "\n",
       "    .dataframe thead th {\n",
       "        text-align: right;\n",
       "    }\n",
       "</style>\n",
       "<table border=\"1\" class=\"dataframe\">\n",
       "  <thead>\n",
       "    <tr style=\"text-align: right;\">\n",
       "      <th></th>\n",
       "      <th>Age</th>\n",
       "      <th>Job</th>\n",
       "      <th>Marital</th>\n",
       "      <th>Education</th>\n",
       "      <th>Default</th>\n",
       "      <th>Balance</th>\n",
       "      <th>HHInsurance</th>\n",
       "      <th>CarLoan</th>\n",
       "      <th>NoOfContacts</th>\n",
       "      <th>DaysPassed</th>\n",
       "      <th>PrevAttempts</th>\n",
       "      <th>call_duration</th>\n",
       "      <th>CarInsurance</th>\n",
       "    </tr>\n",
       "  </thead>\n",
       "  <tbody>\n",
       "    <tr>\n",
       "      <th>0</th>\n",
       "      <td>32</td>\n",
       "      <td>management</td>\n",
       "      <td>single</td>\n",
       "      <td>tertiary</td>\n",
       "      <td>0</td>\n",
       "      <td>1218</td>\n",
       "      <td>1</td>\n",
       "      <td>0</td>\n",
       "      <td>2</td>\n",
       "      <td>-1</td>\n",
       "      <td>0</td>\n",
       "      <td>1</td>\n",
       "      <td>0</td>\n",
       "    </tr>\n",
       "    <tr>\n",
       "      <th>1</th>\n",
       "      <td>32</td>\n",
       "      <td>blue-collar</td>\n",
       "      <td>married</td>\n",
       "      <td>primary</td>\n",
       "      <td>0</td>\n",
       "      <td>1156</td>\n",
       "      <td>1</td>\n",
       "      <td>0</td>\n",
       "      <td>5</td>\n",
       "      <td>-1</td>\n",
       "      <td>0</td>\n",
       "      <td>3</td>\n",
       "      <td>0</td>\n",
       "    </tr>\n",
       "    <tr>\n",
       "      <th>2</th>\n",
       "      <td>29</td>\n",
       "      <td>management</td>\n",
       "      <td>single</td>\n",
       "      <td>tertiary</td>\n",
       "      <td>0</td>\n",
       "      <td>637</td>\n",
       "      <td>1</td>\n",
       "      <td>0</td>\n",
       "      <td>1</td>\n",
       "      <td>119</td>\n",
       "      <td>1</td>\n",
       "      <td>6</td>\n",
       "      <td>1</td>\n",
       "    </tr>\n",
       "    <tr>\n",
       "      <th>3</th>\n",
       "      <td>25</td>\n",
       "      <td>student</td>\n",
       "      <td>single</td>\n",
       "      <td>primary</td>\n",
       "      <td>0</td>\n",
       "      <td>373</td>\n",
       "      <td>1</td>\n",
       "      <td>0</td>\n",
       "      <td>2</td>\n",
       "      <td>-1</td>\n",
       "      <td>0</td>\n",
       "      <td>14</td>\n",
       "      <td>1</td>\n",
       "    </tr>\n",
       "    <tr>\n",
       "      <th>4</th>\n",
       "      <td>30</td>\n",
       "      <td>management</td>\n",
       "      <td>married</td>\n",
       "      <td>tertiary</td>\n",
       "      <td>0</td>\n",
       "      <td>2694</td>\n",
       "      <td>0</td>\n",
       "      <td>0</td>\n",
       "      <td>1</td>\n",
       "      <td>-1</td>\n",
       "      <td>0</td>\n",
       "      <td>3</td>\n",
       "      <td>0</td>\n",
       "    </tr>\n",
       "  </tbody>\n",
       "</table>\n",
       "</div>"
      ],
      "text/plain": [
       "   Age          Job  Marital Education  Default  Balance  HHInsurance  \\\n",
       "0   32   management   single  tertiary        0     1218            1   \n",
       "1   32  blue-collar  married   primary        0     1156            1   \n",
       "2   29   management   single  tertiary        0      637            1   \n",
       "3   25      student   single   primary        0      373            1   \n",
       "4   30   management  married  tertiary        0     2694            0   \n",
       "\n",
       "   CarLoan  NoOfContacts  DaysPassed  PrevAttempts  call_duration  \\\n",
       "0        0             2          -1             0              1   \n",
       "1        0             5          -1             0              3   \n",
       "2        0             1         119             1              6   \n",
       "3        0             2          -1             0             14   \n",
       "4        0             1          -1             0              3   \n",
       "\n",
       "   CarInsurance  \n",
       "0             0  \n",
       "1             0  \n",
       "2             1  \n",
       "3             1  \n",
       "4             0  "
      ]
     },
     "execution_count": 123,
     "metadata": {},
     "output_type": "execute_result"
    }
   ],
   "source": [
    "car_insurance_df = car_insurance_df.drop(['Id', 'LastContactDay', 'LastContactMonth', 'CallStart', 'CallEnd'], axis = 1)\n",
    "car_insurance_df.head()"
   ]
  },
  {
   "cell_type": "markdown",
   "id": "ae299975",
   "metadata": {},
   "source": [
    "# Applying KNN"
   ]
  },
  {
   "cell_type": "code",
   "execution_count": 213,
   "id": "fe0a5f04",
   "metadata": {},
   "outputs": [
    {
     "data": {
      "text/html": [
       "<div>\n",
       "<style scoped>\n",
       "    .dataframe tbody tr th:only-of-type {\n",
       "        vertical-align: middle;\n",
       "    }\n",
       "\n",
       "    .dataframe tbody tr th {\n",
       "        vertical-align: top;\n",
       "    }\n",
       "\n",
       "    .dataframe thead th {\n",
       "        text-align: right;\n",
       "    }\n",
       "</style>\n",
       "<table border=\"1\" class=\"dataframe\">\n",
       "  <thead>\n",
       "    <tr style=\"text-align: right;\">\n",
       "      <th></th>\n",
       "      <th>Age</th>\n",
       "      <th>Job</th>\n",
       "      <th>Marital</th>\n",
       "      <th>Education</th>\n",
       "      <th>Default</th>\n",
       "      <th>Balance</th>\n",
       "      <th>HHInsurance</th>\n",
       "      <th>CarLoan</th>\n",
       "      <th>NoOfContacts</th>\n",
       "      <th>DaysPassed</th>\n",
       "      <th>PrevAttempts</th>\n",
       "      <th>call_duration</th>\n",
       "      <th>CarInsurance</th>\n",
       "    </tr>\n",
       "  </thead>\n",
       "  <tbody>\n",
       "    <tr>\n",
       "      <th>0</th>\n",
       "      <td>32</td>\n",
       "      <td>management</td>\n",
       "      <td>single</td>\n",
       "      <td>tertiary</td>\n",
       "      <td>0</td>\n",
       "      <td>1218</td>\n",
       "      <td>1</td>\n",
       "      <td>0</td>\n",
       "      <td>2</td>\n",
       "      <td>-1</td>\n",
       "      <td>0</td>\n",
       "      <td>1</td>\n",
       "      <td>0</td>\n",
       "    </tr>\n",
       "    <tr>\n",
       "      <th>1</th>\n",
       "      <td>32</td>\n",
       "      <td>blue-collar</td>\n",
       "      <td>married</td>\n",
       "      <td>primary</td>\n",
       "      <td>0</td>\n",
       "      <td>1156</td>\n",
       "      <td>1</td>\n",
       "      <td>0</td>\n",
       "      <td>5</td>\n",
       "      <td>-1</td>\n",
       "      <td>0</td>\n",
       "      <td>3</td>\n",
       "      <td>0</td>\n",
       "    </tr>\n",
       "  </tbody>\n",
       "</table>\n",
       "</div>"
      ],
      "text/plain": [
       "   Age          Job  Marital Education  Default  Balance  HHInsurance  \\\n",
       "0   32   management   single  tertiary        0     1218            1   \n",
       "1   32  blue-collar  married   primary        0     1156            1   \n",
       "\n",
       "   CarLoan  NoOfContacts  DaysPassed  PrevAttempts  call_duration  \\\n",
       "0        0             2          -1             0              1   \n",
       "1        0             5          -1             0              3   \n",
       "\n",
       "   CarInsurance  \n",
       "0             0  \n",
       "1             0  "
      ]
     },
     "execution_count": 213,
     "metadata": {},
     "output_type": "execute_result"
    }
   ],
   "source": [
    "car_insurance_df1 = car_insurance_df.copy()\n",
    "car_insurance_df1.head(2)"
   ]
  },
  {
   "cell_type": "code",
   "execution_count": 214,
   "id": "58e04762",
   "metadata": {},
   "outputs": [
    {
     "data": {
      "text/plain": [
       "Index(['Age', 'Job', 'Marital', 'Education', 'Default', 'Balance',\n",
       "       'HHInsurance', 'CarLoan', 'NoOfContacts', 'DaysPassed', 'PrevAttempts',\n",
       "       'call_duration', 'CarInsurance'],\n",
       "      dtype='object')"
      ]
     },
     "execution_count": 214,
     "metadata": {},
     "output_type": "execute_result"
    }
   ],
   "source": [
    "car_insurance_df1.columns"
   ]
  },
  {
   "cell_type": "code",
   "execution_count": 215,
   "id": "2b87c2e0",
   "metadata": {},
   "outputs": [
    {
     "name": "stdout",
     "output_type": "stream",
     "text": [
      "<class 'pandas.core.frame.DataFrame'>\n",
      "Int64Index: 3820 entries, 0 to 3999\n",
      "Data columns (total 13 columns):\n",
      " #   Column         Non-Null Count  Dtype \n",
      "---  ------         --------------  ----- \n",
      " 0   Age            3820 non-null   int64 \n",
      " 1   Job            3820 non-null   object\n",
      " 2   Marital        3820 non-null   object\n",
      " 3   Education      3820 non-null   object\n",
      " 4   Default        3820 non-null   int64 \n",
      " 5   Balance        3820 non-null   int64 \n",
      " 6   HHInsurance    3820 non-null   int64 \n",
      " 7   CarLoan        3820 non-null   int64 \n",
      " 8   NoOfContacts   3820 non-null   int64 \n",
      " 9   DaysPassed     3820 non-null   int64 \n",
      " 10  PrevAttempts   3820 non-null   int64 \n",
      " 11  call_duration  3820 non-null   int64 \n",
      " 12  CarInsurance   3820 non-null   int64 \n",
      "dtypes: int64(10), object(3)\n",
      "memory usage: 546.9+ KB\n"
     ]
    }
   ],
   "source": [
    "car_insurance_df1.info()      # Checking the datatypes of the attributes "
   ]
  },
  {
   "cell_type": "code",
   "execution_count": 216,
   "id": "86e1b391",
   "metadata": {},
   "outputs": [],
   "source": [
    "le = preprocessing.LabelEncoder()\n",
    "# converting the object datatype to numeric by applying LableEncoder \n",
    "##(['Job', 'Marital', 'Education])\n",
    "car_insurance_df1['Job'] = le.fit_transform(car_insurance_df1['Job'])\n",
    "car_insurance_df1['Marital'] = le.fit_transform(car_insurance_df1['Marital'])\n",
    "car_insurance_df1['Education'] = le.fit_transform(car_insurance_df1['Education'])"
   ]
  },
  {
   "cell_type": "code",
   "execution_count": 217,
   "id": "32539c66",
   "metadata": {},
   "outputs": [
    {
     "data": {
      "text/plain": [
       "Index(['Age', 'Job', 'Marital', 'Education', 'Default', 'Balance',\n",
       "       'HHInsurance', 'CarLoan', 'NoOfContacts', 'DaysPassed', 'PrevAttempts',\n",
       "       'call_duration'],\n",
       "      dtype='object')"
      ]
     },
     "execution_count": 217,
     "metadata": {},
     "output_type": "execute_result"
    }
   ],
   "source": [
    "car_insurance_df1.columns[:12]"
   ]
  },
  {
   "cell_type": "code",
   "execution_count": 218,
   "id": "9fdcb919",
   "metadata": {},
   "outputs": [],
   "source": [
    "# Seperating predictor and Outcome column\n",
    "predictors = car_insurance_df1.columns[:12]\n",
    "outcome = car_insurance_df1.columns[-1]"
   ]
  },
  {
   "cell_type": "code",
   "execution_count": 219,
   "id": "2893f3f4",
   "metadata": {},
   "outputs": [],
   "source": [
    "X = car_insurance_df1[predictors]\n",
    "y = car_insurance_df1[outcome]\n",
    "X_train, X_test, y_train, y_test= train_test_split(X, y, test_size = 0.4, random_state = 2)"
   ]
  },
  {
   "cell_type": "code",
   "execution_count": 220,
   "id": "2b335ded",
   "metadata": {},
   "outputs": [],
   "source": [
    "# Normalizing the data before applying algorithm\n",
    "scaler = preprocessing.StandardScaler()\n",
    "X_train = scaler.fit_transform(X_train)\n",
    "X_test = scaler.transform(X_test)"
   ]
  },
  {
   "cell_type": "code",
   "execution_count": 221,
   "id": "36aafb97",
   "metadata": {},
   "outputs": [
    {
     "data": {
      "text/html": [
       "<style>#sk-container-id-25 {color: black;background-color: white;}#sk-container-id-25 pre{padding: 0;}#sk-container-id-25 div.sk-toggleable {background-color: white;}#sk-container-id-25 label.sk-toggleable__label {cursor: pointer;display: block;width: 100%;margin-bottom: 0;padding: 0.3em;box-sizing: border-box;text-align: center;}#sk-container-id-25 label.sk-toggleable__label-arrow:before {content: \"▸\";float: left;margin-right: 0.25em;color: #696969;}#sk-container-id-25 label.sk-toggleable__label-arrow:hover:before {color: black;}#sk-container-id-25 div.sk-estimator:hover label.sk-toggleable__label-arrow:before {color: black;}#sk-container-id-25 div.sk-toggleable__content {max-height: 0;max-width: 0;overflow: hidden;text-align: left;background-color: #f0f8ff;}#sk-container-id-25 div.sk-toggleable__content pre {margin: 0.2em;color: black;border-radius: 0.25em;background-color: #f0f8ff;}#sk-container-id-25 input.sk-toggleable__control:checked~div.sk-toggleable__content {max-height: 200px;max-width: 100%;overflow: auto;}#sk-container-id-25 input.sk-toggleable__control:checked~label.sk-toggleable__label-arrow:before {content: \"▾\";}#sk-container-id-25 div.sk-estimator input.sk-toggleable__control:checked~label.sk-toggleable__label {background-color: #d4ebff;}#sk-container-id-25 div.sk-label input.sk-toggleable__control:checked~label.sk-toggleable__label {background-color: #d4ebff;}#sk-container-id-25 input.sk-hidden--visually {border: 0;clip: rect(1px 1px 1px 1px);clip: rect(1px, 1px, 1px, 1px);height: 1px;margin: -1px;overflow: hidden;padding: 0;position: absolute;width: 1px;}#sk-container-id-25 div.sk-estimator {font-family: monospace;background-color: #f0f8ff;border: 1px dotted black;border-radius: 0.25em;box-sizing: border-box;margin-bottom: 0.5em;}#sk-container-id-25 div.sk-estimator:hover {background-color: #d4ebff;}#sk-container-id-25 div.sk-parallel-item::after {content: \"\";width: 100%;border-bottom: 1px solid gray;flex-grow: 1;}#sk-container-id-25 div.sk-label:hover label.sk-toggleable__label {background-color: #d4ebff;}#sk-container-id-25 div.sk-serial::before {content: \"\";position: absolute;border-left: 1px solid gray;box-sizing: border-box;top: 0;bottom: 0;left: 50%;z-index: 0;}#sk-container-id-25 div.sk-serial {display: flex;flex-direction: column;align-items: center;background-color: white;padding-right: 0.2em;padding-left: 0.2em;position: relative;}#sk-container-id-25 div.sk-item {position: relative;z-index: 1;}#sk-container-id-25 div.sk-parallel {display: flex;align-items: stretch;justify-content: center;background-color: white;position: relative;}#sk-container-id-25 div.sk-item::before, #sk-container-id-25 div.sk-parallel-item::before {content: \"\";position: absolute;border-left: 1px solid gray;box-sizing: border-box;top: 0;bottom: 0;left: 50%;z-index: -1;}#sk-container-id-25 div.sk-parallel-item {display: flex;flex-direction: column;z-index: 1;position: relative;background-color: white;}#sk-container-id-25 div.sk-parallel-item:first-child::after {align-self: flex-end;width: 50%;}#sk-container-id-25 div.sk-parallel-item:last-child::after {align-self: flex-start;width: 50%;}#sk-container-id-25 div.sk-parallel-item:only-child::after {width: 0;}#sk-container-id-25 div.sk-dashed-wrapped {border: 1px dashed gray;margin: 0 0.4em 0.5em 0.4em;box-sizing: border-box;padding-bottom: 0.4em;background-color: white;}#sk-container-id-25 div.sk-label label {font-family: monospace;font-weight: bold;display: inline-block;line-height: 1.2em;}#sk-container-id-25 div.sk-label-container {text-align: center;}#sk-container-id-25 div.sk-container {/* jupyter's `normalize.less` sets `[hidden] { display: none; }` but bootstrap.min.css set `[hidden] { display: none !important; }` so we also need the `!important` here to be able to override the default hidden behavior on the sphinx rendered scikit-learn.org. See: https://github.com/scikit-learn/scikit-learn/issues/21755 */display: inline-block !important;position: relative;}#sk-container-id-25 div.sk-text-repr-fallback {display: none;}</style><div id=\"sk-container-id-25\" class=\"sk-top-container\"><div class=\"sk-text-repr-fallback\"><pre>KNeighborsClassifier(n_neighbors=1)</pre><b>In a Jupyter environment, please rerun this cell to show the HTML representation or trust the notebook. <br />On GitHub, the HTML representation is unable to render, please try loading this page with nbviewer.org.</b></div><div class=\"sk-container\" hidden><div class=\"sk-item\"><div class=\"sk-estimator sk-toggleable\"><input class=\"sk-toggleable__control sk-hidden--visually\" id=\"sk-estimator-id-29\" type=\"checkbox\" checked><label for=\"sk-estimator-id-29\" class=\"sk-toggleable__label sk-toggleable__label-arrow\">KNeighborsClassifier</label><div class=\"sk-toggleable__content\"><pre>KNeighborsClassifier(n_neighbors=1)</pre></div></div></div></div></div>"
      ],
      "text/plain": [
       "KNeighborsClassifier(n_neighbors=1)"
      ]
     },
     "execution_count": 221,
     "metadata": {},
     "output_type": "execute_result"
    }
   ],
   "source": [
    "# Applying KNN algorithm\n",
    "from sklearn.neighbors import KNeighborsClassifier \n",
    "knn = KNeighborsClassifier(n_neighbors=1)\n",
    "knn.fit(X_train, y_train)"
   ]
  },
  {
   "cell_type": "code",
   "execution_count": 222,
   "id": "a4faa6a1",
   "metadata": {},
   "outputs": [
    {
     "name": "stdout",
     "output_type": "stream",
     "text": [
      "Training Accuracy : 1.0\n",
      "Testing Accuracy : 0.7303664921465969\n"
     ]
    }
   ],
   "source": [
    "from sklearn.metrics import accuracy_score \n",
    "print(\"Training Accuracy :\", accuracy_score(y_train, knn.predict(X_train)))\n",
    "print(\"Testing Accuracy :\", accuracy_score(y_test, knn.predict(X_test)))"
   ]
  },
  {
   "cell_type": "markdown",
   "id": "f0c3b7c5",
   "metadata": {},
   "source": [
    "**For K=1 Model overfits with giving Training Accuracy of 100%.**"
   ]
  },
  {
   "cell_type": "code",
   "execution_count": 223,
   "id": "88467494",
   "metadata": {},
   "outputs": [
    {
     "name": "stdout",
     "output_type": "stream",
     "text": [
      "    K_values  Training_accuracy  Testing_accuracy  F1_score\n",
      "10        11           0.798429          0.789921  0.708976\n",
      "12        13           0.794939          0.789921  0.707916\n",
      "13        14           0.780977          0.785995  0.688275\n",
      "8          9           0.802356          0.785340  0.704505\n",
      "11        12           0.781414          0.784686  0.685769\n",
      "6          7           0.811955          0.784031  0.708995\n",
      "9         10           0.793630          0.779450  0.675650\n",
      "4          5           0.821553          0.777487  0.699647\n",
      "7          8           0.796684          0.776178  0.672414\n",
      "5          6           0.797120          0.772906  0.666025\n",
      "2          3           0.855148          0.765052  0.681455\n",
      "3          4           0.817190          0.759817  0.636993\n",
      "1          2           0.849913          0.740183  0.583421\n",
      "0          1           1.000000          0.730366  0.653199\n"
     ]
    }
   ],
   "source": [
    "## Calculating the training, testing accuracy and F1 Scores for different values of K ranging from 1 to 15. \n",
    "test = []\n",
    "x = []\n",
    "train = []\n",
    "f_score = []\n",
    "for i in range (1, 15):\n",
    "    knn = KNeighborsClassifier(n_neighbors=i)\n",
    "    knn.fit(X_train, y_train)\n",
    "    y_pred = knn.predict(X_test)\n",
    "    r2_test= accuracy_score(y_test, y_pred)\n",
    "    r2_train= accuracy_score(y_train, knn.predict(X_train))\n",
    "    x.append(i)\n",
    "    test.append(r2_test) \n",
    "    train.append(r2_train)\n",
    "    f_score.append(f1_score(y_test, y_pred))\n",
    "print(pd.DataFrame({'K_values':x, 'Training_accuracy':train, 'Testing_accuracy':test, 'F1_score': f_score}).sort_values(by = ['Testing_accuracy'], \n",
    "                                                                                         ascending = False))"
   ]
  },
  {
   "cell_type": "markdown",
   "id": "9fa93fdb",
   "metadata": {},
   "source": [
    "**After arranging the records by decreasing value of accuracy score, we found that for K = 11, testing accuracy for K= 11 is highest and there is no significant difference between training and testimg accuracy. So, we will choose K = 11 for training the model.**"
   ]
  },
  {
   "cell_type": "code",
   "execution_count": 231,
   "id": "05da20d2",
   "metadata": {},
   "outputs": [
    {
     "data": {
      "text/html": [
       "<style>#sk-container-id-27 {color: black;background-color: white;}#sk-container-id-27 pre{padding: 0;}#sk-container-id-27 div.sk-toggleable {background-color: white;}#sk-container-id-27 label.sk-toggleable__label {cursor: pointer;display: block;width: 100%;margin-bottom: 0;padding: 0.3em;box-sizing: border-box;text-align: center;}#sk-container-id-27 label.sk-toggleable__label-arrow:before {content: \"▸\";float: left;margin-right: 0.25em;color: #696969;}#sk-container-id-27 label.sk-toggleable__label-arrow:hover:before {color: black;}#sk-container-id-27 div.sk-estimator:hover label.sk-toggleable__label-arrow:before {color: black;}#sk-container-id-27 div.sk-toggleable__content {max-height: 0;max-width: 0;overflow: hidden;text-align: left;background-color: #f0f8ff;}#sk-container-id-27 div.sk-toggleable__content pre {margin: 0.2em;color: black;border-radius: 0.25em;background-color: #f0f8ff;}#sk-container-id-27 input.sk-toggleable__control:checked~div.sk-toggleable__content {max-height: 200px;max-width: 100%;overflow: auto;}#sk-container-id-27 input.sk-toggleable__control:checked~label.sk-toggleable__label-arrow:before {content: \"▾\";}#sk-container-id-27 div.sk-estimator input.sk-toggleable__control:checked~label.sk-toggleable__label {background-color: #d4ebff;}#sk-container-id-27 div.sk-label input.sk-toggleable__control:checked~label.sk-toggleable__label {background-color: #d4ebff;}#sk-container-id-27 input.sk-hidden--visually {border: 0;clip: rect(1px 1px 1px 1px);clip: rect(1px, 1px, 1px, 1px);height: 1px;margin: -1px;overflow: hidden;padding: 0;position: absolute;width: 1px;}#sk-container-id-27 div.sk-estimator {font-family: monospace;background-color: #f0f8ff;border: 1px dotted black;border-radius: 0.25em;box-sizing: border-box;margin-bottom: 0.5em;}#sk-container-id-27 div.sk-estimator:hover {background-color: #d4ebff;}#sk-container-id-27 div.sk-parallel-item::after {content: \"\";width: 100%;border-bottom: 1px solid gray;flex-grow: 1;}#sk-container-id-27 div.sk-label:hover label.sk-toggleable__label {background-color: #d4ebff;}#sk-container-id-27 div.sk-serial::before {content: \"\";position: absolute;border-left: 1px solid gray;box-sizing: border-box;top: 0;bottom: 0;left: 50%;z-index: 0;}#sk-container-id-27 div.sk-serial {display: flex;flex-direction: column;align-items: center;background-color: white;padding-right: 0.2em;padding-left: 0.2em;position: relative;}#sk-container-id-27 div.sk-item {position: relative;z-index: 1;}#sk-container-id-27 div.sk-parallel {display: flex;align-items: stretch;justify-content: center;background-color: white;position: relative;}#sk-container-id-27 div.sk-item::before, #sk-container-id-27 div.sk-parallel-item::before {content: \"\";position: absolute;border-left: 1px solid gray;box-sizing: border-box;top: 0;bottom: 0;left: 50%;z-index: -1;}#sk-container-id-27 div.sk-parallel-item {display: flex;flex-direction: column;z-index: 1;position: relative;background-color: white;}#sk-container-id-27 div.sk-parallel-item:first-child::after {align-self: flex-end;width: 50%;}#sk-container-id-27 div.sk-parallel-item:last-child::after {align-self: flex-start;width: 50%;}#sk-container-id-27 div.sk-parallel-item:only-child::after {width: 0;}#sk-container-id-27 div.sk-dashed-wrapped {border: 1px dashed gray;margin: 0 0.4em 0.5em 0.4em;box-sizing: border-box;padding-bottom: 0.4em;background-color: white;}#sk-container-id-27 div.sk-label label {font-family: monospace;font-weight: bold;display: inline-block;line-height: 1.2em;}#sk-container-id-27 div.sk-label-container {text-align: center;}#sk-container-id-27 div.sk-container {/* jupyter's `normalize.less` sets `[hidden] { display: none; }` but bootstrap.min.css set `[hidden] { display: none !important; }` so we also need the `!important` here to be able to override the default hidden behavior on the sphinx rendered scikit-learn.org. See: https://github.com/scikit-learn/scikit-learn/issues/21755 */display: inline-block !important;position: relative;}#sk-container-id-27 div.sk-text-repr-fallback {display: none;}</style><div id=\"sk-container-id-27\" class=\"sk-top-container\"><div class=\"sk-text-repr-fallback\"><pre>KNeighborsClassifier(n_neighbors=11)</pre><b>In a Jupyter environment, please rerun this cell to show the HTML representation or trust the notebook. <br />On GitHub, the HTML representation is unable to render, please try loading this page with nbviewer.org.</b></div><div class=\"sk-container\" hidden><div class=\"sk-item\"><div class=\"sk-estimator sk-toggleable\"><input class=\"sk-toggleable__control sk-hidden--visually\" id=\"sk-estimator-id-31\" type=\"checkbox\" checked><label for=\"sk-estimator-id-31\" class=\"sk-toggleable__label sk-toggleable__label-arrow\">KNeighborsClassifier</label><div class=\"sk-toggleable__content\"><pre>KNeighborsClassifier(n_neighbors=11)</pre></div></div></div></div></div>"
      ],
      "text/plain": [
       "KNeighborsClassifier(n_neighbors=11)"
      ]
     },
     "execution_count": 231,
     "metadata": {},
     "output_type": "execute_result"
    }
   ],
   "source": [
    "knn = KNeighborsClassifier(n_neighbors = 11)\n",
    "knn.fit(X_train, y_train)"
   ]
  },
  {
   "cell_type": "code",
   "execution_count": 232,
   "id": "9be0c11b",
   "metadata": {},
   "outputs": [
    {
     "name": "stdout",
     "output_type": "stream",
     "text": [
      "Accuracy Score:  0.8495456187294576\n"
     ]
    },
    {
     "data": {
      "image/png": "[encoded data removed]",
      "text/plain": [
       "<Figure size 432x288 with 1 Axes>"
      ]
     },
     "metadata": {
      "needs_background": "light"
     },
     "output_type": "display_data"
    }
   ],
   "source": [
    "KNN_probs = knn.predict_proba(X_test)\n",
    "KNN_probs = KNN_probs[:, 1]\n",
    "\n",
    "KNN_auc = roc_auc_score(y_test, KNN_probs)\n",
    "print('Accuracy Score: ', KNN_auc)\n",
    "KNN_fpr, KNN_tpr, _ = roc_curve(y_test, KNN_probs)\n",
    "pyplot.plot(KNN_fpr, KNN_tpr, marker = '.', label = 'KNN')\n",
    "pyplot.show()"
   ]
  },
  {
   "cell_type": "markdown",
   "id": "fec849f1",
   "metadata": {},
   "source": [
    "# Applying Naive-Bayes"
   ]
  },
  {
   "cell_type": "code",
   "execution_count": 137,
   "id": "0eded71d",
   "metadata": {},
   "outputs": [],
   "source": [
    "from pathlib import Path\n",
    "\n",
    "import pandas as pd\n",
    "from sklearn.model_selection import train_test_split\n",
    "from sklearn.naive_bayes import MultinomialNB\n",
    "\n",
    "import matplotlib.pylab as plt\n",
    "\n",
    "import dmba\n",
    "from dmba import classificationSummary, gainsChart"
   ]
  },
  {
   "cell_type": "code",
   "execution_count": 138,
   "id": "00476554",
   "metadata": {},
   "outputs": [
    {
     "data": {
      "text/html": [
       "<div>\n",
       "<style scoped>\n",
       "    .dataframe tbody tr th:only-of-type {\n",
       "        vertical-align: middle;\n",
       "    }\n",
       "\n",
       "    .dataframe tbody tr th {\n",
       "        vertical-align: top;\n",
       "    }\n",
       "\n",
       "    .dataframe thead th {\n",
       "        text-align: right;\n",
       "    }\n",
       "</style>\n",
       "<table border=\"1\" class=\"dataframe\">\n",
       "  <thead>\n",
       "    <tr style=\"text-align: right;\">\n",
       "      <th></th>\n",
       "      <th>Age</th>\n",
       "      <th>Job</th>\n",
       "      <th>Marital</th>\n",
       "      <th>Education</th>\n",
       "      <th>Default</th>\n",
       "      <th>Balance</th>\n",
       "      <th>HHInsurance</th>\n",
       "      <th>CarLoan</th>\n",
       "      <th>NoOfContacts</th>\n",
       "      <th>DaysPassed</th>\n",
       "      <th>PrevAttempts</th>\n",
       "      <th>call_duration</th>\n",
       "      <th>CarInsurance</th>\n",
       "    </tr>\n",
       "  </thead>\n",
       "  <tbody>\n",
       "    <tr>\n",
       "      <th>0</th>\n",
       "      <td>32</td>\n",
       "      <td>management</td>\n",
       "      <td>single</td>\n",
       "      <td>tertiary</td>\n",
       "      <td>0</td>\n",
       "      <td>1218</td>\n",
       "      <td>1</td>\n",
       "      <td>0</td>\n",
       "      <td>2</td>\n",
       "      <td>-1</td>\n",
       "      <td>0</td>\n",
       "      <td>1</td>\n",
       "      <td>0</td>\n",
       "    </tr>\n",
       "  </tbody>\n",
       "</table>\n",
       "</div>"
      ],
      "text/plain": [
       "   Age         Job Marital Education  Default  Balance  HHInsurance  CarLoan  \\\n",
       "0   32  management  single  tertiary        0     1218            1        0   \n",
       "\n",
       "   NoOfContacts  DaysPassed  PrevAttempts  call_duration  CarInsurance  \n",
       "0             2          -1             0              1             0  "
      ]
     },
     "execution_count": 138,
     "metadata": {},
     "output_type": "execute_result"
    }
   ],
   "source": [
    "car_insurance_df2 = car_insurance_df.copy()\n",
    "car_insurance_df2.head(1)"
   ]
  },
  {
   "cell_type": "code",
   "execution_count": 139,
   "id": "313fb6b6",
   "metadata": {},
   "outputs": [],
   "source": [
    "le = preprocessing.LabelEncoder()\n",
    "#Converting the catr=egorical variable to numeric (['Job', 'Marital', 'Education])\n",
    "car_insurance_df2['Job'] = le.fit_transform(car_insurance_df1['Job'])\n",
    "car_insurance_df2['Marital'] = le.fit_transform(car_insurance_df1['Marital'])\n",
    "car_insurance_df2['Education'] = le.fit_transform(car_insurance_df1['Education'])"
   ]
  },
  {
   "cell_type": "code",
   "execution_count": 140,
   "id": "6ef38d62",
   "metadata": {},
   "outputs": [],
   "source": [
    "X = car_insurance_df2[predictors]\n",
    "y = (car_insurance_df2[outcome] == 1)\n",
    "classes = [ 1, 0]\n",
    "X['DaysPassed'] = np.clip(X['DaysPassed'], 0, None)  # Replecing -1 values with 0 "
   ]
  },
  {
   "cell_type": "code",
   "execution_count": 141,
   "id": "6fc313eb",
   "metadata": {},
   "outputs": [],
   "source": [
    "X.Age = [round(t/25) for t in X.Age]\n",
    "X['Balance'] = np.clip(X['Balance'], 0, None)               # converting negative values to zero \n",
    "X.Balance = [round(s/2000) for s in X.Balance]"
   ]
  },
  {
   "cell_type": "code",
   "execution_count": 142,
   "id": "c00e343f",
   "metadata": {},
   "outputs": [],
   "source": [
    "X_train, X_valid, y_train, y_valid = train_test_split(X, y, test_size = 0.4, random_state = 1)"
   ]
  },
  {
   "cell_type": "code",
   "execution_count": 143,
   "id": "7730f657",
   "metadata": {},
   "outputs": [],
   "source": [
    "delays_nb = MultinomialNB(alpha = 0.01)"
   ]
  },
  {
   "cell_type": "code",
   "execution_count": 144,
   "id": "ac6e6a9f",
   "metadata": {},
   "outputs": [
    {
     "data": {
      "text/html": [
       "<style>#sk-container-id-13 {color: black;background-color: white;}#sk-container-id-13 pre{padding: 0;}#sk-container-id-13 div.sk-toggleable {background-color: white;}#sk-container-id-13 label.sk-toggleable__label {cursor: pointer;display: block;width: 100%;margin-bottom: 0;padding: 0.3em;box-sizing: border-box;text-align: center;}#sk-container-id-13 label.sk-toggleable__label-arrow:before {content: \"▸\";float: left;margin-right: 0.25em;color: #696969;}#sk-container-id-13 label.sk-toggleable__label-arrow:hover:before {color: black;}#sk-container-id-13 div.sk-estimator:hover label.sk-toggleable__label-arrow:before {color: black;}#sk-container-id-13 div.sk-toggleable__content {max-height: 0;max-width: 0;overflow: hidden;text-align: left;background-color: #f0f8ff;}#sk-container-id-13 div.sk-toggleable__content pre {margin: 0.2em;color: black;border-radius: 0.25em;background-color: #f0f8ff;}#sk-container-id-13 input.sk-toggleable__control:checked~div.sk-toggleable__content {max-height: 200px;max-width: 100%;overflow: auto;}#sk-container-id-13 input.sk-toggleable__control:checked~label.sk-toggleable__label-arrow:before {content: \"▾\";}#sk-container-id-13 div.sk-estimator input.sk-toggleable__control:checked~label.sk-toggleable__label {background-color: #d4ebff;}#sk-container-id-13 div.sk-label input.sk-toggleable__control:checked~label.sk-toggleable__label {background-color: #d4ebff;}#sk-container-id-13 input.sk-hidden--visually {border: 0;clip: rect(1px 1px 1px 1px);clip: rect(1px, 1px, 1px, 1px);height: 1px;margin: -1px;overflow: hidden;padding: 0;position: absolute;width: 1px;}#sk-container-id-13 div.sk-estimator {font-family: monospace;background-color: #f0f8ff;border: 1px dotted black;border-radius: 0.25em;box-sizing: border-box;margin-bottom: 0.5em;}#sk-container-id-13 div.sk-estimator:hover {background-color: #d4ebff;}#sk-container-id-13 div.sk-parallel-item::after {content: \"\";width: 100%;border-bottom: 1px solid gray;flex-grow: 1;}#sk-container-id-13 div.sk-label:hover label.sk-toggleable__label {background-color: #d4ebff;}#sk-container-id-13 div.sk-serial::before {content: \"\";position: absolute;border-left: 1px solid gray;box-sizing: border-box;top: 0;bottom: 0;left: 50%;z-index: 0;}#sk-container-id-13 div.sk-serial {display: flex;flex-direction: column;align-items: center;background-color: white;padding-right: 0.2em;padding-left: 0.2em;position: relative;}#sk-container-id-13 div.sk-item {position: relative;z-index: 1;}#sk-container-id-13 div.sk-parallel {display: flex;align-items: stretch;justify-content: center;background-color: white;position: relative;}#sk-container-id-13 div.sk-item::before, #sk-container-id-13 div.sk-parallel-item::before {content: \"\";position: absolute;border-left: 1px solid gray;box-sizing: border-box;top: 0;bottom: 0;left: 50%;z-index: -1;}#sk-container-id-13 div.sk-parallel-item {display: flex;flex-direction: column;z-index: 1;position: relative;background-color: white;}#sk-container-id-13 div.sk-parallel-item:first-child::after {align-self: flex-end;width: 50%;}#sk-container-id-13 div.sk-parallel-item:last-child::after {align-self: flex-start;width: 50%;}#sk-container-id-13 div.sk-parallel-item:only-child::after {width: 0;}#sk-container-id-13 div.sk-dashed-wrapped {border: 1px dashed gray;margin: 0 0.4em 0.5em 0.4em;box-sizing: border-box;padding-bottom: 0.4em;background-color: white;}#sk-container-id-13 div.sk-label label {font-family: monospace;font-weight: bold;display: inline-block;line-height: 1.2em;}#sk-container-id-13 div.sk-label-container {text-align: center;}#sk-container-id-13 div.sk-container {/* jupyter's `normalize.less` sets `[hidden] { display: none; }` but bootstrap.min.css set `[hidden] { display: none !important; }` so we also need the `!important` here to be able to override the default hidden behavior on the sphinx rendered scikit-learn.org. See: https://github.com/scikit-learn/scikit-learn/issues/21755 */display: inline-block !important;position: relative;}#sk-container-id-13 div.sk-text-repr-fallback {display: none;}</style><div id=\"sk-container-id-13\" class=\"sk-top-container\"><div class=\"sk-text-repr-fallback\"><pre>MultinomialNB(alpha=0.01)</pre><b>In a Jupyter environment, please rerun this cell to show the HTML representation or trust the notebook. <br />On GitHub, the HTML representation is unable to render, please try loading this page with nbviewer.org.</b></div><div class=\"sk-container\" hidden><div class=\"sk-item\"><div class=\"sk-estimator sk-toggleable\"><input class=\"sk-toggleable__control sk-hidden--visually\" id=\"sk-estimator-id-15\" type=\"checkbox\" checked><label for=\"sk-estimator-id-15\" class=\"sk-toggleable__label sk-toggleable__label-arrow\">MultinomialNB</label><div class=\"sk-toggleable__content\"><pre>MultinomialNB(alpha=0.01)</pre></div></div></div></div></div>"
      ],
      "text/plain": [
       "MultinomialNB(alpha=0.01)"
      ]
     },
     "execution_count": 144,
     "metadata": {},
     "output_type": "execute_result"
    }
   ],
   "source": [
    "delays_nb.fit(X_train, y_train)"
   ]
  },
  {
   "cell_type": "code",
   "execution_count": 145,
   "id": "a16ad1f2",
   "metadata": {},
   "outputs": [],
   "source": [
    "predProb_train = delays_nb.predict_proba(X_train)\n",
    "predProb_valid = delays_nb.predict_proba(X_valid)"
   ]
  },
  {
   "cell_type": "code",
   "execution_count": 146,
   "id": "0a6ee130",
   "metadata": {},
   "outputs": [],
   "source": [
    "y_valid_pred = delays_nb.predict(X_valid)\n",
    "y_train_pred = delays_nb.predict(X_train)"
   ]
  },
  {
   "cell_type": "code",
   "execution_count": 233,
   "id": "efcf7eae",
   "metadata": {},
   "outputs": [
    {
     "name": "stdout",
     "output_type": "stream",
     "text": [
      "Confusion Matrix (Accuracy 0.5441)\n",
      "\n",
      "       Prediction\n",
      "Actual   1   0\n",
      "     1 964 406\n",
      "     0 639 283\n"
     ]
    }
   ],
   "source": [
    "# Training classification matrix\n",
    "classificationSummary(y_train, y_train_pred, class_names = classes)"
   ]
  },
  {
   "cell_type": "code",
   "execution_count": 234,
   "id": "efac2cbf",
   "metadata": {},
   "outputs": [
    {
     "name": "stdout",
     "output_type": "stream",
     "text": [
      "Confusion Matrix (Accuracy 0.6944)\n",
      "\n",
      "       Prediction\n",
      "Actual   1   0\n",
      "     1 753 173\n",
      "     0 294 308\n"
     ]
    }
   ],
   "source": [
    "# Testing Classification matrix \n",
    "classificationSummary(y_valid, y_valid_pred, class_names = classes)"
   ]
  },
  {
   "cell_type": "code",
   "execution_count": 149,
   "id": "337893e1",
   "metadata": {},
   "outputs": [
    {
     "data": {
      "text/plain": [
       "0.5687903970452447"
      ]
     },
     "execution_count": 149,
     "metadata": {},
     "output_type": "execute_result"
    }
   ],
   "source": [
    "f1_score(y_valid, y_valid_pred)"
   ]
  },
  {
   "cell_type": "markdown",
   "id": "4a17534a",
   "metadata": {},
   "source": [
    "**Getting 67% Accuracy using Naive-Bayes algorithm, which is much lesser as comared to KNN**"
   ]
  },
  {
   "cell_type": "markdown",
   "id": "2031bac4",
   "metadata": {},
   "source": [
    "# Applying CART Algorithm"
   ]
  },
  {
   "cell_type": "code",
   "execution_count": 235,
   "id": "cb5a6114",
   "metadata": {},
   "outputs": [],
   "source": [
    "from pathlib import Path\n",
    "import pandas as pd\n",
    "import numpy as np\n",
    "\n",
    "from sklearn.tree import DecisionTreeClassifier, DecisionTreeRegressor\n",
    "from sklearn.ensemble import RandomForestClassifier, GradientBoostingClassifier\n",
    "\n",
    "from sklearn.model_selection import train_test_split, cross_val_score,GridSearchCV\n",
    "\n",
    "import matplotlib.pylab as plt\n",
    "import dmba\n",
    "from dmba import plotDecisionTree, classificationSummary, regressionSummary"
   ]
  },
  {
   "cell_type": "code",
   "execution_count": 236,
   "id": "06874775",
   "metadata": {},
   "outputs": [
    {
     "data": {
      "text/html": [
       "<div>\n",
       "<style scoped>\n",
       "    .dataframe tbody tr th:only-of-type {\n",
       "        vertical-align: middle;\n",
       "    }\n",
       "\n",
       "    .dataframe tbody tr th {\n",
       "        vertical-align: top;\n",
       "    }\n",
       "\n",
       "    .dataframe thead th {\n",
       "        text-align: right;\n",
       "    }\n",
       "</style>\n",
       "<table border=\"1\" class=\"dataframe\">\n",
       "  <thead>\n",
       "    <tr style=\"text-align: right;\">\n",
       "      <th></th>\n",
       "      <th>Age</th>\n",
       "      <th>Job</th>\n",
       "      <th>Marital</th>\n",
       "      <th>Education</th>\n",
       "      <th>Default</th>\n",
       "      <th>Balance</th>\n",
       "      <th>HHInsurance</th>\n",
       "      <th>CarLoan</th>\n",
       "      <th>NoOfContacts</th>\n",
       "      <th>DaysPassed</th>\n",
       "      <th>PrevAttempts</th>\n",
       "      <th>call_duration</th>\n",
       "      <th>CarInsurance</th>\n",
       "    </tr>\n",
       "  </thead>\n",
       "  <tbody>\n",
       "    <tr>\n",
       "      <th>0</th>\n",
       "      <td>32</td>\n",
       "      <td>management</td>\n",
       "      <td>single</td>\n",
       "      <td>tertiary</td>\n",
       "      <td>0</td>\n",
       "      <td>1218</td>\n",
       "      <td>1</td>\n",
       "      <td>0</td>\n",
       "      <td>2</td>\n",
       "      <td>-1</td>\n",
       "      <td>0</td>\n",
       "      <td>1</td>\n",
       "      <td>0</td>\n",
       "    </tr>\n",
       "    <tr>\n",
       "      <th>1</th>\n",
       "      <td>32</td>\n",
       "      <td>blue-collar</td>\n",
       "      <td>married</td>\n",
       "      <td>primary</td>\n",
       "      <td>0</td>\n",
       "      <td>1156</td>\n",
       "      <td>1</td>\n",
       "      <td>0</td>\n",
       "      <td>5</td>\n",
       "      <td>-1</td>\n",
       "      <td>0</td>\n",
       "      <td>3</td>\n",
       "      <td>0</td>\n",
       "    </tr>\n",
       "  </tbody>\n",
       "</table>\n",
       "</div>"
      ],
      "text/plain": [
       "   Age          Job  Marital Education  Default  Balance  HHInsurance  \\\n",
       "0   32   management   single  tertiary        0     1218            1   \n",
       "1   32  blue-collar  married   primary        0     1156            1   \n",
       "\n",
       "   CarLoan  NoOfContacts  DaysPassed  PrevAttempts  call_duration  \\\n",
       "0        0             2          -1             0              1   \n",
       "1        0             5          -1             0              3   \n",
       "\n",
       "   CarInsurance  \n",
       "0             0  \n",
       "1             0  "
      ]
     },
     "execution_count": 236,
     "metadata": {},
     "output_type": "execute_result"
    }
   ],
   "source": [
    "car_insurance_df3 = car_insurance_df.copy()\n",
    "car_insurance_df3.head(2)"
   ]
  },
  {
   "cell_type": "code",
   "execution_count": 237,
   "id": "06b1c08b",
   "metadata": {},
   "outputs": [],
   "source": [
    "le = preprocessing.LabelEncoder()\n",
    "## Converting to numerical varibale (['Job', 'Marital', 'Education])\n",
    "car_insurance_df3['Job'] = le.fit_transform(car_insurance_df3['Job'])\n",
    "car_insurance_df3['Marital'] = le.fit_transform(car_insurance_df3['Marital'])\n",
    "car_insurance_df3['Education'] = le.fit_transform(car_insurance_df3['Education'])"
   ]
  },
  {
   "cell_type": "code",
   "execution_count": 239,
   "id": "47a930cb",
   "metadata": {},
   "outputs": [
    {
     "data": {
      "text/html": [
       "<style>#sk-container-id-29 {color: black;background-color: white;}#sk-container-id-29 pre{padding: 0;}#sk-container-id-29 div.sk-toggleable {background-color: white;}#sk-container-id-29 label.sk-toggleable__label {cursor: pointer;display: block;width: 100%;margin-bottom: 0;padding: 0.3em;box-sizing: border-box;text-align: center;}#sk-container-id-29 label.sk-toggleable__label-arrow:before {content: \"▸\";float: left;margin-right: 0.25em;color: #696969;}#sk-container-id-29 label.sk-toggleable__label-arrow:hover:before {color: black;}#sk-container-id-29 div.sk-estimator:hover label.sk-toggleable__label-arrow:before {color: black;}#sk-container-id-29 div.sk-toggleable__content {max-height: 0;max-width: 0;overflow: hidden;text-align: left;background-color: #f0f8ff;}#sk-container-id-29 div.sk-toggleable__content pre {margin: 0.2em;color: black;border-radius: 0.25em;background-color: #f0f8ff;}#sk-container-id-29 input.sk-toggleable__control:checked~div.sk-toggleable__content {max-height: 200px;max-width: 100%;overflow: auto;}#sk-container-id-29 input.sk-toggleable__control:checked~label.sk-toggleable__label-arrow:before {content: \"▾\";}#sk-container-id-29 div.sk-estimator input.sk-toggleable__control:checked~label.sk-toggleable__label {background-color: #d4ebff;}#sk-container-id-29 div.sk-label input.sk-toggleable__control:checked~label.sk-toggleable__label {background-color: #d4ebff;}#sk-container-id-29 input.sk-hidden--visually {border: 0;clip: rect(1px 1px 1px 1px);clip: rect(1px, 1px, 1px, 1px);height: 1px;margin: -1px;overflow: hidden;padding: 0;position: absolute;width: 1px;}#sk-container-id-29 div.sk-estimator {font-family: monospace;background-color: #f0f8ff;border: 1px dotted black;border-radius: 0.25em;box-sizing: border-box;margin-bottom: 0.5em;}#sk-container-id-29 div.sk-estimator:hover {background-color: #d4ebff;}#sk-container-id-29 div.sk-parallel-item::after {content: \"\";width: 100%;border-bottom: 1px solid gray;flex-grow: 1;}#sk-container-id-29 div.sk-label:hover label.sk-toggleable__label {background-color: #d4ebff;}#sk-container-id-29 div.sk-serial::before {content: \"\";position: absolute;border-left: 1px solid gray;box-sizing: border-box;top: 0;bottom: 0;left: 50%;z-index: 0;}#sk-container-id-29 div.sk-serial {display: flex;flex-direction: column;align-items: center;background-color: white;padding-right: 0.2em;padding-left: 0.2em;position: relative;}#sk-container-id-29 div.sk-item {position: relative;z-index: 1;}#sk-container-id-29 div.sk-parallel {display: flex;align-items: stretch;justify-content: center;background-color: white;position: relative;}#sk-container-id-29 div.sk-item::before, #sk-container-id-29 div.sk-parallel-item::before {content: \"\";position: absolute;border-left: 1px solid gray;box-sizing: border-box;top: 0;bottom: 0;left: 50%;z-index: -1;}#sk-container-id-29 div.sk-parallel-item {display: flex;flex-direction: column;z-index: 1;position: relative;background-color: white;}#sk-container-id-29 div.sk-parallel-item:first-child::after {align-self: flex-end;width: 50%;}#sk-container-id-29 div.sk-parallel-item:last-child::after {align-self: flex-start;width: 50%;}#sk-container-id-29 div.sk-parallel-item:only-child::after {width: 0;}#sk-container-id-29 div.sk-dashed-wrapped {border: 1px dashed gray;margin: 0 0.4em 0.5em 0.4em;box-sizing: border-box;padding-bottom: 0.4em;background-color: white;}#sk-container-id-29 div.sk-label label {font-family: monospace;font-weight: bold;display: inline-block;line-height: 1.2em;}#sk-container-id-29 div.sk-label-container {text-align: center;}#sk-container-id-29 div.sk-container {/* jupyter's `normalize.less` sets `[hidden] { display: none; }` but bootstrap.min.css set `[hidden] { display: none !important; }` so we also need the `!important` here to be able to override the default hidden behavior on the sphinx rendered scikit-learn.org. See: https://github.com/scikit-learn/scikit-learn/issues/21755 */display: inline-block !important;position: relative;}#sk-container-id-29 div.sk-text-repr-fallback {display: none;}</style><div id=\"sk-container-id-29\" class=\"sk-top-container\"><div class=\"sk-text-repr-fallback\"><pre>DecisionTreeClassifier(random_state=10)</pre><b>In a Jupyter environment, please rerun this cell to show the HTML representation or trust the notebook. <br />On GitHub, the HTML representation is unable to render, please try loading this page with nbviewer.org.</b></div><div class=\"sk-container\" hidden><div class=\"sk-item\"><div class=\"sk-estimator sk-toggleable\"><input class=\"sk-toggleable__control sk-hidden--visually\" id=\"sk-estimator-id-33\" type=\"checkbox\" checked><label for=\"sk-estimator-id-33\" class=\"sk-toggleable__label sk-toggleable__label-arrow\">DecisionTreeClassifier</label><div class=\"sk-toggleable__content\"><pre>DecisionTreeClassifier(random_state=10)</pre></div></div></div></div></div>"
      ],
      "text/plain": [
       "DecisionTreeClassifier(random_state=10)"
      ]
     },
     "execution_count": 239,
     "metadata": {},
     "output_type": "execute_result"
    }
   ],
   "source": [
    "from sklearn.tree import export_graphviz\n",
    "from sklearn import tree\n",
    "\n",
    "X =car_insurance_df3[predictors]\n",
    "y = car_insurance_df3[outcome]\n",
    "\n",
    "train_X, test_X, train_y, test_y = train_test_split(X, y, test_size =0.4, random_state = 11)\n",
    "\n",
    "fullClassTree = DecisionTreeClassifier(random_state = 10)\n",
    "fullClassTree.fit(train_X, train_y)"
   ]
  },
  {
   "cell_type": "code",
   "execution_count": 154,
   "id": "22232fad",
   "metadata": {},
   "outputs": [
    {
     "name": "stdout",
     "output_type": "stream",
     "text": [
      "    max_depth  Training_Acc  Testing_acc  F1_Score\n",
      "0           1      0.753490     0.737565  0.648554\n",
      "1           2      0.753490     0.737565  0.648554\n",
      "2           3      0.803665     0.790576  0.732888\n",
      "3           4      0.819372     0.777487  0.719008\n",
      "4           5      0.825480     0.790576  0.722222\n",
      "5           6      0.843805     0.789921  0.731830\n",
      "6           7      0.860384     0.784686  0.728324\n",
      "7           8      0.879581     0.784686  0.735743\n",
      "8           9      0.898778     0.787958  0.739130\n",
      "9          10      0.914049     0.774869  0.711409\n",
      "10         11      0.934555     0.771597  0.710373\n",
      "11         12      0.949825     0.772251  0.713816\n",
      "12         13      0.962914     0.749346  0.686836\n",
      "13         14      0.974695     0.751309  0.687500\n",
      "14         15      0.986475     0.744764  0.681892\n",
      "15         16      0.993892     0.736911  0.673701\n",
      "16         17      0.996510     0.743455  0.677632\n",
      "17         18      0.997818     0.741492  0.678077\n",
      "18         19      0.998691     0.736257  0.672624\n"
     ]
    }
   ],
   "source": [
    "## Hyperparameter Tuning \n",
    "## Prunning the tree on basis of max_depth and calculating the accuracy at every stage\n",
    "I = []\n",
    "ta = []\n",
    "tea =[]\n",
    "f_Score = []\n",
    "\n",
    "for i in range(1, 20):\n",
    "    fullClassTree = DecisionTreeClassifier(random_state = 25, max_depth = i)\n",
    "    fullClassTree.fit(train_X, train_y)\n",
    "    I.append(i)\n",
    "    ta.append(accuracy_score(train_y, fullClassTree.predict(train_X)))\n",
    "    tea.append(accuracy_score(test_y, fullClassTree.predict(test_X)))\n",
    "    f_Score.append(f1_score(test_y, fullClassTree.predict(test_X)))\n",
    "print(pd.DataFrame({\"max_depth\": I, \"Training_Acc\": ta, \"Testing_acc\":tea, 'F1_Score': f_Score}))"
   ]
  },
  {
   "cell_type": "markdown",
   "id": "59a4c8c6",
   "metadata": {},
   "source": [
    "**We will choose model for which testing accuracy is high and there is no much difference between training and testing accuracy. \n",
    "So, Max_depth is choosen as 3 to train the model.** "
   ]
  },
  {
   "cell_type": "code",
   "execution_count": 155,
   "id": "456cb4c1",
   "metadata": {},
   "outputs": [
    {
     "data": {
      "image/png": "[encoded data removed]",
      "text/plain": [
       "<Figure size 1800x1440 with 1 Axes>"
      ]
     },
     "metadata": {
      "needs_background": "light"
     },
     "output_type": "display_data"
    }
   ],
   "source": [
    "# Plotting the tree for maximum_depth = 3\n",
    "fullClassTree = DecisionTreeClassifier(random_state = 25, max_depth = 3)\n",
    "fullClassTree.fit(train_X, train_y)\n",
    "fig = plt.figure(figsize=(25,20))\n",
    "_=tree.plot_tree(fullClassTree, feature_names = train_X.columns, filled = True)"
   ]
  },
  {
   "cell_type": "code",
   "execution_count": 156,
   "id": "96ea69bf",
   "metadata": {},
   "outputs": [
    {
     "name": "stdout",
     "output_type": "stream",
     "text": [
      "Confusion Matrix (Accuracy 0.8037)\n",
      "\n",
      "       Prediction\n",
      "Actual    0    1\n",
      "     0 1151  225\n",
      "     1  225  691\n",
      "Confusion Matrix (Accuracy 0.7906)\n",
      "\n",
      "       Prediction\n",
      "Actual   0   1\n",
      "     0 769 154\n",
      "     1 166 439\n"
     ]
    }
   ],
   "source": [
    "classificationSummary(train_y, fullClassTree.predict(train_X))\n",
    "classificationSummary(test_y, fullClassTree.predict(test_X))"
   ]
  },
  {
   "cell_type": "code",
   "execution_count": 157,
   "id": "e95c46a4",
   "metadata": {},
   "outputs": [
    {
     "data": {
      "image/png": "[encoded data removed]",
      "text/plain": [
       "<Figure size 432x288 with 1 Axes>"
      ]
     },
     "metadata": {
      "needs_background": "light"
     },
     "output_type": "display_data"
    }
   ],
   "source": [
    "CART_probs = fullClassTree.predict_proba(test_X)\n",
    "CART_probs = CART_probs[:, 1]\n",
    "\n",
    "CART_auc = roc_auc_score(test_y, CART_probs)\n",
    "\n",
    "CART_fpr, CART_tpr, _ = roc_curve(test_y, CART_probs)\n",
    "pyplot.plot(CART_fpr, CART_tpr, marker = '.', label = 'CART')\n",
    "pyplot.show()"
   ]
  },
  {
   "cell_type": "markdown",
   "id": "6ae476ed",
   "metadata": {},
   "source": [
    "**Maximum accuracy achieved using the CART algorithm is 78%.**"
   ]
  },
  {
   "cell_type": "markdown",
   "id": "886826de",
   "metadata": {},
   "source": [
    "# Applying Random Forest"
   ]
  },
  {
   "cell_type": "code",
   "execution_count": 158,
   "id": "055e95e4",
   "metadata": {},
   "outputs": [
    {
     "data": {
      "text/html": [
       "<style>#sk-container-id-15 {color: black;background-color: white;}#sk-container-id-15 pre{padding: 0;}#sk-container-id-15 div.sk-toggleable {background-color: white;}#sk-container-id-15 label.sk-toggleable__label {cursor: pointer;display: block;width: 100%;margin-bottom: 0;padding: 0.3em;box-sizing: border-box;text-align: center;}#sk-container-id-15 label.sk-toggleable__label-arrow:before {content: \"▸\";float: left;margin-right: 0.25em;color: #696969;}#sk-container-id-15 label.sk-toggleable__label-arrow:hover:before {color: black;}#sk-container-id-15 div.sk-estimator:hover label.sk-toggleable__label-arrow:before {color: black;}#sk-container-id-15 div.sk-toggleable__content {max-height: 0;max-width: 0;overflow: hidden;text-align: left;background-color: #f0f8ff;}#sk-container-id-15 div.sk-toggleable__content pre {margin: 0.2em;color: black;border-radius: 0.25em;background-color: #f0f8ff;}#sk-container-id-15 input.sk-toggleable__control:checked~div.sk-toggleable__content {max-height: 200px;max-width: 100%;overflow: auto;}#sk-container-id-15 input.sk-toggleable__control:checked~label.sk-toggleable__label-arrow:before {content: \"▾\";}#sk-container-id-15 div.sk-estimator input.sk-toggleable__control:checked~label.sk-toggleable__label {background-color: #d4ebff;}#sk-container-id-15 div.sk-label input.sk-toggleable__control:checked~label.sk-toggleable__label {background-color: #d4ebff;}#sk-container-id-15 input.sk-hidden--visually {border: 0;clip: rect(1px 1px 1px 1px);clip: rect(1px, 1px, 1px, 1px);height: 1px;margin: -1px;overflow: hidden;padding: 0;position: absolute;width: 1px;}#sk-container-id-15 div.sk-estimator {font-family: monospace;background-color: #f0f8ff;border: 1px dotted black;border-radius: 0.25em;box-sizing: border-box;margin-bottom: 0.5em;}#sk-container-id-15 div.sk-estimator:hover {background-color: #d4ebff;}#sk-container-id-15 div.sk-parallel-item::after {content: \"\";width: 100%;border-bottom: 1px solid gray;flex-grow: 1;}#sk-container-id-15 div.sk-label:hover label.sk-toggleable__label {background-color: #d4ebff;}#sk-container-id-15 div.sk-serial::before {content: \"\";position: absolute;border-left: 1px solid gray;box-sizing: border-box;top: 0;bottom: 0;left: 50%;z-index: 0;}#sk-container-id-15 div.sk-serial {display: flex;flex-direction: column;align-items: center;background-color: white;padding-right: 0.2em;padding-left: 0.2em;position: relative;}#sk-container-id-15 div.sk-item {position: relative;z-index: 1;}#sk-container-id-15 div.sk-parallel {display: flex;align-items: stretch;justify-content: center;background-color: white;position: relative;}#sk-container-id-15 div.sk-item::before, #sk-container-id-15 div.sk-parallel-item::before {content: \"\";position: absolute;border-left: 1px solid gray;box-sizing: border-box;top: 0;bottom: 0;left: 50%;z-index: -1;}#sk-container-id-15 div.sk-parallel-item {display: flex;flex-direction: column;z-index: 1;position: relative;background-color: white;}#sk-container-id-15 div.sk-parallel-item:first-child::after {align-self: flex-end;width: 50%;}#sk-container-id-15 div.sk-parallel-item:last-child::after {align-self: flex-start;width: 50%;}#sk-container-id-15 div.sk-parallel-item:only-child::after {width: 0;}#sk-container-id-15 div.sk-dashed-wrapped {border: 1px dashed gray;margin: 0 0.4em 0.5em 0.4em;box-sizing: border-box;padding-bottom: 0.4em;background-color: white;}#sk-container-id-15 div.sk-label label {font-family: monospace;font-weight: bold;display: inline-block;line-height: 1.2em;}#sk-container-id-15 div.sk-label-container {text-align: center;}#sk-container-id-15 div.sk-container {/* jupyter's `normalize.less` sets `[hidden] { display: none; }` but bootstrap.min.css set `[hidden] { display: none !important; }` so we also need the `!important` here to be able to override the default hidden behavior on the sphinx rendered scikit-learn.org. See: https://github.com/scikit-learn/scikit-learn/issues/21755 */display: inline-block !important;position: relative;}#sk-container-id-15 div.sk-text-repr-fallback {display: none;}</style><div id=\"sk-container-id-15\" class=\"sk-top-container\"><div class=\"sk-text-repr-fallback\"><pre>RandomForestClassifier(min_samples_leaf=50, n_estimators=800, random_state=1)</pre><b>In a Jupyter environment, please rerun this cell to show the HTML representation or trust the notebook. <br />On GitHub, the HTML representation is unable to render, please try loading this page with nbviewer.org.</b></div><div class=\"sk-container\" hidden><div class=\"sk-item\"><div class=\"sk-estimator sk-toggleable\"><input class=\"sk-toggleable__control sk-hidden--visually\" id=\"sk-estimator-id-17\" type=\"checkbox\" checked><label for=\"sk-estimator-id-17\" class=\"sk-toggleable__label sk-toggleable__label-arrow\">RandomForestClassifier</label><div class=\"sk-toggleable__content\"><pre>RandomForestClassifier(min_samples_leaf=50, n_estimators=800, random_state=1)</pre></div></div></div></div></div>"
      ],
      "text/plain": [
       "RandomForestClassifier(min_samples_leaf=50, n_estimators=800, random_state=1)"
      ]
     },
     "execution_count": 158,
     "metadata": {},
     "output_type": "execute_result"
    }
   ],
   "source": [
    "rf = RandomForestClassifier(n_estimators = 800, random_state = 1, min_samples_leaf = 50)\n",
    "rf.fit(train_X, train_y)"
   ]
  },
  {
   "cell_type": "code",
   "execution_count": 159,
   "id": "5bd9e396",
   "metadata": {},
   "outputs": [],
   "source": [
    "importances = rf.feature_importances_\n",
    "std = np.std([tree.feature_importances_ for tree in rf.estimators_], axis = 0)"
   ]
  },
  {
   "cell_type": "code",
   "execution_count": 160,
   "id": "02e86c55",
   "metadata": {},
   "outputs": [],
   "source": [
    "df = pd.DataFrame({'feature':train_X.columns, 'importance': importances, 'std':std})"
   ]
  },
  {
   "cell_type": "code",
   "execution_count": 161,
   "id": "7ab71da7",
   "metadata": {},
   "outputs": [
    {
     "name": "stdout",
     "output_type": "stream",
     "text": [
      "          feature  importance       std\n",
      "4         Default    0.000000  0.000000\n",
      "7         CarLoan    0.002848  0.008475\n",
      "3       Education    0.008127  0.012067\n",
      "2         Marital    0.010873  0.017199\n",
      "8    NoOfContacts    0.016185  0.019028\n",
      "1             Job    0.018093  0.019434\n",
      "0             Age    0.030733  0.033581\n",
      "5         Balance    0.031859  0.030487\n",
      "10   PrevAttempts    0.068020  0.079271\n",
      "6     HHInsurance    0.082315  0.057785\n",
      "9      DaysPassed    0.090949  0.093411\n",
      "11  call_duration    0.639999  0.145831\n"
     ]
    }
   ],
   "source": [
    "df = df.sort_values('importance')\n",
    "print(df)"
   ]
  },
  {
   "cell_type": "code",
   "execution_count": 162,
   "id": "d45d0ba5",
   "metadata": {},
   "outputs": [
    {
     "name": "stdout",
     "output_type": "stream",
     "text": [
      "Confusion Matrix (Accuracy 0.7945)\n",
      "\n",
      "       Prediction\n",
      "Actual   0   1\n",
      "     0 781 142\n",
      "     1 172 433\n"
     ]
    }
   ],
   "source": [
    "classificationSummary(test_y, rf.predict(test_X))"
   ]
  },
  {
   "cell_type": "code",
   "execution_count": 163,
   "id": "0f350b4a",
   "metadata": {},
   "outputs": [
    {
     "name": "stdout",
     "output_type": "stream",
     "text": [
      "Confusion Matrix (Accuracy 0.8202)\n",
      "\n",
      "       Prediction\n",
      "Actual    0    1\n",
      "     0 1200  176\n",
      "     1  236  680\n"
     ]
    }
   ],
   "source": [
    "classificationSummary(train_y, rf.predict(train_X))"
   ]
  },
  {
   "cell_type": "code",
   "execution_count": 164,
   "id": "7be955d8",
   "metadata": {},
   "outputs": [
    {
     "data": {
      "text/plain": [
       "0.7338983050847459"
      ]
     },
     "execution_count": 164,
     "metadata": {},
     "output_type": "execute_result"
    }
   ],
   "source": [
    "f1_score(test_y, rf.predict(test_X))"
   ]
  },
  {
   "cell_type": "code",
   "execution_count": 165,
   "id": "3c9e8104",
   "metadata": {},
   "outputs": [],
   "source": [
    "params = {\n",
    "    'max_depth': [2,3,5,10,20],\n",
    "    'min_samples_leaf': [5,10,20,50,100],\n",
    "    'n_estimators': [10,25,30,50,100,200]\n",
    "}"
   ]
  },
  {
   "cell_type": "code",
   "execution_count": 166,
   "id": "708c155a",
   "metadata": {},
   "outputs": [],
   "source": [
    "from sklearn.model_selection import GridSearchCV"
   ]
  },
  {
   "cell_type": "code",
   "execution_count": 167,
   "id": "5d39489c",
   "metadata": {},
   "outputs": [],
   "source": [
    "grid_search = GridSearchCV(estimator=rf,\n",
    "                           param_grid=params,\n",
    "                           cv = 4,\n",
    "                           n_jobs=-1, verbose=1, scoring=\"accuracy\")"
   ]
  },
  {
   "cell_type": "code",
   "execution_count": 168,
   "id": "4b931f78",
   "metadata": {},
   "outputs": [
    {
     "name": "stdout",
     "output_type": "stream",
     "text": [
      "Fitting 4 folds for each of 150 candidates, totalling 600 fits\n"
     ]
    },
    {
     "data": {
      "text/html": [
       "<style>#sk-container-id-16 {color: black;background-color: white;}#sk-container-id-16 pre{padding: 0;}#sk-container-id-16 div.sk-toggleable {background-color: white;}#sk-container-id-16 label.sk-toggleable__label {cursor: pointer;display: block;width: 100%;margin-bottom: 0;padding: 0.3em;box-sizing: border-box;text-align: center;}#sk-container-id-16 label.sk-toggleable__label-arrow:before {content: \"▸\";float: left;margin-right: 0.25em;color: #696969;}#sk-container-id-16 label.sk-toggleable__label-arrow:hover:before {color: black;}#sk-container-id-16 div.sk-estimator:hover label.sk-toggleable__label-arrow:before {color: black;}#sk-container-id-16 div.sk-toggleable__content {max-height: 0;max-width: 0;overflow: hidden;text-align: left;background-color: #f0f8ff;}#sk-container-id-16 div.sk-toggleable__content pre {margin: 0.2em;color: black;border-radius: 0.25em;background-color: #f0f8ff;}#sk-container-id-16 input.sk-toggleable__control:checked~div.sk-toggleable__content {max-height: 200px;max-width: 100%;overflow: auto;}#sk-container-id-16 input.sk-toggleable__control:checked~label.sk-toggleable__label-arrow:before {content: \"▾\";}#sk-container-id-16 div.sk-estimator input.sk-toggleable__control:checked~label.sk-toggleable__label {background-color: #d4ebff;}#sk-container-id-16 div.sk-label input.sk-toggleable__control:checked~label.sk-toggleable__label {background-color: #d4ebff;}#sk-container-id-16 input.sk-hidden--visually {border: 0;clip: rect(1px 1px 1px 1px);clip: rect(1px, 1px, 1px, 1px);height: 1px;margin: -1px;overflow: hidden;padding: 0;position: absolute;width: 1px;}#sk-container-id-16 div.sk-estimator {font-family: monospace;background-color: #f0f8ff;border: 1px dotted black;border-radius: 0.25em;box-sizing: border-box;margin-bottom: 0.5em;}#sk-container-id-16 div.sk-estimator:hover {background-color: #d4ebff;}#sk-container-id-16 div.sk-parallel-item::after {content: \"\";width: 100%;border-bottom: 1px solid gray;flex-grow: 1;}#sk-container-id-16 div.sk-label:hover label.sk-toggleable__label {background-color: #d4ebff;}#sk-container-id-16 div.sk-serial::before {content: \"\";position: absolute;border-left: 1px solid gray;box-sizing: border-box;top: 0;bottom: 0;left: 50%;z-index: 0;}#sk-container-id-16 div.sk-serial {display: flex;flex-direction: column;align-items: center;background-color: white;padding-right: 0.2em;padding-left: 0.2em;position: relative;}#sk-container-id-16 div.sk-item {position: relative;z-index: 1;}#sk-container-id-16 div.sk-parallel {display: flex;align-items: stretch;justify-content: center;background-color: white;position: relative;}#sk-container-id-16 div.sk-item::before, #sk-container-id-16 div.sk-parallel-item::before {content: \"\";position: absolute;border-left: 1px solid gray;box-sizing: border-box;top: 0;bottom: 0;left: 50%;z-index: -1;}#sk-container-id-16 div.sk-parallel-item {display: flex;flex-direction: column;z-index: 1;position: relative;background-color: white;}#sk-container-id-16 div.sk-parallel-item:first-child::after {align-self: flex-end;width: 50%;}#sk-container-id-16 div.sk-parallel-item:last-child::after {align-self: flex-start;width: 50%;}#sk-container-id-16 div.sk-parallel-item:only-child::after {width: 0;}#sk-container-id-16 div.sk-dashed-wrapped {border: 1px dashed gray;margin: 0 0.4em 0.5em 0.4em;box-sizing: border-box;padding-bottom: 0.4em;background-color: white;}#sk-container-id-16 div.sk-label label {font-family: monospace;font-weight: bold;display: inline-block;line-height: 1.2em;}#sk-container-id-16 div.sk-label-container {text-align: center;}#sk-container-id-16 div.sk-container {/* jupyter's `normalize.less` sets `[hidden] { display: none; }` but bootstrap.min.css set `[hidden] { display: none !important; }` so we also need the `!important` here to be able to override the default hidden behavior on the sphinx rendered scikit-learn.org. See: https://github.com/scikit-learn/scikit-learn/issues/21755 */display: inline-block !important;position: relative;}#sk-container-id-16 div.sk-text-repr-fallback {display: none;}</style><div id=\"sk-container-id-16\" class=\"sk-top-container\"><div class=\"sk-text-repr-fallback\"><pre>GridSearchCV(cv=4,\n",
       "             estimator=RandomForestClassifier(min_samples_leaf=50,\n",
       "                                              n_estimators=800,\n",
       "                                              random_state=1),\n",
       "             n_jobs=-1,\n",
       "             param_grid={&#x27;max_depth&#x27;: [2, 3, 5, 10, 20],\n",
       "                         &#x27;min_samples_leaf&#x27;: [5, 10, 20, 50, 100],\n",
       "                         &#x27;n_estimators&#x27;: [10, 25, 30, 50, 100, 200]},\n",
       "             scoring=&#x27;accuracy&#x27;, verbose=1)</pre><b>In a Jupyter environment, please rerun this cell to show the HTML representation or trust the notebook. <br />On GitHub, the HTML representation is unable to render, please try loading this page with nbviewer.org.</b></div><div class=\"sk-container\" hidden><div class=\"sk-item sk-dashed-wrapped\"><div class=\"sk-label-container\"><div class=\"sk-label sk-toggleable\"><input class=\"sk-toggleable__control sk-hidden--visually\" id=\"sk-estimator-id-18\" type=\"checkbox\" ><label for=\"sk-estimator-id-18\" class=\"sk-toggleable__label sk-toggleable__label-arrow\">GridSearchCV</label><div class=\"sk-toggleable__content\"><pre>GridSearchCV(cv=4,\n",
       "             estimator=RandomForestClassifier(min_samples_leaf=50,\n",
       "                                              n_estimators=800,\n",
       "                                              random_state=1),\n",
       "             n_jobs=-1,\n",
       "             param_grid={&#x27;max_depth&#x27;: [2, 3, 5, 10, 20],\n",
       "                         &#x27;min_samples_leaf&#x27;: [5, 10, 20, 50, 100],\n",
       "                         &#x27;n_estimators&#x27;: [10, 25, 30, 50, 100, 200]},\n",
       "             scoring=&#x27;accuracy&#x27;, verbose=1)</pre></div></div></div><div class=\"sk-parallel\"><div class=\"sk-parallel-item\"><div class=\"sk-item\"><div class=\"sk-label-container\"><div class=\"sk-label sk-toggleable\"><input class=\"sk-toggleable__control sk-hidden--visually\" id=\"sk-estimator-id-19\" type=\"checkbox\" ><label for=\"sk-estimator-id-19\" class=\"sk-toggleable__label sk-toggleable__label-arrow\">estimator: RandomForestClassifier</label><div class=\"sk-toggleable__content\"><pre>RandomForestClassifier(min_samples_leaf=50, n_estimators=800, random_state=1)</pre></div></div></div><div class=\"sk-serial\"><div class=\"sk-item\"><div class=\"sk-estimator sk-toggleable\"><input class=\"sk-toggleable__control sk-hidden--visually\" id=\"sk-estimator-id-20\" type=\"checkbox\" ><label for=\"sk-estimator-id-20\" class=\"sk-toggleable__label sk-toggleable__label-arrow\">RandomForestClassifier</label><div class=\"sk-toggleable__content\"><pre>RandomForestClassifier(min_samples_leaf=50, n_estimators=800, random_state=1)</pre></div></div></div></div></div></div></div></div></div></div>"
      ],
      "text/plain": [
       "GridSearchCV(cv=4,\n",
       "             estimator=RandomForestClassifier(min_samples_leaf=50,\n",
       "                                              n_estimators=800,\n",
       "                                              random_state=1),\n",
       "             n_jobs=-1,\n",
       "             param_grid={'max_depth': [2, 3, 5, 10, 20],\n",
       "                         'min_samples_leaf': [5, 10, 20, 50, 100],\n",
       "                         'n_estimators': [10, 25, 30, 50, 100, 200]},\n",
       "             scoring='accuracy', verbose=1)"
      ]
     },
     "execution_count": 168,
     "metadata": {},
     "output_type": "execute_result"
    }
   ],
   "source": [
    "grid_search.fit(X_train, y_train)"
   ]
  },
  {
   "cell_type": "code",
   "execution_count": 169,
   "id": "2cea3855",
   "metadata": {},
   "outputs": [
    {
     "data": {
      "text/html": [
       "<style>#sk-container-id-17 {color: black;background-color: white;}#sk-container-id-17 pre{padding: 0;}#sk-container-id-17 div.sk-toggleable {background-color: white;}#sk-container-id-17 label.sk-toggleable__label {cursor: pointer;display: block;width: 100%;margin-bottom: 0;padding: 0.3em;box-sizing: border-box;text-align: center;}#sk-container-id-17 label.sk-toggleable__label-arrow:before {content: \"▸\";float: left;margin-right: 0.25em;color: #696969;}#sk-container-id-17 label.sk-toggleable__label-arrow:hover:before {color: black;}#sk-container-id-17 div.sk-estimator:hover label.sk-toggleable__label-arrow:before {color: black;}#sk-container-id-17 div.sk-toggleable__content {max-height: 0;max-width: 0;overflow: hidden;text-align: left;background-color: #f0f8ff;}#sk-container-id-17 div.sk-toggleable__content pre {margin: 0.2em;color: black;border-radius: 0.25em;background-color: #f0f8ff;}#sk-container-id-17 input.sk-toggleable__control:checked~div.sk-toggleable__content {max-height: 200px;max-width: 100%;overflow: auto;}#sk-container-id-17 input.sk-toggleable__control:checked~label.sk-toggleable__label-arrow:before {content: \"▾\";}#sk-container-id-17 div.sk-estimator input.sk-toggleable__control:checked~label.sk-toggleable__label {background-color: #d4ebff;}#sk-container-id-17 div.sk-label input.sk-toggleable__control:checked~label.sk-toggleable__label {background-color: #d4ebff;}#sk-container-id-17 input.sk-hidden--visually {border: 0;clip: rect(1px 1px 1px 1px);clip: rect(1px, 1px, 1px, 1px);height: 1px;margin: -1px;overflow: hidden;padding: 0;position: absolute;width: 1px;}#sk-container-id-17 div.sk-estimator {font-family: monospace;background-color: #f0f8ff;border: 1px dotted black;border-radius: 0.25em;box-sizing: border-box;margin-bottom: 0.5em;}#sk-container-id-17 div.sk-estimator:hover {background-color: #d4ebff;}#sk-container-id-17 div.sk-parallel-item::after {content: \"\";width: 100%;border-bottom: 1px solid gray;flex-grow: 1;}#sk-container-id-17 div.sk-label:hover label.sk-toggleable__label {background-color: #d4ebff;}#sk-container-id-17 div.sk-serial::before {content: \"\";position: absolute;border-left: 1px solid gray;box-sizing: border-box;top: 0;bottom: 0;left: 50%;z-index: 0;}#sk-container-id-17 div.sk-serial {display: flex;flex-direction: column;align-items: center;background-color: white;padding-right: 0.2em;padding-left: 0.2em;position: relative;}#sk-container-id-17 div.sk-item {position: relative;z-index: 1;}#sk-container-id-17 div.sk-parallel {display: flex;align-items: stretch;justify-content: center;background-color: white;position: relative;}#sk-container-id-17 div.sk-item::before, #sk-container-id-17 div.sk-parallel-item::before {content: \"\";position: absolute;border-left: 1px solid gray;box-sizing: border-box;top: 0;bottom: 0;left: 50%;z-index: -1;}#sk-container-id-17 div.sk-parallel-item {display: flex;flex-direction: column;z-index: 1;position: relative;background-color: white;}#sk-container-id-17 div.sk-parallel-item:first-child::after {align-self: flex-end;width: 50%;}#sk-container-id-17 div.sk-parallel-item:last-child::after {align-self: flex-start;width: 50%;}#sk-container-id-17 div.sk-parallel-item:only-child::after {width: 0;}#sk-container-id-17 div.sk-dashed-wrapped {border: 1px dashed gray;margin: 0 0.4em 0.5em 0.4em;box-sizing: border-box;padding-bottom: 0.4em;background-color: white;}#sk-container-id-17 div.sk-label label {font-family: monospace;font-weight: bold;display: inline-block;line-height: 1.2em;}#sk-container-id-17 div.sk-label-container {text-align: center;}#sk-container-id-17 div.sk-container {/* jupyter's `normalize.less` sets `[hidden] { display: none; }` but bootstrap.min.css set `[hidden] { display: none !important; }` so we also need the `!important` here to be able to override the default hidden behavior on the sphinx rendered scikit-learn.org. See: https://github.com/scikit-learn/scikit-learn/issues/21755 */display: inline-block !important;position: relative;}#sk-container-id-17 div.sk-text-repr-fallback {display: none;}</style><div id=\"sk-container-id-17\" class=\"sk-top-container\"><div class=\"sk-text-repr-fallback\"><pre>RandomForestClassifier(max_depth=20, min_samples_leaf=5, n_estimators=30,\n",
       "                       random_state=1)</pre><b>In a Jupyter environment, please rerun this cell to show the HTML representation or trust the notebook. <br />On GitHub, the HTML representation is unable to render, please try loading this page with nbviewer.org.</b></div><div class=\"sk-container\" hidden><div class=\"sk-item\"><div class=\"sk-estimator sk-toggleable\"><input class=\"sk-toggleable__control sk-hidden--visually\" id=\"sk-estimator-id-21\" type=\"checkbox\" checked><label for=\"sk-estimator-id-21\" class=\"sk-toggleable__label sk-toggleable__label-arrow\">RandomForestClassifier</label><div class=\"sk-toggleable__content\"><pre>RandomForestClassifier(max_depth=20, min_samples_leaf=5, n_estimators=30,\n",
       "                       random_state=1)</pre></div></div></div></div></div>"
      ],
      "text/plain": [
       "RandomForestClassifier(max_depth=20, min_samples_leaf=5, n_estimators=30,\n",
       "                       random_state=1)"
      ]
     },
     "execution_count": 169,
     "metadata": {},
     "output_type": "execute_result"
    }
   ],
   "source": [
    "rf_best = grid_search.best_estimator_\n",
    "rf_best"
   ]
  },
  {
   "cell_type": "code",
   "execution_count": 170,
   "id": "9f7ef4ce",
   "metadata": {},
   "outputs": [
    {
     "data": {
      "text/html": [
       "<style>#sk-container-id-18 {color: black;background-color: white;}#sk-container-id-18 pre{padding: 0;}#sk-container-id-18 div.sk-toggleable {background-color: white;}#sk-container-id-18 label.sk-toggleable__label {cursor: pointer;display: block;width: 100%;margin-bottom: 0;padding: 0.3em;box-sizing: border-box;text-align: center;}#sk-container-id-18 label.sk-toggleable__label-arrow:before {content: \"▸\";float: left;margin-right: 0.25em;color: #696969;}#sk-container-id-18 label.sk-toggleable__label-arrow:hover:before {color: black;}#sk-container-id-18 div.sk-estimator:hover label.sk-toggleable__label-arrow:before {color: black;}#sk-container-id-18 div.sk-toggleable__content {max-height: 0;max-width: 0;overflow: hidden;text-align: left;background-color: #f0f8ff;}#sk-container-id-18 div.sk-toggleable__content pre {margin: 0.2em;color: black;border-radius: 0.25em;background-color: #f0f8ff;}#sk-container-id-18 input.sk-toggleable__control:checked~div.sk-toggleable__content {max-height: 200px;max-width: 100%;overflow: auto;}#sk-container-id-18 input.sk-toggleable__control:checked~label.sk-toggleable__label-arrow:before {content: \"▾\";}#sk-container-id-18 div.sk-estimator input.sk-toggleable__control:checked~label.sk-toggleable__label {background-color: #d4ebff;}#sk-container-id-18 div.sk-label input.sk-toggleable__control:checked~label.sk-toggleable__label {background-color: #d4ebff;}#sk-container-id-18 input.sk-hidden--visually {border: 0;clip: rect(1px 1px 1px 1px);clip: rect(1px, 1px, 1px, 1px);height: 1px;margin: -1px;overflow: hidden;padding: 0;position: absolute;width: 1px;}#sk-container-id-18 div.sk-estimator {font-family: monospace;background-color: #f0f8ff;border: 1px dotted black;border-radius: 0.25em;box-sizing: border-box;margin-bottom: 0.5em;}#sk-container-id-18 div.sk-estimator:hover {background-color: #d4ebff;}#sk-container-id-18 div.sk-parallel-item::after {content: \"\";width: 100%;border-bottom: 1px solid gray;flex-grow: 1;}#sk-container-id-18 div.sk-label:hover label.sk-toggleable__label {background-color: #d4ebff;}#sk-container-id-18 div.sk-serial::before {content: \"\";position: absolute;border-left: 1px solid gray;box-sizing: border-box;top: 0;bottom: 0;left: 50%;z-index: 0;}#sk-container-id-18 div.sk-serial {display: flex;flex-direction: column;align-items: center;background-color: white;padding-right: 0.2em;padding-left: 0.2em;position: relative;}#sk-container-id-18 div.sk-item {position: relative;z-index: 1;}#sk-container-id-18 div.sk-parallel {display: flex;align-items: stretch;justify-content: center;background-color: white;position: relative;}#sk-container-id-18 div.sk-item::before, #sk-container-id-18 div.sk-parallel-item::before {content: \"\";position: absolute;border-left: 1px solid gray;box-sizing: border-box;top: 0;bottom: 0;left: 50%;z-index: -1;}#sk-container-id-18 div.sk-parallel-item {display: flex;flex-direction: column;z-index: 1;position: relative;background-color: white;}#sk-container-id-18 div.sk-parallel-item:first-child::after {align-self: flex-end;width: 50%;}#sk-container-id-18 div.sk-parallel-item:last-child::after {align-self: flex-start;width: 50%;}#sk-container-id-18 div.sk-parallel-item:only-child::after {width: 0;}#sk-container-id-18 div.sk-dashed-wrapped {border: 1px dashed gray;margin: 0 0.4em 0.5em 0.4em;box-sizing: border-box;padding-bottom: 0.4em;background-color: white;}#sk-container-id-18 div.sk-label label {font-family: monospace;font-weight: bold;display: inline-block;line-height: 1.2em;}#sk-container-id-18 div.sk-label-container {text-align: center;}#sk-container-id-18 div.sk-container {/* jupyter's `normalize.less` sets `[hidden] { display: none; }` but bootstrap.min.css set `[hidden] { display: none !important; }` so we also need the `!important` here to be able to override the default hidden behavior on the sphinx rendered scikit-learn.org. See: https://github.com/scikit-learn/scikit-learn/issues/21755 */display: inline-block !important;position: relative;}#sk-container-id-18 div.sk-text-repr-fallback {display: none;}</style><div id=\"sk-container-id-18\" class=\"sk-top-container\"><div class=\"sk-text-repr-fallback\"><pre>RandomForestClassifier(max_depth=20, min_samples_leaf=5, n_estimators=200,\n",
       "                       random_state=1)</pre><b>In a Jupyter environment, please rerun this cell to show the HTML representation or trust the notebook. <br />On GitHub, the HTML representation is unable to render, please try loading this page with nbviewer.org.</b></div><div class=\"sk-container\" hidden><div class=\"sk-item\"><div class=\"sk-estimator sk-toggleable\"><input class=\"sk-toggleable__control sk-hidden--visually\" id=\"sk-estimator-id-22\" type=\"checkbox\" checked><label for=\"sk-estimator-id-22\" class=\"sk-toggleable__label sk-toggleable__label-arrow\">RandomForestClassifier</label><div class=\"sk-toggleable__content\"><pre>RandomForestClassifier(max_depth=20, min_samples_leaf=5, n_estimators=200,\n",
       "                       random_state=1)</pre></div></div></div></div></div>"
      ],
      "text/plain": [
       "RandomForestClassifier(max_depth=20, min_samples_leaf=5, n_estimators=200,\n",
       "                       random_state=1)"
      ]
     },
     "execution_count": 170,
     "metadata": {},
     "output_type": "execute_result"
    }
   ],
   "source": [
    "rf_new  = RandomForestClassifier(n_estimators = 200, random_state = 1, min_samples_leaf = 5, max_depth = 20)\n",
    "rf_new.fit(train_X, train_y)"
   ]
  },
  {
   "cell_type": "code",
   "execution_count": 171,
   "id": "15b98628",
   "metadata": {},
   "outputs": [
    {
     "name": "stdout",
     "output_type": "stream",
     "text": [
      "Confusion Matrix (Accuracy 0.7965)\n",
      "\n",
      "       Prediction\n",
      "Actual   0   1\n",
      "     0 773 150\n",
      "     1 161 444\n"
     ]
    }
   ],
   "source": [
    "classificationSummary(test_y, rf_new.predict(test_X))"
   ]
  },
  {
   "cell_type": "code",
   "execution_count": 172,
   "id": "12194a5c",
   "metadata": {},
   "outputs": [
    {
     "name": "stdout",
     "output_type": "stream",
     "text": [
      "Confusion Matrix (Accuracy 0.8752)\n",
      "\n",
      "       Prediction\n",
      "Actual    0    1\n",
      "     0 1240  136\n",
      "     1  150  766\n"
     ]
    }
   ],
   "source": [
    "classificationSummary(train_y, rf_new.predict(train_X))"
   ]
  },
  {
   "cell_type": "markdown",
   "id": "d671d8bc",
   "metadata": {},
   "source": [
    "# Applying Logistic Regression"
   ]
  },
  {
   "cell_type": "code",
   "execution_count": 173,
   "id": "93578338",
   "metadata": {},
   "outputs": [],
   "source": [
    "from pathlib import Path\n",
    "\n",
    "import numpy as np\n",
    "import pandas as pd\n",
    "\n",
    "from sklearn.linear_model import LogisticRegression, LogisticRegressionCV\n",
    "from sklearn.model_selection import train_test_split\n",
    "\n",
    "import statsmodels.api as sm\n",
    "import dmba\n",
    "import matplotlib.pylab as plt\n",
    "import seaborn as sns\n",
    "from dmba import classificationSummary, gainsChart, liftChart\n",
    "from dmba.metric import AIC_score"
   ]
  },
  {
   "cell_type": "code",
   "execution_count": 174,
   "id": "ce916141",
   "metadata": {},
   "outputs": [
    {
     "data": {
      "text/html": [
       "<div>\n",
       "<style scoped>\n",
       "    .dataframe tbody tr th:only-of-type {\n",
       "        vertical-align: middle;\n",
       "    }\n",
       "\n",
       "    .dataframe tbody tr th {\n",
       "        vertical-align: top;\n",
       "    }\n",
       "\n",
       "    .dataframe thead th {\n",
       "        text-align: right;\n",
       "    }\n",
       "</style>\n",
       "<table border=\"1\" class=\"dataframe\">\n",
       "  <thead>\n",
       "    <tr style=\"text-align: right;\">\n",
       "      <th></th>\n",
       "      <th>Age</th>\n",
       "      <th>Job</th>\n",
       "      <th>Marital</th>\n",
       "      <th>Education</th>\n",
       "      <th>Default</th>\n",
       "      <th>Balance</th>\n",
       "      <th>HHInsurance</th>\n",
       "      <th>CarLoan</th>\n",
       "      <th>NoOfContacts</th>\n",
       "      <th>DaysPassed</th>\n",
       "      <th>PrevAttempts</th>\n",
       "      <th>call_duration</th>\n",
       "      <th>CarInsurance</th>\n",
       "    </tr>\n",
       "  </thead>\n",
       "  <tbody>\n",
       "    <tr>\n",
       "      <th>0</th>\n",
       "      <td>32</td>\n",
       "      <td>management</td>\n",
       "      <td>single</td>\n",
       "      <td>tertiary</td>\n",
       "      <td>0</td>\n",
       "      <td>1218</td>\n",
       "      <td>1</td>\n",
       "      <td>0</td>\n",
       "      <td>2</td>\n",
       "      <td>-1</td>\n",
       "      <td>0</td>\n",
       "      <td>1</td>\n",
       "      <td>0</td>\n",
       "    </tr>\n",
       "    <tr>\n",
       "      <th>1</th>\n",
       "      <td>32</td>\n",
       "      <td>blue-collar</td>\n",
       "      <td>married</td>\n",
       "      <td>primary</td>\n",
       "      <td>0</td>\n",
       "      <td>1156</td>\n",
       "      <td>1</td>\n",
       "      <td>0</td>\n",
       "      <td>5</td>\n",
       "      <td>-1</td>\n",
       "      <td>0</td>\n",
       "      <td>3</td>\n",
       "      <td>0</td>\n",
       "    </tr>\n",
       "  </tbody>\n",
       "</table>\n",
       "</div>"
      ],
      "text/plain": [
       "   Age          Job  Marital Education  Default  Balance  HHInsurance  \\\n",
       "0   32   management   single  tertiary        0     1218            1   \n",
       "1   32  blue-collar  married   primary        0     1156            1   \n",
       "\n",
       "   CarLoan  NoOfContacts  DaysPassed  PrevAttempts  call_duration  \\\n",
       "0        0             2          -1             0              1   \n",
       "1        0             5          -1             0              3   \n",
       "\n",
       "   CarInsurance  \n",
       "0             0  \n",
       "1             0  "
      ]
     },
     "execution_count": 174,
     "metadata": {},
     "output_type": "execute_result"
    }
   ],
   "source": [
    "car_insurance_df4 = car_insurance_df.copy()\n",
    "car_insurance_df4.head(2)"
   ]
  },
  {
   "cell_type": "code",
   "execution_count": 175,
   "id": "2dcd1e2f",
   "metadata": {},
   "outputs": [],
   "source": [
    "le = preprocessing.LabelEncoder()\n",
    "##(['Job', 'Marital', 'Education])\n",
    "car_insurance_df4['Job'] = le.fit_transform(car_insurance_df4['Job'])\n",
    "car_insurance_df4['Marital'] = le.fit_transform(car_insurance_df4['Marital'])\n",
    "car_insurance_df4['Education'] = le.fit_transform(car_insurance_df4['Education'])"
   ]
  },
  {
   "cell_type": "code",
   "execution_count": 176,
   "id": "fb0db686",
   "metadata": {},
   "outputs": [],
   "source": [
    "X =car_insurance_df4[predictors]\n",
    "y = car_insurance_df4[outcome]\n",
    "\n",
    "train_X, test_X, train_y, test_y = train_test_split(X, y, test_size =0.4, random_state = 11)"
   ]
  },
  {
   "cell_type": "code",
   "execution_count": 177,
   "id": "eebf1a3a",
   "metadata": {},
   "outputs": [
    {
     "data": {
      "text/html": [
       "<style>#sk-container-id-19 {color: black;background-color: white;}#sk-container-id-19 pre{padding: 0;}#sk-container-id-19 div.sk-toggleable {background-color: white;}#sk-container-id-19 label.sk-toggleable__label {cursor: pointer;display: block;width: 100%;margin-bottom: 0;padding: 0.3em;box-sizing: border-box;text-align: center;}#sk-container-id-19 label.sk-toggleable__label-arrow:before {content: \"▸\";float: left;margin-right: 0.25em;color: #696969;}#sk-container-id-19 label.sk-toggleable__label-arrow:hover:before {color: black;}#sk-container-id-19 div.sk-estimator:hover label.sk-toggleable__label-arrow:before {color: black;}#sk-container-id-19 div.sk-toggleable__content {max-height: 0;max-width: 0;overflow: hidden;text-align: left;background-color: #f0f8ff;}#sk-container-id-19 div.sk-toggleable__content pre {margin: 0.2em;color: black;border-radius: 0.25em;background-color: #f0f8ff;}#sk-container-id-19 input.sk-toggleable__control:checked~div.sk-toggleable__content {max-height: 200px;max-width: 100%;overflow: auto;}#sk-container-id-19 input.sk-toggleable__control:checked~label.sk-toggleable__label-arrow:before {content: \"▾\";}#sk-container-id-19 div.sk-estimator input.sk-toggleable__control:checked~label.sk-toggleable__label {background-color: #d4ebff;}#sk-container-id-19 div.sk-label input.sk-toggleable__control:checked~label.sk-toggleable__label {background-color: #d4ebff;}#sk-container-id-19 input.sk-hidden--visually {border: 0;clip: rect(1px 1px 1px 1px);clip: rect(1px, 1px, 1px, 1px);height: 1px;margin: -1px;overflow: hidden;padding: 0;position: absolute;width: 1px;}#sk-container-id-19 div.sk-estimator {font-family: monospace;background-color: #f0f8ff;border: 1px dotted black;border-radius: 0.25em;box-sizing: border-box;margin-bottom: 0.5em;}#sk-container-id-19 div.sk-estimator:hover {background-color: #d4ebff;}#sk-container-id-19 div.sk-parallel-item::after {content: \"\";width: 100%;border-bottom: 1px solid gray;flex-grow: 1;}#sk-container-id-19 div.sk-label:hover label.sk-toggleable__label {background-color: #d4ebff;}#sk-container-id-19 div.sk-serial::before {content: \"\";position: absolute;border-left: 1px solid gray;box-sizing: border-box;top: 0;bottom: 0;left: 50%;z-index: 0;}#sk-container-id-19 div.sk-serial {display: flex;flex-direction: column;align-items: center;background-color: white;padding-right: 0.2em;padding-left: 0.2em;position: relative;}#sk-container-id-19 div.sk-item {position: relative;z-index: 1;}#sk-container-id-19 div.sk-parallel {display: flex;align-items: stretch;justify-content: center;background-color: white;position: relative;}#sk-container-id-19 div.sk-item::before, #sk-container-id-19 div.sk-parallel-item::before {content: \"\";position: absolute;border-left: 1px solid gray;box-sizing: border-box;top: 0;bottom: 0;left: 50%;z-index: -1;}#sk-container-id-19 div.sk-parallel-item {display: flex;flex-direction: column;z-index: 1;position: relative;background-color: white;}#sk-container-id-19 div.sk-parallel-item:first-child::after {align-self: flex-end;width: 50%;}#sk-container-id-19 div.sk-parallel-item:last-child::after {align-self: flex-start;width: 50%;}#sk-container-id-19 div.sk-parallel-item:only-child::after {width: 0;}#sk-container-id-19 div.sk-dashed-wrapped {border: 1px dashed gray;margin: 0 0.4em 0.5em 0.4em;box-sizing: border-box;padding-bottom: 0.4em;background-color: white;}#sk-container-id-19 div.sk-label label {font-family: monospace;font-weight: bold;display: inline-block;line-height: 1.2em;}#sk-container-id-19 div.sk-label-container {text-align: center;}#sk-container-id-19 div.sk-container {/* jupyter's `normalize.less` sets `[hidden] { display: none; }` but bootstrap.min.css set `[hidden] { display: none !important; }` so we also need the `!important` here to be able to override the default hidden behavior on the sphinx rendered scikit-learn.org. See: https://github.com/scikit-learn/scikit-learn/issues/21755 */display: inline-block !important;position: relative;}#sk-container-id-19 div.sk-text-repr-fallback {display: none;}</style><div id=\"sk-container-id-19\" class=\"sk-top-container\"><div class=\"sk-text-repr-fallback\"><pre>LogisticRegression(penalty=&#x27;l1&#x27;, solver=&#x27;liblinear&#x27;)</pre><b>In a Jupyter environment, please rerun this cell to show the HTML representation or trust the notebook. <br />On GitHub, the HTML representation is unable to render, please try loading this page with nbviewer.org.</b></div><div class=\"sk-container\" hidden><div class=\"sk-item\"><div class=\"sk-estimator sk-toggleable\"><input class=\"sk-toggleable__control sk-hidden--visually\" id=\"sk-estimator-id-23\" type=\"checkbox\" checked><label for=\"sk-estimator-id-23\" class=\"sk-toggleable__label sk-toggleable__label-arrow\">LogisticRegression</label><div class=\"sk-toggleable__content\"><pre>LogisticRegression(penalty=&#x27;l1&#x27;, solver=&#x27;liblinear&#x27;)</pre></div></div></div></div></div>"
      ],
      "text/plain": [
       "LogisticRegression(penalty='l1', solver='liblinear')"
      ]
     },
     "execution_count": 177,
     "metadata": {},
     "output_type": "execute_result"
    }
   ],
   "source": [
    "# Applying logistic Regression \n",
    "logit_reg = LogisticRegression(penalty= 'l1', tol = 0.0001, solver = 'liblinear')\n",
    "logit_reg.fit(train_X, train_y)"
   ]
  },
  {
   "cell_type": "code",
   "execution_count": 178,
   "id": "1bcb5e95",
   "metadata": {},
   "outputs": [
    {
     "name": "stdout",
     "output_type": "stream",
     "text": [
      "                  coeff\n",
      "Age            0.010739\n",
      "Job            0.035507\n",
      "Marital        0.234501\n",
      "Education      0.333420\n",
      "Default        0.000000\n",
      "Balance       -0.000004\n",
      "HHInsurance   -1.215736\n",
      "CarLoan       -0.654339\n",
      "NoOfContacts  -0.111479\n",
      "DaysPassed     0.002648\n",
      "PrevAttempts   0.135346\n",
      "call_duration  0.333736\n"
     ]
    }
   ],
   "source": [
    "print(pd.DataFrame({'coeff': logit_reg.coef_[0]}, index = X.columns))"
   ]
  },
  {
   "cell_type": "code",
   "execution_count": 179,
   "id": "d6daf320",
   "metadata": {},
   "outputs": [],
   "source": [
    "logit_reg_pred = logit_reg.predict(test_X)\n",
    "logit_reg_proba = logit_reg.predict_proba(test_X)"
   ]
  },
  {
   "cell_type": "code",
   "execution_count": 180,
   "id": "b848c97d",
   "metadata": {},
   "outputs": [
    {
     "data": {
      "text/html": [
       "<div>\n",
       "<style scoped>\n",
       "    .dataframe tbody tr th:only-of-type {\n",
       "        vertical-align: middle;\n",
       "    }\n",
       "\n",
       "    .dataframe tbody tr th {\n",
       "        vertical-align: top;\n",
       "    }\n",
       "\n",
       "    .dataframe thead th {\n",
       "        text-align: right;\n",
       "    }\n",
       "</style>\n",
       "<table border=\"1\" class=\"dataframe\">\n",
       "  <thead>\n",
       "    <tr style=\"text-align: right;\">\n",
       "      <th></th>\n",
       "      <th>actual</th>\n",
       "      <th>p0</th>\n",
       "      <th>p1</th>\n",
       "      <th>predicted</th>\n",
       "    </tr>\n",
       "  </thead>\n",
       "  <tbody>\n",
       "    <tr>\n",
       "      <th>1262</th>\n",
       "      <td>1</td>\n",
       "      <td>0.000013</td>\n",
       "      <td>0.999987</td>\n",
       "      <td>1</td>\n",
       "    </tr>\n",
       "    <tr>\n",
       "      <th>503</th>\n",
       "      <td>1</td>\n",
       "      <td>0.000114</td>\n",
       "      <td>0.999886</td>\n",
       "      <td>1</td>\n",
       "    </tr>\n",
       "    <tr>\n",
       "      <th>607</th>\n",
       "      <td>1</td>\n",
       "      <td>0.000144</td>\n",
       "      <td>0.999856</td>\n",
       "      <td>1</td>\n",
       "    </tr>\n",
       "    <tr>\n",
       "      <th>2858</th>\n",
       "      <td>1</td>\n",
       "      <td>0.000197</td>\n",
       "      <td>0.999803</td>\n",
       "      <td>1</td>\n",
       "    </tr>\n",
       "    <tr>\n",
       "      <th>2816</th>\n",
       "      <td>1</td>\n",
       "      <td>0.000262</td>\n",
       "      <td>0.999738</td>\n",
       "      <td>1</td>\n",
       "    </tr>\n",
       "    <tr>\n",
       "      <th>...</th>\n",
       "      <td>...</td>\n",
       "      <td>...</td>\n",
       "      <td>...</td>\n",
       "      <td>...</td>\n",
       "    </tr>\n",
       "    <tr>\n",
       "      <th>729</th>\n",
       "      <td>0</td>\n",
       "      <td>0.987672</td>\n",
       "      <td>0.012328</td>\n",
       "      <td>0</td>\n",
       "    </tr>\n",
       "    <tr>\n",
       "      <th>1748</th>\n",
       "      <td>0</td>\n",
       "      <td>0.990177</td>\n",
       "      <td>0.009823</td>\n",
       "      <td>0</td>\n",
       "    </tr>\n",
       "    <tr>\n",
       "      <th>1882</th>\n",
       "      <td>0</td>\n",
       "      <td>0.993645</td>\n",
       "      <td>0.006355</td>\n",
       "      <td>0</td>\n",
       "    </tr>\n",
       "    <tr>\n",
       "      <th>3297</th>\n",
       "      <td>0</td>\n",
       "      <td>0.995787</td>\n",
       "      <td>0.004213</td>\n",
       "      <td>0</td>\n",
       "    </tr>\n",
       "    <tr>\n",
       "      <th>709</th>\n",
       "      <td>0</td>\n",
       "      <td>0.998999</td>\n",
       "      <td>0.001001</td>\n",
       "      <td>0</td>\n",
       "    </tr>\n",
       "  </tbody>\n",
       "</table>\n",
       "<p>1528 rows × 4 columns</p>\n",
       "</div>"
      ],
      "text/plain": [
       "      actual        p0        p1  predicted\n",
       "1262       1  0.000013  0.999987          1\n",
       "503        1  0.000114  0.999886          1\n",
       "607        1  0.000144  0.999856          1\n",
       "2858       1  0.000197  0.999803          1\n",
       "2816       1  0.000262  0.999738          1\n",
       "...      ...       ...       ...        ...\n",
       "729        0  0.987672  0.012328          0\n",
       "1748       0  0.990177  0.009823          0\n",
       "1882       0  0.993645  0.006355          0\n",
       "3297       0  0.995787  0.004213          0\n",
       "709        0  0.998999  0.001001          0\n",
       "\n",
       "[1528 rows x 4 columns]"
      ]
     },
     "execution_count": 180,
     "metadata": {},
     "output_type": "execute_result"
    }
   ],
   "source": [
    "logit_result = pd.DataFrame({'actual':test_y, \n",
    "                             'p0':[p[0] for p in logit_reg_proba], \n",
    "                             'p1':[p[1] for p in logit_reg_proba], 'predicted': logit_reg_pred}).sort_values('p1', ascending = False)\n",
    "logit_result"
   ]
  },
  {
   "cell_type": "code",
   "execution_count": 181,
   "id": "2b1f13f9",
   "metadata": {},
   "outputs": [
    {
     "name": "stdout",
     "output_type": "stream",
     "text": [
      "Confusion Matrix (Accuracy 0.7923)\n",
      "\n",
      "       Prediction\n",
      "Actual    0    1\n",
      "     0 1197  179\n",
      "     1  297  619\n",
      "None\n",
      "Confusion Matrix (Accuracy 0.7814)\n",
      "\n",
      "       Prediction\n",
      "Actual   0   1\n",
      "     0 804 119\n",
      "     1 215 390\n",
      "None\n",
      "F1_score:  0.7001795332136445\n"
     ]
    }
   ],
   "source": [
    "print(classificationSummary(train_y, logit_reg.predict(train_X)))\n",
    "print(classificationSummary(test_y, logit_reg.predict(test_X)))\n",
    "print(\"F1_score: \", f1_score(test_y, logit_reg.predict(test_X)))"
   ]
  },
  {
   "cell_type": "code",
   "execution_count": 240,
   "id": "82bab6f0",
   "metadata": {},
   "outputs": [
    {
     "data": {
      "image/png": "[encoded data removed]",
      "text/plain": [
       "<Figure size 432x288 with 1 Axes>"
      ]
     },
     "metadata": {
      "needs_background": "light"
     },
     "output_type": "display_data"
    }
   ],
   "source": [
    "## ROC Curve \n",
    "lr_probs = logit_reg.predict_proba(test_X)\n",
    "lr_probs = lr_probs[:, 1]\n",
    "\n",
    "lr_auc = roc_auc_score(test_y, lr_probs)\n",
    "\n",
    "lr_fpr, lr_tpr, _ = roc_curve(test_y, lr_probs)\n",
    "pyplot.plot(lr_fpr, lr_tpr, marker = '.', label = 'Logistic_Regreesion')\n",
    "pyplot.show()"
   ]
  },
  {
   "cell_type": "markdown",
   "id": "6f601609",
   "metadata": {},
   "source": [
    "**Accuracy with logistic regression algorithm is 78%.** "
   ]
  },
  {
   "cell_type": "markdown",
   "id": "7f6329c8",
   "metadata": {},
   "source": [
    "# **Applying Neural Network**"
   ]
  },
  {
   "cell_type": "code",
   "execution_count": 183,
   "id": "746ad354",
   "metadata": {},
   "outputs": [],
   "source": [
    "from pathlib import Path\n",
    "\n",
    "import pandas as pd\n",
    "from sklearn.model_selection import train_test_split\n",
    "from sklearn.neural_network import MLPClassifier\n",
    "import matplotlib.pyplot as plt\n",
    "\n",
    "import dmba\n",
    "from dmba import classificationSummary\n",
    "\n",
    "%matplotlib inline"
   ]
  },
  {
   "cell_type": "code",
   "execution_count": 184,
   "id": "43961f3b",
   "metadata": {},
   "outputs": [
    {
     "data": {
      "text/html": [
       "<div>\n",
       "<style scoped>\n",
       "    .dataframe tbody tr th:only-of-type {\n",
       "        vertical-align: middle;\n",
       "    }\n",
       "\n",
       "    .dataframe tbody tr th {\n",
       "        vertical-align: top;\n",
       "    }\n",
       "\n",
       "    .dataframe thead th {\n",
       "        text-align: right;\n",
       "    }\n",
       "</style>\n",
       "<table border=\"1\" class=\"dataframe\">\n",
       "  <thead>\n",
       "    <tr style=\"text-align: right;\">\n",
       "      <th></th>\n",
       "      <th>Age</th>\n",
       "      <th>Job</th>\n",
       "      <th>Marital</th>\n",
       "      <th>Education</th>\n",
       "      <th>Default</th>\n",
       "      <th>Balance</th>\n",
       "      <th>HHInsurance</th>\n",
       "      <th>CarLoan</th>\n",
       "      <th>NoOfContacts</th>\n",
       "      <th>DaysPassed</th>\n",
       "      <th>PrevAttempts</th>\n",
       "      <th>call_duration</th>\n",
       "      <th>CarInsurance</th>\n",
       "    </tr>\n",
       "  </thead>\n",
       "  <tbody>\n",
       "    <tr>\n",
       "      <th>0</th>\n",
       "      <td>32</td>\n",
       "      <td>management</td>\n",
       "      <td>single</td>\n",
       "      <td>tertiary</td>\n",
       "      <td>0</td>\n",
       "      <td>1218</td>\n",
       "      <td>1</td>\n",
       "      <td>0</td>\n",
       "      <td>2</td>\n",
       "      <td>-1</td>\n",
       "      <td>0</td>\n",
       "      <td>1</td>\n",
       "      <td>0</td>\n",
       "    </tr>\n",
       "    <tr>\n",
       "      <th>1</th>\n",
       "      <td>32</td>\n",
       "      <td>blue-collar</td>\n",
       "      <td>married</td>\n",
       "      <td>primary</td>\n",
       "      <td>0</td>\n",
       "      <td>1156</td>\n",
       "      <td>1</td>\n",
       "      <td>0</td>\n",
       "      <td>5</td>\n",
       "      <td>-1</td>\n",
       "      <td>0</td>\n",
       "      <td>3</td>\n",
       "      <td>0</td>\n",
       "    </tr>\n",
       "  </tbody>\n",
       "</table>\n",
       "</div>"
      ],
      "text/plain": [
       "   Age          Job  Marital Education  Default  Balance  HHInsurance  \\\n",
       "0   32   management   single  tertiary        0     1218            1   \n",
       "1   32  blue-collar  married   primary        0     1156            1   \n",
       "\n",
       "   CarLoan  NoOfContacts  DaysPassed  PrevAttempts  call_duration  \\\n",
       "0        0             2          -1             0              1   \n",
       "1        0             5          -1             0              3   \n",
       "\n",
       "   CarInsurance  \n",
       "0             0  \n",
       "1             0  "
      ]
     },
     "execution_count": 184,
     "metadata": {},
     "output_type": "execute_result"
    }
   ],
   "source": [
    "car_insurance_df_NN = car_insurance_df.copy()\n",
    "car_insurance_df_NN.head(2)"
   ]
  },
  {
   "cell_type": "code",
   "execution_count": 185,
   "id": "466cba17",
   "metadata": {},
   "outputs": [
    {
     "data": {
      "text/plain": [
       "array(['single', 'married', 'divorced'], dtype=object)"
      ]
     },
     "execution_count": 185,
     "metadata": {},
     "output_type": "execute_result"
    }
   ],
   "source": [
    "car_insurance_df_NN['Marital'].unique()"
   ]
  },
  {
   "cell_type": "code",
   "execution_count": 186,
   "id": "00e8848c",
   "metadata": {},
   "outputs": [],
   "source": [
    "le = preprocessing.LabelEncoder()\n",
    "##(['Job', 'Marital', 'Education])\n",
    "car_insurance_df_NN['Job'] = le.fit_transform(car_insurance_df_NN['Job'])\n",
    "car_insurance_df_NN['Marital'] = le.fit_transform(car_insurance_df_NN['Marital'])\n",
    "car_insurance_df_NN['Education'] = le.fit_transform(car_insurance_df_NN['Education'])"
   ]
  },
  {
   "cell_type": "code",
   "execution_count": 187,
   "id": "0b106b75",
   "metadata": {},
   "outputs": [],
   "source": [
    "X = car_insurance_df_NN[predictors]\n",
    "y = car_insurance_df_NN[outcome]\n",
    "X_train, X_test, y_train, y_test= train_test_split(X, y, test_size = 0.4, random_state = 2)"
   ]
  },
  {
   "cell_type": "code",
   "execution_count": 188,
   "id": "ded6dab4",
   "metadata": {},
   "outputs": [
    {
     "name": "stdout",
     "output_type": "stream",
     "text": [
      "Confusion Matrix (Accuracy 0.7897)\n",
      "\n",
      "       Prediction\n",
      "Actual    0    1\n",
      "     0 1132  238\n",
      "     1  244  678\n",
      "None\n",
      "Confusion Matrix (Accuracy 0.7906)\n",
      "\n",
      "       Prediction\n",
      "Actual   0   1\n",
      "     0 770 159\n",
      "     1 161 438\n",
      "None\n"
     ]
    }
   ],
   "source": [
    "clf = MLPClassifier(hidden_layer_sizes=(6), activation='logistic', solver='lbfgs',\n",
    "                    random_state=3, max_iter = 5000)\n",
    "clf.fit(X_train, y_train.values)\n",
    "\n",
    "# training performance (use idxmax to revert the one-hot-encoding)\n",
    "print(classificationSummary(y_train.values, clf.predict(X_train)))\n",
    "\n",
    "# validation performance\n",
    "print(classificationSummary(y_test, clf.predict(X_test)))"
   ]
  },
  {
   "cell_type": "code",
   "execution_count": 189,
   "id": "a399a1bc",
   "metadata": {},
   "outputs": [
    {
     "data": {
      "text/html": [
       "<div>\n",
       "<style scoped>\n",
       "    .dataframe tbody tr th:only-of-type {\n",
       "        vertical-align: middle;\n",
       "    }\n",
       "\n",
       "    .dataframe tbody tr th {\n",
       "        vertical-align: top;\n",
       "    }\n",
       "\n",
       "    .dataframe thead th {\n",
       "        text-align: right;\n",
       "    }\n",
       "</style>\n",
       "<table border=\"1\" class=\"dataframe\">\n",
       "  <thead>\n",
       "    <tr style=\"text-align: right;\">\n",
       "      <th></th>\n",
       "      <th>Age</th>\n",
       "      <th>Job</th>\n",
       "      <th>Marital</th>\n",
       "      <th>Education</th>\n",
       "      <th>Default</th>\n",
       "      <th>Balance</th>\n",
       "      <th>HHInsurance</th>\n",
       "      <th>CarLoan</th>\n",
       "      <th>NoOfContacts</th>\n",
       "      <th>DaysPassed</th>\n",
       "      <th>PrevAttempts</th>\n",
       "      <th>call_duration</th>\n",
       "      <th>CarInsurance</th>\n",
       "    </tr>\n",
       "  </thead>\n",
       "  <tbody>\n",
       "    <tr>\n",
       "      <th>0</th>\n",
       "      <td>32</td>\n",
       "      <td>management</td>\n",
       "      <td>single</td>\n",
       "      <td>tertiary</td>\n",
       "      <td>0</td>\n",
       "      <td>1218</td>\n",
       "      <td>1</td>\n",
       "      <td>0</td>\n",
       "      <td>2</td>\n",
       "      <td>-1</td>\n",
       "      <td>0</td>\n",
       "      <td>1</td>\n",
       "      <td>0</td>\n",
       "    </tr>\n",
       "    <tr>\n",
       "      <th>1</th>\n",
       "      <td>32</td>\n",
       "      <td>blue-collar</td>\n",
       "      <td>married</td>\n",
       "      <td>primary</td>\n",
       "      <td>0</td>\n",
       "      <td>1156</td>\n",
       "      <td>1</td>\n",
       "      <td>0</td>\n",
       "      <td>5</td>\n",
       "      <td>-1</td>\n",
       "      <td>0</td>\n",
       "      <td>3</td>\n",
       "      <td>0</td>\n",
       "    </tr>\n",
       "  </tbody>\n",
       "</table>\n",
       "</div>"
      ],
      "text/plain": [
       "   Age          Job  Marital Education  Default  Balance  HHInsurance  \\\n",
       "0   32   management   single  tertiary        0     1218            1   \n",
       "1   32  blue-collar  married   primary        0     1156            1   \n",
       "\n",
       "   CarLoan  NoOfContacts  DaysPassed  PrevAttempts  call_duration  \\\n",
       "0        0             2          -1             0              1   \n",
       "1        0             5          -1             0              3   \n",
       "\n",
       "   CarInsurance  \n",
       "0             0  \n",
       "1             0  "
      ]
     },
     "execution_count": 189,
     "metadata": {},
     "output_type": "execute_result"
    }
   ],
   "source": [
    "car_insurance_df_NN_1 = car_insurance_df.copy()\n",
    "car_insurance_df_NN_1.head(2)"
   ]
  },
  {
   "cell_type": "code",
   "execution_count": 190,
   "id": "0e054aa5",
   "metadata": {},
   "outputs": [],
   "source": [
    "# partitioning data in X and y \n",
    "X = car_insurance_df_NN_1[predictors]\n",
    "y = car_insurance_df_NN_1[outcome]"
   ]
  },
  {
   "cell_type": "code",
   "execution_count": 191,
   "id": "3158eeed",
   "metadata": {},
   "outputs": [
    {
     "data": {
      "text/html": [
       "<div>\n",
       "<style scoped>\n",
       "    .dataframe tbody tr th:only-of-type {\n",
       "        vertical-align: middle;\n",
       "    }\n",
       "\n",
       "    .dataframe tbody tr th {\n",
       "        vertical-align: top;\n",
       "    }\n",
       "\n",
       "    .dataframe thead th {\n",
       "        text-align: right;\n",
       "    }\n",
       "</style>\n",
       "<table border=\"1\" class=\"dataframe\">\n",
       "  <thead>\n",
       "    <tr style=\"text-align: right;\">\n",
       "      <th></th>\n",
       "      <th>Age</th>\n",
       "      <th>Default</th>\n",
       "      <th>Balance</th>\n",
       "      <th>HHInsurance</th>\n",
       "      <th>CarLoan</th>\n",
       "      <th>NoOfContacts</th>\n",
       "      <th>DaysPassed</th>\n",
       "      <th>PrevAttempts</th>\n",
       "      <th>call_duration</th>\n",
       "      <th>Job_blue-collar</th>\n",
       "      <th>...</th>\n",
       "      <th>Job_retired</th>\n",
       "      <th>Job_self-employed</th>\n",
       "      <th>Job_services</th>\n",
       "      <th>Job_student</th>\n",
       "      <th>Job_technician</th>\n",
       "      <th>Job_unemployed</th>\n",
       "      <th>Marital_married</th>\n",
       "      <th>Marital_single</th>\n",
       "      <th>Education_secondary</th>\n",
       "      <th>Education_tertiary</th>\n",
       "    </tr>\n",
       "  </thead>\n",
       "  <tbody>\n",
       "    <tr>\n",
       "      <th>0</th>\n",
       "      <td>32</td>\n",
       "      <td>0</td>\n",
       "      <td>1218</td>\n",
       "      <td>1</td>\n",
       "      <td>0</td>\n",
       "      <td>2</td>\n",
       "      <td>-1</td>\n",
       "      <td>0</td>\n",
       "      <td>1</td>\n",
       "      <td>0</td>\n",
       "      <td>...</td>\n",
       "      <td>0</td>\n",
       "      <td>0</td>\n",
       "      <td>0</td>\n",
       "      <td>0</td>\n",
       "      <td>0</td>\n",
       "      <td>0</td>\n",
       "      <td>0</td>\n",
       "      <td>1</td>\n",
       "      <td>0</td>\n",
       "      <td>1</td>\n",
       "    </tr>\n",
       "    <tr>\n",
       "      <th>1</th>\n",
       "      <td>32</td>\n",
       "      <td>0</td>\n",
       "      <td>1156</td>\n",
       "      <td>1</td>\n",
       "      <td>0</td>\n",
       "      <td>5</td>\n",
       "      <td>-1</td>\n",
       "      <td>0</td>\n",
       "      <td>3</td>\n",
       "      <td>1</td>\n",
       "      <td>...</td>\n",
       "      <td>0</td>\n",
       "      <td>0</td>\n",
       "      <td>0</td>\n",
       "      <td>0</td>\n",
       "      <td>0</td>\n",
       "      <td>0</td>\n",
       "      <td>1</td>\n",
       "      <td>0</td>\n",
       "      <td>0</td>\n",
       "      <td>0</td>\n",
       "    </tr>\n",
       "    <tr>\n",
       "      <th>2</th>\n",
       "      <td>29</td>\n",
       "      <td>0</td>\n",
       "      <td>637</td>\n",
       "      <td>1</td>\n",
       "      <td>0</td>\n",
       "      <td>1</td>\n",
       "      <td>119</td>\n",
       "      <td>1</td>\n",
       "      <td>6</td>\n",
       "      <td>0</td>\n",
       "      <td>...</td>\n",
       "      <td>0</td>\n",
       "      <td>0</td>\n",
       "      <td>0</td>\n",
       "      <td>0</td>\n",
       "      <td>0</td>\n",
       "      <td>0</td>\n",
       "      <td>0</td>\n",
       "      <td>1</td>\n",
       "      <td>0</td>\n",
       "      <td>1</td>\n",
       "    </tr>\n",
       "    <tr>\n",
       "      <th>3</th>\n",
       "      <td>25</td>\n",
       "      <td>0</td>\n",
       "      <td>373</td>\n",
       "      <td>1</td>\n",
       "      <td>0</td>\n",
       "      <td>2</td>\n",
       "      <td>-1</td>\n",
       "      <td>0</td>\n",
       "      <td>14</td>\n",
       "      <td>0</td>\n",
       "      <td>...</td>\n",
       "      <td>0</td>\n",
       "      <td>0</td>\n",
       "      <td>0</td>\n",
       "      <td>1</td>\n",
       "      <td>0</td>\n",
       "      <td>0</td>\n",
       "      <td>0</td>\n",
       "      <td>1</td>\n",
       "      <td>0</td>\n",
       "      <td>0</td>\n",
       "    </tr>\n",
       "    <tr>\n",
       "      <th>4</th>\n",
       "      <td>30</td>\n",
       "      <td>0</td>\n",
       "      <td>2694</td>\n",
       "      <td>0</td>\n",
       "      <td>0</td>\n",
       "      <td>1</td>\n",
       "      <td>-1</td>\n",
       "      <td>0</td>\n",
       "      <td>3</td>\n",
       "      <td>0</td>\n",
       "      <td>...</td>\n",
       "      <td>0</td>\n",
       "      <td>0</td>\n",
       "      <td>0</td>\n",
       "      <td>0</td>\n",
       "      <td>0</td>\n",
       "      <td>0</td>\n",
       "      <td>1</td>\n",
       "      <td>0</td>\n",
       "      <td>0</td>\n",
       "      <td>1</td>\n",
       "    </tr>\n",
       "    <tr>\n",
       "      <th>...</th>\n",
       "      <td>...</td>\n",
       "      <td>...</td>\n",
       "      <td>...</td>\n",
       "      <td>...</td>\n",
       "      <td>...</td>\n",
       "      <td>...</td>\n",
       "      <td>...</td>\n",
       "      <td>...</td>\n",
       "      <td>...</td>\n",
       "      <td>...</td>\n",
       "      <td>...</td>\n",
       "      <td>...</td>\n",
       "      <td>...</td>\n",
       "      <td>...</td>\n",
       "      <td>...</td>\n",
       "      <td>...</td>\n",
       "      <td>...</td>\n",
       "      <td>...</td>\n",
       "      <td>...</td>\n",
       "      <td>...</td>\n",
       "      <td>...</td>\n",
       "    </tr>\n",
       "    <tr>\n",
       "      <th>3995</th>\n",
       "      <td>28</td>\n",
       "      <td>0</td>\n",
       "      <td>0</td>\n",
       "      <td>1</td>\n",
       "      <td>0</td>\n",
       "      <td>1</td>\n",
       "      <td>40</td>\n",
       "      <td>2</td>\n",
       "      <td>4</td>\n",
       "      <td>0</td>\n",
       "      <td>...</td>\n",
       "      <td>0</td>\n",
       "      <td>0</td>\n",
       "      <td>0</td>\n",
       "      <td>0</td>\n",
       "      <td>1</td>\n",
       "      <td>0</td>\n",
       "      <td>0</td>\n",
       "      <td>1</td>\n",
       "      <td>0</td>\n",
       "      <td>1</td>\n",
       "    </tr>\n",
       "    <tr>\n",
       "      <th>3996</th>\n",
       "      <td>49</td>\n",
       "      <td>0</td>\n",
       "      <td>124</td>\n",
       "      <td>1</td>\n",
       "      <td>1</td>\n",
       "      <td>19</td>\n",
       "      <td>-1</td>\n",
       "      <td>0</td>\n",
       "      <td>2</td>\n",
       "      <td>0</td>\n",
       "      <td>...</td>\n",
       "      <td>0</td>\n",
       "      <td>0</td>\n",
       "      <td>0</td>\n",
       "      <td>0</td>\n",
       "      <td>0</td>\n",
       "      <td>0</td>\n",
       "      <td>0</td>\n",
       "      <td>0</td>\n",
       "      <td>1</td>\n",
       "      <td>0</td>\n",
       "    </tr>\n",
       "    <tr>\n",
       "      <th>3997</th>\n",
       "      <td>27</td>\n",
       "      <td>0</td>\n",
       "      <td>-400</td>\n",
       "      <td>0</td>\n",
       "      <td>1</td>\n",
       "      <td>1</td>\n",
       "      <td>-1</td>\n",
       "      <td>0</td>\n",
       "      <td>5</td>\n",
       "      <td>0</td>\n",
       "      <td>...</td>\n",
       "      <td>0</td>\n",
       "      <td>0</td>\n",
       "      <td>0</td>\n",
       "      <td>0</td>\n",
       "      <td>0</td>\n",
       "      <td>0</td>\n",
       "      <td>0</td>\n",
       "      <td>1</td>\n",
       "      <td>1</td>\n",
       "      <td>0</td>\n",
       "    </tr>\n",
       "    <tr>\n",
       "      <th>3998</th>\n",
       "      <td>36</td>\n",
       "      <td>0</td>\n",
       "      <td>658</td>\n",
       "      <td>1</td>\n",
       "      <td>0</td>\n",
       "      <td>1</td>\n",
       "      <td>227</td>\n",
       "      <td>3</td>\n",
       "      <td>2</td>\n",
       "      <td>0</td>\n",
       "      <td>...</td>\n",
       "      <td>0</td>\n",
       "      <td>0</td>\n",
       "      <td>0</td>\n",
       "      <td>0</td>\n",
       "      <td>0</td>\n",
       "      <td>0</td>\n",
       "      <td>0</td>\n",
       "      <td>1</td>\n",
       "      <td>0</td>\n",
       "      <td>1</td>\n",
       "    </tr>\n",
       "    <tr>\n",
       "      <th>3999</th>\n",
       "      <td>45</td>\n",
       "      <td>0</td>\n",
       "      <td>137</td>\n",
       "      <td>1</td>\n",
       "      <td>0</td>\n",
       "      <td>2</td>\n",
       "      <td>-1</td>\n",
       "      <td>0</td>\n",
       "      <td>5</td>\n",
       "      <td>0</td>\n",
       "      <td>...</td>\n",
       "      <td>0</td>\n",
       "      <td>0</td>\n",
       "      <td>1</td>\n",
       "      <td>0</td>\n",
       "      <td>0</td>\n",
       "      <td>0</td>\n",
       "      <td>1</td>\n",
       "      <td>0</td>\n",
       "      <td>0</td>\n",
       "      <td>0</td>\n",
       "    </tr>\n",
       "  </tbody>\n",
       "</table>\n",
       "<p>3820 rows × 23 columns</p>\n",
       "</div>"
      ],
      "text/plain": [
       "      Age  Default  Balance  HHInsurance  CarLoan  NoOfContacts  DaysPassed  \\\n",
       "0      32        0     1218            1        0             2          -1   \n",
       "1      32        0     1156            1        0             5          -1   \n",
       "2      29        0      637            1        0             1         119   \n",
       "3      25        0      373            1        0             2          -1   \n",
       "4      30        0     2694            0        0             1          -1   \n",
       "...   ...      ...      ...          ...      ...           ...         ...   \n",
       "3995   28        0        0            1        0             1          40   \n",
       "3996   49        0      124            1        1            19          -1   \n",
       "3997   27        0     -400            0        1             1          -1   \n",
       "3998   36        0      658            1        0             1         227   \n",
       "3999   45        0      137            1        0             2          -1   \n",
       "\n",
       "      PrevAttempts  call_duration  Job_blue-collar  ...  Job_retired  \\\n",
       "0                0              1                0  ...            0   \n",
       "1                0              3                1  ...            0   \n",
       "2                1              6                0  ...            0   \n",
       "3                0             14                0  ...            0   \n",
       "4                0              3                0  ...            0   \n",
       "...            ...            ...              ...  ...          ...   \n",
       "3995             2              4                0  ...            0   \n",
       "3996             0              2                0  ...            0   \n",
       "3997             0              5                0  ...            0   \n",
       "3998             3              2                0  ...            0   \n",
       "3999             0              5                0  ...            0   \n",
       "\n",
       "      Job_self-employed  Job_services  Job_student  Job_technician  \\\n",
       "0                     0             0            0               0   \n",
       "1                     0             0            0               0   \n",
       "2                     0             0            0               0   \n",
       "3                     0             0            1               0   \n",
       "4                     0             0            0               0   \n",
       "...                 ...           ...          ...             ...   \n",
       "3995                  0             0            0               1   \n",
       "3996                  0             0            0               0   \n",
       "3997                  0             0            0               0   \n",
       "3998                  0             0            0               0   \n",
       "3999                  0             1            0               0   \n",
       "\n",
       "      Job_unemployed  Marital_married  Marital_single  Education_secondary  \\\n",
       "0                  0                0               1                    0   \n",
       "1                  0                1               0                    0   \n",
       "2                  0                0               1                    0   \n",
       "3                  0                0               1                    0   \n",
       "4                  0                1               0                    0   \n",
       "...              ...              ...             ...                  ...   \n",
       "3995               0                0               1                    0   \n",
       "3996               0                0               0                    1   \n",
       "3997               0                0               1                    1   \n",
       "3998               0                0               1                    0   \n",
       "3999               0                1               0                    0   \n",
       "\n",
       "      Education_tertiary  \n",
       "0                      1  \n",
       "1                      0  \n",
       "2                      1  \n",
       "3                      0  \n",
       "4                      1  \n",
       "...                  ...  \n",
       "3995                   1  \n",
       "3996                   0  \n",
       "3997                   0  \n",
       "3998                   1  \n",
       "3999                   0  \n",
       "\n",
       "[3820 rows x 23 columns]"
      ]
     },
     "execution_count": 191,
     "metadata": {},
     "output_type": "execute_result"
    }
   ],
   "source": [
    "processed_new = pd.get_dummies(X, columns=['Job', 'Marital', 'Education'], drop_first = True)\n",
    "processed_new"
   ]
  },
  {
   "cell_type": "code",
   "execution_count": 241,
   "id": "562be437",
   "metadata": {},
   "outputs": [],
   "source": [
    "# Splitting the data in training and testing data  \n",
    "X_train, X_test, y_train, y_test= train_test_split(processed_new, y, test_size = 0.4, random_state = 2)"
   ]
  },
  {
   "cell_type": "code",
   "execution_count": 242,
   "id": "8a1b1b18",
   "metadata": {},
   "outputs": [
    {
     "name": "stdout",
     "output_type": "stream",
     "text": [
      "Confusion Matrix (Accuracy 0.7971)\n",
      "\n",
      "       Prediction\n",
      "Actual    0    1\n",
      "     0 1117  253\n",
      "     1  212  710\n",
      "None\n",
      "Confusion Matrix (Accuracy 0.8024)\n",
      "\n",
      "       Prediction\n",
      "Actual   0   1\n",
      "     0 765 164\n",
      "     1 138 461\n",
      "None\n"
     ]
    }
   ],
   "source": [
    "clf = MLPClassifier(hidden_layer_sizes=(1), activation='logistic', solver='lbfgs',\n",
    "                    random_state=3, max_iter = 5000)\n",
    "clf.fit(X_train, y_train.values)\n",
    "\n",
    "# training performance (use idxmax to revert the one-hot-encoding)\n",
    "print(classificationSummary(y_train.values, clf.predict(X_train)))\n",
    "\n",
    "# validation performance\n",
    "print(classificationSummary(y_test, clf.predict(X_test)))"
   ]
  },
  {
   "cell_type": "code",
   "execution_count": 243,
   "id": "85fc8a45",
   "metadata": {},
   "outputs": [
    {
     "name": "stdout",
     "output_type": "stream",
     "text": [
      "   Hidden_layers  Training_acc  Teating_acc  F1_score\n",
      "0              1      0.797120     0.802356  0.753268\n",
      "1              2      0.794503     0.800393  0.751020\n",
      "2              3      0.795375     0.803665  0.752475\n",
      "3              4      0.751309     0.752618  0.723280\n",
      "4              5      0.797993     0.802356  0.747492\n"
     ]
    }
   ],
   "source": [
    "# Hyperparameter Tuning for differnt values of hidden layers and calculating the training, testing accuracy and F1_score \n",
    "i_values = []\n",
    "training_accuracy = []\n",
    "testing_accuracy = []\n",
    "f_score = []\n",
    "\n",
    "for i in range (1,6):\n",
    "    clf = MLPClassifier(hidden_layer_sizes=(i), activation='logistic', solver='lbfgs',\n",
    "                    random_state=3, max_iter = 5000)\n",
    "    clf.fit(X_train, y_train.values)\n",
    "    i_values.append(i)\n",
    "    training_accuracy.append(accuracy_score(y_train.values, clf.predict(X_train)))\n",
    "    testing_accuracy.append(accuracy_score(y_test, clf.predict(X_test)))\n",
    "    f_score.append(f1_score(y_test, clf.predict(X_test)))\n",
    "print(pd.DataFrame({'Hidden_layers': i_values, 'Training_acc' : training_accuracy, 'Teating_acc': testing_accuracy, 'F1_score': f_score}))"
   ]
  },
  {
   "cell_type": "code",
   "execution_count": 244,
   "id": "28ea0452",
   "metadata": {},
   "outputs": [
    {
     "data": {
      "text/html": [
       "<style>#sk-container-id-30 {color: black;background-color: white;}#sk-container-id-30 pre{padding: 0;}#sk-container-id-30 div.sk-toggleable {background-color: white;}#sk-container-id-30 label.sk-toggleable__label {cursor: pointer;display: block;width: 100%;margin-bottom: 0;padding: 0.3em;box-sizing: border-box;text-align: center;}#sk-container-id-30 label.sk-toggleable__label-arrow:before {content: \"▸\";float: left;margin-right: 0.25em;color: #696969;}#sk-container-id-30 label.sk-toggleable__label-arrow:hover:before {color: black;}#sk-container-id-30 div.sk-estimator:hover label.sk-toggleable__label-arrow:before {color: black;}#sk-container-id-30 div.sk-toggleable__content {max-height: 0;max-width: 0;overflow: hidden;text-align: left;background-color: #f0f8ff;}#sk-container-id-30 div.sk-toggleable__content pre {margin: 0.2em;color: black;border-radius: 0.25em;background-color: #f0f8ff;}#sk-container-id-30 input.sk-toggleable__control:checked~div.sk-toggleable__content {max-height: 200px;max-width: 100%;overflow: auto;}#sk-container-id-30 input.sk-toggleable__control:checked~label.sk-toggleable__label-arrow:before {content: \"▾\";}#sk-container-id-30 div.sk-estimator input.sk-toggleable__control:checked~label.sk-toggleable__label {background-color: #d4ebff;}#sk-container-id-30 div.sk-label input.sk-toggleable__control:checked~label.sk-toggleable__label {background-color: #d4ebff;}#sk-container-id-30 input.sk-hidden--visually {border: 0;clip: rect(1px 1px 1px 1px);clip: rect(1px, 1px, 1px, 1px);height: 1px;margin: -1px;overflow: hidden;padding: 0;position: absolute;width: 1px;}#sk-container-id-30 div.sk-estimator {font-family: monospace;background-color: #f0f8ff;border: 1px dotted black;border-radius: 0.25em;box-sizing: border-box;margin-bottom: 0.5em;}#sk-container-id-30 div.sk-estimator:hover {background-color: #d4ebff;}#sk-container-id-30 div.sk-parallel-item::after {content: \"\";width: 100%;border-bottom: 1px solid gray;flex-grow: 1;}#sk-container-id-30 div.sk-label:hover label.sk-toggleable__label {background-color: #d4ebff;}#sk-container-id-30 div.sk-serial::before {content: \"\";position: absolute;border-left: 1px solid gray;box-sizing: border-box;top: 0;bottom: 0;left: 50%;z-index: 0;}#sk-container-id-30 div.sk-serial {display: flex;flex-direction: column;align-items: center;background-color: white;padding-right: 0.2em;padding-left: 0.2em;position: relative;}#sk-container-id-30 div.sk-item {position: relative;z-index: 1;}#sk-container-id-30 div.sk-parallel {display: flex;align-items: stretch;justify-content: center;background-color: white;position: relative;}#sk-container-id-30 div.sk-item::before, #sk-container-id-30 div.sk-parallel-item::before {content: \"\";position: absolute;border-left: 1px solid gray;box-sizing: border-box;top: 0;bottom: 0;left: 50%;z-index: -1;}#sk-container-id-30 div.sk-parallel-item {display: flex;flex-direction: column;z-index: 1;position: relative;background-color: white;}#sk-container-id-30 div.sk-parallel-item:first-child::after {align-self: flex-end;width: 50%;}#sk-container-id-30 div.sk-parallel-item:last-child::after {align-self: flex-start;width: 50%;}#sk-container-id-30 div.sk-parallel-item:only-child::after {width: 0;}#sk-container-id-30 div.sk-dashed-wrapped {border: 1px dashed gray;margin: 0 0.4em 0.5em 0.4em;box-sizing: border-box;padding-bottom: 0.4em;background-color: white;}#sk-container-id-30 div.sk-label label {font-family: monospace;font-weight: bold;display: inline-block;line-height: 1.2em;}#sk-container-id-30 div.sk-label-container {text-align: center;}#sk-container-id-30 div.sk-container {/* jupyter's `normalize.less` sets `[hidden] { display: none; }` but bootstrap.min.css set `[hidden] { display: none !important; }` so we also need the `!important` here to be able to override the default hidden behavior on the sphinx rendered scikit-learn.org. See: https://github.com/scikit-learn/scikit-learn/issues/21755 */display: inline-block !important;position: relative;}#sk-container-id-30 div.sk-text-repr-fallback {display: none;}</style><div id=\"sk-container-id-30\" class=\"sk-top-container\"><div class=\"sk-text-repr-fallback\"><pre>MLPClassifier(activation=&#x27;logistic&#x27;, hidden_layer_sizes=1, max_iter=5000,\n",
       "              random_state=3, solver=&#x27;lbfgs&#x27;)</pre><b>In a Jupyter environment, please rerun this cell to show the HTML representation or trust the notebook. <br />On GitHub, the HTML representation is unable to render, please try loading this page with nbviewer.org.</b></div><div class=\"sk-container\" hidden><div class=\"sk-item\"><div class=\"sk-estimator sk-toggleable\"><input class=\"sk-toggleable__control sk-hidden--visually\" id=\"sk-estimator-id-34\" type=\"checkbox\" checked><label for=\"sk-estimator-id-34\" class=\"sk-toggleable__label sk-toggleable__label-arrow\">MLPClassifier</label><div class=\"sk-toggleable__content\"><pre>MLPClassifier(activation=&#x27;logistic&#x27;, hidden_layer_sizes=1, max_iter=5000,\n",
       "              random_state=3, solver=&#x27;lbfgs&#x27;)</pre></div></div></div></div></div>"
      ],
      "text/plain": [
       "MLPClassifier(activation='logistic', hidden_layer_sizes=1, max_iter=5000,\n",
       "              random_state=3, solver='lbfgs')"
      ]
     },
     "execution_count": 244,
     "metadata": {},
     "output_type": "execute_result"
    }
   ],
   "source": [
    "clf = MLPClassifier(hidden_layer_sizes=(1), activation='logistic', solver='lbfgs',\n",
    "                    random_state=3, max_iter = 5000)\n",
    "clf.fit(X_train, y_train.values)"
   ]
  },
  {
   "cell_type": "code",
   "execution_count": 245,
   "id": "702c5ec4",
   "metadata": {},
   "outputs": [
    {
     "data": {
      "image/png": "[encoded data removed]",
      "text/plain": [
       "<Figure size 432x288 with 1 Axes>"
      ]
     },
     "metadata": {
      "needs_background": "light"
     },
     "output_type": "display_data"
    }
   ],
   "source": [
    "NN_probs = clf.predict_proba(X_test)\n",
    "NN_probs = NN_probs[:, 1]\n",
    "\n",
    "NN_auc = roc_auc_score(y_test, NN_probs)\n",
    "\n",
    "NN_fpr, NN_tpr, _ = roc_curve(y_test, NN_probs)\n",
    "pyplot.plot(NN_fpr, NN_tpr, marker = '.', label = 'Neural Network')\n",
    "pyplot.show()"
   ]
  },
  {
   "cell_type": "markdown",
   "id": "a33941ea",
   "metadata": {},
   "source": [
    "# Applying LDA "
   ]
  },
  {
   "cell_type": "code",
   "execution_count": 197,
   "id": "db5466bc",
   "metadata": {},
   "outputs": [],
   "source": [
    "from pathlib import Path\n",
    "\n",
    "import numpy as np\n",
    "import pandas as pd\n",
    "from sklearn.discriminant_analysis import LinearDiscriminantAnalysis\n",
    "import matplotlib.pylab as plt\n",
    "\n",
    "import dmba\n",
    "from dmba import classificationSummary\n",
    "\n",
    "%matplotlib inline"
   ]
  },
  {
   "cell_type": "code",
   "execution_count": 198,
   "id": "8742e4d6",
   "metadata": {},
   "outputs": [],
   "source": [
    "car_insurance_df_LDA = car_insurance_df.copy()"
   ]
  },
  {
   "cell_type": "code",
   "execution_count": 199,
   "id": "225dee45",
   "metadata": {},
   "outputs": [],
   "source": [
    "le = preprocessing.LabelEncoder()\n",
    "##(['Job', 'Marital', 'Education])\n",
    "car_insurance_df_LDA['Job'] = le.fit_transform(car_insurance_df_LDA['Job'])\n",
    "car_insurance_df_LDA['Marital'] = le.fit_transform(car_insurance_df_LDA['Marital'])\n",
    "car_insurance_df_LDA['Education'] = le.fit_transform(car_insurance_df_LDA['Education'])"
   ]
  },
  {
   "cell_type": "code",
   "execution_count": 200,
   "id": "4af48f45",
   "metadata": {},
   "outputs": [],
   "source": [
    "X = car_insurance_df_NN[predictors]\n",
    "y = car_insurance_df_NN[outcome]\n",
    "X_train, X_test, y_train, y_test= train_test_split(X, y, test_size = 0.4, random_state = 4)"
   ]
  },
  {
   "cell_type": "code",
   "execution_count": 247,
   "id": "35d49889",
   "metadata": {},
   "outputs": [
    {
     "name": "stdout",
     "output_type": "stream",
     "text": [
      "Training_Accuracy:  0.7792321116928447\n",
      "Testing_Accuracy:  0.7964659685863874\n",
      "F1_score:  0.7085285848172447\n"
     ]
    }
   ],
   "source": [
    "## Applying Linear discriminant analysis \n",
    "da_reg = LinearDiscriminantAnalysis()\n",
    "da_reg.fit(X_train, y_train)\n",
    "\n",
    "y_pred = da_reg.predict(X_test)\n",
    "print(\"Training_Accuracy: \", accuracy_score(da_reg.predict(X_train), y_train))\n",
    "print(\"Testing_Accuracy: \", accuracy_score(y_test, y_pred))\n",
    "print(\"F1_score: \", f1_score(y_test, y_pred))"
   ]
  },
  {
   "cell_type": "code",
   "execution_count": 248,
   "id": "2108eab3",
   "metadata": {},
   "outputs": [
    {
     "data": {
      "image/png": "[encoded data removed]",
      "text/plain": [
       "<Figure size 432x288 with 1 Axes>"
      ]
     },
     "metadata": {
      "needs_background": "light"
     },
     "output_type": "display_data"
    }
   ],
   "source": [
    "# ROC curve for LDA\n",
    "lda_probs = da_reg.predict_proba(X_test)\n",
    "lda_probs = lda_probs[:, 1]\n",
    "\n",
    "lda_auc = roc_auc_score(y_test, lda_probs)\n",
    "\n",
    "lda_fpr, lda_tpr, _ = roc_curve(y_test, lda_probs)\n",
    "pyplot.plot(lda_fpr, lda_tpr, marker = '.', label = 'LDA')\n",
    "pyplot.show() "
   ]
  },
  {
   "cell_type": "code",
   "execution_count": 250,
   "id": "eeae8afe",
   "metadata": {},
   "outputs": [
    {
     "data": {
      "image/png": "[encoded data removed]",
      "text/plain": [
       "<Figure size 432x288 with 1 Axes>"
      ]
     },
     "metadata": {
      "needs_background": "light"
     },
     "output_type": "display_data"
    }
   ],
   "source": [
    "# Comparing ROC curve for models with good accuracy\n",
    "\n",
    "pyplot.plot(KNN_fpr, KNN_tpr, marker = '.', label = 'KNN')\n",
    "pyplot.plot(CART_fpr, CART_tpr, marker = '.', label = 'CART')\n",
    "pyplot.plot(lr_fpr, lr_tpr, marker = '.', label = 'Logistic_Regreesion')\n",
    "pyplot.plot(NN_fpr, NN_tpr, marker = '.', label = 'Neural Network')\n",
    "pyplot.xlabel('False Positive Rate')\n",
    "pyplot.ylabel('True Positive Rate')\n",
    "pyplot.legend()\n",
    "pyplot.show()"
   ]
  },
  {
   "cell_type": "markdown",
   "id": "484e98aa",
   "metadata": {},
   "source": [
    "**From ROC curve, we can see that for Neural Network, Logistic regression, and KNN AUC is maximum. Depened on scenario and data points we have to choose the model.**"
   ]
  }
 ],
 "metadata": {
  "kernelspec": {
   "display_name": "Python 3 (ipykernel)",
   "language": "python",
   "name": "python3"
  },
  "language_info": {
   "codemirror_mode": {
    "name": "ipython",
    "version": 3
   },
   "file_extension": ".py",
   "mimetype": "text/x-python",
   "name": "python",
   "nbconvert_exporter": "python",
   "pygments_lexer": "ipython3",
   "version": "3.10.2"
  }
 },
 "nbformat": 4,
 "nbformat_minor": 5
}
